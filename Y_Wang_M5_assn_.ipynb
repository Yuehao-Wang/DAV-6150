{
 "cells": [
  {
   "cell_type": "markdown",
   "id": "07fa9216",
   "metadata": {},
   "source": [
    "# Introduction\n",
    "\n",
    "DAV 6150 Module 5 Assignment\n",
    "\n",
    "Understanding Classification Model Performance Metrics"
   ]
  },
  {
   "cell_type": "code",
   "execution_count": 1,
   "id": "f46738e6",
   "metadata": {},
   "outputs": [],
   "source": [
    "# Import pandas\n",
    "import pandas as pd\n",
    "\n",
    "# Import numpy\n",
    "import numpy as np\n",
    "\n",
    "# Import Seirs and DataFrame\n",
    "from pandas import Series, DataFrame\n",
    "\n",
    "# load the pyplot function from the matplotlib library\n",
    "import matplotlib.pyplot as plt\n",
    "\n",
    "# Import seaborn \n",
    "import seaborn as sns\n",
    "\n",
    "from sklearn.model_selection import (\n",
    "    train_test_split,\n",
    "    KFold\n",
    ")\n",
    "\n",
    "from sklearn import (\n",
    "    ensemble,\n",
    "    impute,\n",
    "    model_selection,    \n",
    "    preprocessing,\n",
    "    tree,\n",
    ")\n",
    "\n",
    "\n",
    "pd.set_option('display.max_columns', None)\n",
    "pd.set_option('mode.chained_assignment', None)\n",
    "\n",
    "%matplotlib inline \n",
    "%config InlineBackend.figure_format = 'retina'\n",
    "plt.style.use('seaborn')"
   ]
  },
  {
   "cell_type": "markdown",
   "id": "341dd171",
   "metadata": {},
   "source": [
    "# 1) Load data from github\n",
    "\n",
    "# 2) Load data into a Dataframe"
   ]
  },
  {
   "cell_type": "code",
   "execution_count": 2,
   "id": "b9610a79",
   "metadata": {},
   "outputs": [
    {
     "data": {
      "text/html": [
       "<div>\n",
       "<style scoped>\n",
       "    .dataframe tbody tr th:only-of-type {\n",
       "        vertical-align: middle;\n",
       "    }\n",
       "\n",
       "    .dataframe tbody tr th {\n",
       "        vertical-align: top;\n",
       "    }\n",
       "\n",
       "    .dataframe thead th {\n",
       "        text-align: right;\n",
       "    }\n",
       "</style>\n",
       "<table border=\"1\" class=\"dataframe\">\n",
       "  <thead>\n",
       "    <tr style=\"text-align: right;\">\n",
       "      <th></th>\n",
       "      <th>pregnant</th>\n",
       "      <th>glucose</th>\n",
       "      <th>diastolic</th>\n",
       "      <th>skinfold</th>\n",
       "      <th>insulin</th>\n",
       "      <th>bmi</th>\n",
       "      <th>pedigree</th>\n",
       "      <th>age</th>\n",
       "      <th>class</th>\n",
       "      <th>scored.class</th>\n",
       "      <th>scored.probability</th>\n",
       "    </tr>\n",
       "  </thead>\n",
       "  <tbody>\n",
       "    <tr>\n",
       "      <th>0</th>\n",
       "      <td>7</td>\n",
       "      <td>124</td>\n",
       "      <td>70</td>\n",
       "      <td>33</td>\n",
       "      <td>215</td>\n",
       "      <td>25.5</td>\n",
       "      <td>0.161</td>\n",
       "      <td>37</td>\n",
       "      <td>0</td>\n",
       "      <td>0</td>\n",
       "      <td>0.328452</td>\n",
       "    </tr>\n",
       "    <tr>\n",
       "      <th>1</th>\n",
       "      <td>2</td>\n",
       "      <td>122</td>\n",
       "      <td>76</td>\n",
       "      <td>27</td>\n",
       "      <td>200</td>\n",
       "      <td>35.9</td>\n",
       "      <td>0.483</td>\n",
       "      <td>26</td>\n",
       "      <td>0</td>\n",
       "      <td>0</td>\n",
       "      <td>0.273190</td>\n",
       "    </tr>\n",
       "    <tr>\n",
       "      <th>2</th>\n",
       "      <td>3</td>\n",
       "      <td>107</td>\n",
       "      <td>62</td>\n",
       "      <td>13</td>\n",
       "      <td>48</td>\n",
       "      <td>22.9</td>\n",
       "      <td>0.678</td>\n",
       "      <td>23</td>\n",
       "      <td>1</td>\n",
       "      <td>0</td>\n",
       "      <td>0.109660</td>\n",
       "    </tr>\n",
       "  </tbody>\n",
       "</table>\n",
       "</div>"
      ],
      "text/plain": [
       "   pregnant  glucose  diastolic  skinfold  insulin   bmi  pedigree  age  \\\n",
       "0         7      124         70        33      215  25.5     0.161   37   \n",
       "1         2      122         76        27      200  35.9     0.483   26   \n",
       "2         3      107         62        13       48  22.9     0.678   23   \n",
       "\n",
       "   class  scored.class  scored.probability  \n",
       "0      0             0            0.328452  \n",
       "1      0             0            0.273190  \n",
       "2      1             0            0.109660  "
      ]
     },
     "execution_count": 2,
     "metadata": {},
     "output_type": "execute_result"
    }
   ],
   "source": [
    "# Read the data from GitHub and create a data frame\n",
    "df = pd.read_csv('https://raw.githubusercontent.com/Yuehao-Wang/DAV-6150/main/data/M5_Data.csv')\n",
    "\n",
    "# Use head function to make sure the data loaded properly\n",
    "df.head(3)"
   ]
  },
  {
   "cell_type": "code",
   "execution_count": 3,
   "id": "4241e4cc",
   "metadata": {},
   "outputs": [
    {
     "data": {
      "text/plain": [
       "(181, 11)"
      ]
     },
     "execution_count": 3,
     "metadata": {},
     "output_type": "execute_result"
    }
   ],
   "source": [
    "df.shape"
   ]
  },
  {
   "cell_type": "code",
   "execution_count": 4,
   "id": "d6201ff8",
   "metadata": {},
   "outputs": [
    {
     "name": "stdout",
     "output_type": "stream",
     "text": [
      "<class 'pandas.core.frame.DataFrame'>\n",
      "RangeIndex: 181 entries, 0 to 180\n",
      "Data columns (total 11 columns):\n",
      " #   Column              Non-Null Count  Dtype  \n",
      "---  ------              --------------  -----  \n",
      " 0   pregnant            181 non-null    int64  \n",
      " 1   glucose             181 non-null    int64  \n",
      " 2   diastolic           181 non-null    int64  \n",
      " 3   skinfold            181 non-null    int64  \n",
      " 4   insulin             181 non-null    int64  \n",
      " 5   bmi                 181 non-null    float64\n",
      " 6   pedigree            181 non-null    float64\n",
      " 7   age                 181 non-null    int64  \n",
      " 8   class               181 non-null    int64  \n",
      " 9   scored.class        181 non-null    int64  \n",
      " 10  scored.probability  181 non-null    float64\n",
      "dtypes: float64(3), int64(8)\n",
      "memory usage: 15.7 KB\n"
     ]
    }
   ],
   "source": [
    "df.info()"
   ]
  },
  {
   "cell_type": "markdown",
   "id": "d576c474",
   "metadata": {},
   "source": [
    "- 1) class: the actual classification for the observation\n",
    "\n",
    "\n",
    "- 2) scored.class: the predicted classification for the observation (can only be ‘0’ or ‘1’; identified by comparing the classification model’s probability score (i.e., the likelihood that the correct classification for an observation is a ‘1’) for the observation against a 0.50 threshold))\n",
    "\n",
    "\n",
    "- 3) scored.probability: the classification model’s probability score (i.e., the likelihood that the correct classification for an observation is a ‘1’) for the observation"
   ]
  },
  {
   "cell_type": "markdown",
   "id": "995923d0",
   "metadata": {},
   "source": [
    "# 3) Use crosstab()"
   ]
  },
  {
   "cell_type": "code",
   "execution_count": 5,
   "id": "29764f3a",
   "metadata": {},
   "outputs": [
    {
     "data": {
      "text/plain": [
       "1     57\n",
       "0    124\n",
       "Name: class, dtype: int64"
      ]
     },
     "execution_count": 5,
     "metadata": {},
     "output_type": "execute_result"
    }
   ],
   "source": [
    "# Actual value\n",
    "df['class'].value_counts(ascending=True)"
   ]
  },
  {
   "cell_type": "code",
   "execution_count": 6,
   "id": "bfbf90aa",
   "metadata": {},
   "outputs": [
    {
     "data": {
      "text/plain": [
       "1     32\n",
       "0    149\n",
       "Name: scored.class, dtype: int64"
      ]
     },
     "execution_count": 6,
     "metadata": {},
     "output_type": "execute_result"
    }
   ],
   "source": [
    "# Predict value\n",
    "df['scored.class'].value_counts(ascending=True)"
   ]
  },
  {
   "cell_type": "code",
   "execution_count": 7,
   "id": "0075d8a4",
   "metadata": {},
   "outputs": [],
   "source": [
    "cross = pd.crosstab(df['class'], df['scored.class'],  \n",
    "                     rownames = ['actual'], \n",
    "                     colnames = ['predict'])"
   ]
  },
  {
   "cell_type": "code",
   "execution_count": 8,
   "id": "784477c9",
   "metadata": {},
   "outputs": [
    {
     "data": {
      "text/html": [
       "<div>\n",
       "<style scoped>\n",
       "    .dataframe tbody tr th:only-of-type {\n",
       "        vertical-align: middle;\n",
       "    }\n",
       "\n",
       "    .dataframe tbody tr th {\n",
       "        vertical-align: top;\n",
       "    }\n",
       "\n",
       "    .dataframe thead th {\n",
       "        text-align: right;\n",
       "    }\n",
       "</style>\n",
       "<table border=\"1\" class=\"dataframe\">\n",
       "  <thead>\n",
       "    <tr style=\"text-align: right;\">\n",
       "      <th>predict</th>\n",
       "      <th>0</th>\n",
       "      <th>1</th>\n",
       "    </tr>\n",
       "    <tr>\n",
       "      <th>actual</th>\n",
       "      <th></th>\n",
       "      <th></th>\n",
       "    </tr>\n",
       "  </thead>\n",
       "  <tbody>\n",
       "    <tr>\n",
       "      <th>0</th>\n",
       "      <td>119</td>\n",
       "      <td>5</td>\n",
       "    </tr>\n",
       "    <tr>\n",
       "      <th>1</th>\n",
       "      <td>30</td>\n",
       "      <td>27</td>\n",
       "    </tr>\n",
       "  </tbody>\n",
       "</table>\n",
       "</div>"
      ],
      "text/plain": [
       "predict    0   1\n",
       "actual          \n",
       "0        119   5\n",
       "1         30  27"
      ]
     },
     "execution_count": 8,
     "metadata": {},
     "output_type": "execute_result"
    }
   ],
   "source": [
    "cross"
   ]
  },
  {
   "cell_type": "markdown",
   "id": "127689a9",
   "metadata": {},
   "source": [
    "Because:\n",
    "\n",
    "df['class'].value_counts(ascending=True) shows (1 = 57, 0 =124)\n",
    "\n",
    "df['scored.class'].value_counts(ascending=True) shows (1 = 32, 0 =149)\n",
    "\n",
    "So:\n",
    "\n",
    "The number of (df['class'] = 1, df['scored.class'] = 1) is less or equal less than 32. In the cross table, we can see cross(1, 1) is 27 that is less than 32.\n",
    "\n",
    "Next, using confusion_matrix to check."
   ]
  },
  {
   "cell_type": "code",
   "execution_count": 9,
   "id": "4bfb0377",
   "metadata": {},
   "outputs": [
    {
     "data": {
      "text/html": [
       "<div>\n",
       "<style scoped>\n",
       "    .dataframe tbody tr th:only-of-type {\n",
       "        vertical-align: middle;\n",
       "    }\n",
       "\n",
       "    .dataframe tbody tr th {\n",
       "        vertical-align: top;\n",
       "    }\n",
       "\n",
       "    .dataframe thead th {\n",
       "        text-align: right;\n",
       "    }\n",
       "</style>\n",
       "<table border=\"1\" class=\"dataframe\">\n",
       "  <thead>\n",
       "    <tr style=\"text-align: right;\">\n",
       "      <th></th>\n",
       "      <th>Predict 0</th>\n",
       "      <th>Predict 1</th>\n",
       "    </tr>\n",
       "  </thead>\n",
       "  <tbody>\n",
       "    <tr>\n",
       "      <th>True 0</th>\n",
       "      <td>119</td>\n",
       "      <td>5</td>\n",
       "    </tr>\n",
       "    <tr>\n",
       "      <th>True 1</th>\n",
       "      <td>30</td>\n",
       "      <td>27</td>\n",
       "    </tr>\n",
       "  </tbody>\n",
       "</table>\n",
       "</div>"
      ],
      "text/plain": [
       "        Predict 0  Predict 1\n",
       "True 0        119          5\n",
       "True 1         30         27"
      ]
     },
     "execution_count": 9,
     "metadata": {},
     "output_type": "execute_result"
    }
   ],
   "source": [
    "# Using confusion_matrix to check\n",
    "from sklearn.metrics import confusion_matrix\n",
    "pd.DataFrame(\n",
    "    confusion_matrix(df['class'], df['scored.class']),\n",
    "    columns = [\"Predict 0\", \"Predict 1\"],\n",
    "    index = [\"True 0\", \"True 1\"]\n",
    ")"
   ]
  },
  {
   "cell_type": "markdown",
   "id": "c05e98e6",
   "metadata": {},
   "source": [
    "The two matrix are same."
   ]
  },
  {
   "cell_type": "markdown",
   "id": "40910b9f",
   "metadata": {},
   "source": [
    "# 4) Extract the Individual confusion matrix values"
   ]
  },
  {
   "cell_type": "code",
   "execution_count": 10,
   "id": "dc28a434",
   "metadata": {},
   "outputs": [
    {
     "data": {
      "text/plain": [
       "pandas.core.frame.DataFrame"
      ]
     },
     "execution_count": 10,
     "metadata": {},
     "output_type": "execute_result"
    }
   ],
   "source": [
    "type(cross)"
   ]
  },
  {
   "cell_type": "code",
   "execution_count": 11,
   "id": "d1b8c10a",
   "metadata": {},
   "outputs": [
    {
     "data": {
      "text/plain": [
       "Int64Index([0, 1], dtype='int64', name='predict')"
      ]
     },
     "execution_count": 11,
     "metadata": {},
     "output_type": "execute_result"
    }
   ],
   "source": [
    "cross.columns"
   ]
  },
  {
   "cell_type": "code",
   "execution_count": 12,
   "id": "a44422df",
   "metadata": {},
   "outputs": [
    {
     "data": {
      "text/plain": [
       "Int64Index([0, 1], dtype='int64', name='actual')"
      ]
     },
     "execution_count": 12,
     "metadata": {},
     "output_type": "execute_result"
    }
   ],
   "source": [
    "cross.index"
   ]
  },
  {
   "cell_type": "code",
   "execution_count": 13,
   "id": "7036eb9e",
   "metadata": {},
   "outputs": [
    {
     "data": {
      "text/html": [
       "<div>\n",
       "<style scoped>\n",
       "    .dataframe tbody tr th:only-of-type {\n",
       "        vertical-align: middle;\n",
       "    }\n",
       "\n",
       "    .dataframe tbody tr th {\n",
       "        vertical-align: top;\n",
       "    }\n",
       "\n",
       "    .dataframe thead th {\n",
       "        text-align: right;\n",
       "    }\n",
       "</style>\n",
       "<table border=\"1\" class=\"dataframe\">\n",
       "  <thead>\n",
       "    <tr style=\"text-align: right;\">\n",
       "      <th>predict</th>\n",
       "      <th>0</th>\n",
       "      <th>1</th>\n",
       "    </tr>\n",
       "    <tr>\n",
       "      <th>actual</th>\n",
       "      <th></th>\n",
       "      <th></th>\n",
       "    </tr>\n",
       "  </thead>\n",
       "  <tbody>\n",
       "    <tr>\n",
       "      <th>0</th>\n",
       "      <td>119</td>\n",
       "      <td>5</td>\n",
       "    </tr>\n",
       "    <tr>\n",
       "      <th>1</th>\n",
       "      <td>30</td>\n",
       "      <td>27</td>\n",
       "    </tr>\n",
       "  </tbody>\n",
       "</table>\n",
       "</div>"
      ],
      "text/plain": [
       "predict    0   1\n",
       "actual          \n",
       "0        119   5\n",
       "1         30  27"
      ]
     },
     "execution_count": 13,
     "metadata": {},
     "output_type": "execute_result"
    }
   ],
   "source": [
    "cross"
   ]
  },
  {
   "cell_type": "code",
   "execution_count": 14,
   "id": "8375e9e8",
   "metadata": {},
   "outputs": [
    {
     "data": {
      "text/plain": [
       "27"
      ]
     },
     "execution_count": 14,
     "metadata": {},
     "output_type": "execute_result"
    }
   ],
   "source": [
    "# True Positive\n",
    "TP = cross.loc[1, 1]\n",
    "TP"
   ]
  },
  {
   "cell_type": "code",
   "execution_count": 15,
   "id": "acd511cf",
   "metadata": {},
   "outputs": [
    {
     "data": {
      "text/plain": [
       "5"
      ]
     },
     "execution_count": 15,
     "metadata": {},
     "output_type": "execute_result"
    }
   ],
   "source": [
    "# False Positive\n",
    "# I mis-predict the 0 to 1. 我错误的把阴性，预测成阳性了\n",
    "FP = cross.loc[0, 1]\n",
    "FP"
   ]
  },
  {
   "cell_type": "code",
   "execution_count": 16,
   "id": "9cbdff73",
   "metadata": {},
   "outputs": [
    {
     "data": {
      "text/plain": [
       "119"
      ]
     },
     "execution_count": 16,
     "metadata": {},
     "output_type": "execute_result"
    }
   ],
   "source": [
    "# True Negative\n",
    "TN = cross.loc[0, 0]\n",
    "TN"
   ]
  },
  {
   "cell_type": "code",
   "execution_count": 17,
   "id": "a9871f3a",
   "metadata": {},
   "outputs": [
    {
     "data": {
      "text/plain": [
       "30"
      ]
     },
     "execution_count": 17,
     "metadata": {},
     "output_type": "execute_result"
    }
   ],
   "source": [
    "# False Negative\n",
    "# I mis-predict the 1 to 0. 我错误的把阳性，预测成阴性了\n",
    "FN = cross.loc[1, 0]\n",
    "FN"
   ]
  },
  {
   "cell_type": "code",
   "execution_count": 18,
   "id": "ef8e7bae",
   "metadata": {},
   "outputs": [
    {
     "name": "stdout",
     "output_type": "stream",
     "text": [
      "True Positive = 27, False Positive = 5, True Negative = 119, False Negative = 30\n"
     ]
    }
   ],
   "source": [
    "print(\"True Positive = %d, False Positive = %d, True Negative = %d, False Negative = %d\" %(TP,FP,TN,FN))"
   ]
  },
  {
   "cell_type": "markdown",
   "id": "bcd9f0f6",
   "metadata": {},
   "source": [
    "Next, using manual-calculate to check."
   ]
  },
  {
   "cell_type": "code",
   "execution_count": 19,
   "id": "f9feee58",
   "metadata": {},
   "outputs": [],
   "source": [
    "tp_test = ((df['class'] == 1) & (df['class'] == df['scored.class'])).sum()\n",
    "tn_test = ((df['class'] == 0) & (df['class'] == df['scored.class'])).sum()\n",
    "fp_test = ((df['class'] == 0) & (df['class'] != df['scored.class'])).sum()\n",
    "fn_test = ((df['class'] == 1) & (df['class'] != df['scored.class'])).sum()"
   ]
  },
  {
   "cell_type": "code",
   "execution_count": 20,
   "id": "49a8bc1b",
   "metadata": {},
   "outputs": [
    {
     "name": "stdout",
     "output_type": "stream",
     "text": [
      "True Positive = 27, False Positive = 5, True Negative = 119, False Negative = 30\n"
     ]
    }
   ],
   "source": [
    "print(\"True Positive = %d, False Positive = %d, True Negative = %d, False Negative = %d\" \n",
    "      %(tp_test,fp_test,tn_test,fn_test))"
   ]
  },
  {
   "cell_type": "markdown",
   "id": "2addc773",
   "metadata": {},
   "source": [
    "# 5) accuracy function\n",
    "\n",
    "accuracy = (tp + tn) / (tp + tn + fp + fn)"
   ]
  },
  {
   "cell_type": "code",
   "execution_count": 21,
   "id": "5a3db6d7",
   "metadata": {},
   "outputs": [],
   "source": [
    "def my_confusion_matrix(actuals, predicts):\n",
    "    \n",
    "    actuals_category = pd.Categorical(actuals, categories=[0, 1])\n",
    "    \n",
    "    predicts_category = pd.Categorical(predicts, categories=[0, 1])\n",
    "    \n",
    "    \n",
    "    cor = pd.crosstab(actuals_category, predicts_category, dropna=False, \n",
    "                     rownames = ['actual'], \n",
    "                     colnames = ['predict'])\n",
    "    \n",
    "    #print(cor)\n",
    "    tp = cor.loc[1, 1]\n",
    "    fp = cor.loc[0, 1]\n",
    "    tn = cor.loc[0, 0]\n",
    "    fn = cor.loc[1, 0]\n",
    "    #print(\"tp = %d, fp = %d, tn = %d, fn = %d\" %(tp,fp,tn,fn))\n",
    "    \n",
    "    result_map = {\"tp\":tp, \"fp\":fp, \"tn\":tn, \"fn\":fn}\n",
    "    \n",
    "    # print(result_map)\n",
    "    return result_map"
   ]
  },
  {
   "cell_type": "code",
   "execution_count": null,
   "id": "a6a2c8e2",
   "metadata": {},
   "outputs": [],
   "source": []
  },
  {
   "cell_type": "code",
   "execution_count": 22,
   "id": "e6da7e5c",
   "metadata": {},
   "outputs": [],
   "source": [
    "def my_accuracy(actuals, predicts):\n",
    "    cor_map = my_confusion_matrix(actuals, predicts)\n",
    "    accuracy = (cor_map['tp'] + cor_map['tn']) / (cor_map['tp'] + cor_map['tn'] + cor_map['fp'] + cor_map['fn'])\n",
    "    \n",
    "    #print(\"accuracy = %.4f\" %accuracy)\n",
    "    \n",
    "    return accuracy"
   ]
  },
  {
   "cell_type": "code",
   "execution_count": 23,
   "id": "30cff5d0",
   "metadata": {},
   "outputs": [
    {
     "data": {
      "text/plain": [
       "0.8066298342541437"
      ]
     },
     "execution_count": 23,
     "metadata": {},
     "output_type": "execute_result"
    }
   ],
   "source": [
    "my_accuracy(df['class'], df['scored.class'])"
   ]
  },
  {
   "cell_type": "markdown",
   "id": "552842c7",
   "metadata": {},
   "source": [
    "# 6) precision function\n",
    "\n",
    "precision = (tp ) / (tp + fp)"
   ]
  },
  {
   "cell_type": "code",
   "execution_count": 24,
   "id": "e22ee343",
   "metadata": {},
   "outputs": [],
   "source": [
    "def my_precision(actuals, predicts):\n",
    "    cor_map = my_confusion_matrix(actuals, predicts)\n",
    "    #print(\"cor_map\")\n",
    "    #print(cor_map)\n",
    "    result = (cor_map['tp']) / (cor_map['tp'] + cor_map['fp'])\n",
    "    \n",
    "    #print(\"precision = %.4f\" %result)\n",
    "    \n",
    "    return result"
   ]
  },
  {
   "cell_type": "code",
   "execution_count": 25,
   "id": "6c54f00d",
   "metadata": {},
   "outputs": [
    {
     "data": {
      "text/plain": [
       "0.84375"
      ]
     },
     "execution_count": 25,
     "metadata": {},
     "output_type": "execute_result"
    }
   ],
   "source": [
    "my_precision(df['class'], df['scored.class'])"
   ]
  },
  {
   "cell_type": "markdown",
   "id": "3bc5728a",
   "metadata": {},
   "source": [
    "# 7) sensitivity (recall) function\n",
    "\n",
    "sensitivity = tp / (tp + fn)"
   ]
  },
  {
   "cell_type": "code",
   "execution_count": 26,
   "id": "562539d8",
   "metadata": {},
   "outputs": [],
   "source": [
    "def my_sensitivity(actuals, predicts):\n",
    "    cor_map = my_confusion_matrix(actuals, predicts)\n",
    "    result = (cor_map['tp']) / (cor_map['tp'] + cor_map['fn'])\n",
    "    \n",
    "    #print(\"sensitivity = %.4f\" %result)\n",
    "    \n",
    "    return result"
   ]
  },
  {
   "cell_type": "code",
   "execution_count": 27,
   "id": "37a3d73b",
   "metadata": {},
   "outputs": [
    {
     "data": {
      "text/plain": [
       "0.47368421052631576"
      ]
     },
     "execution_count": 27,
     "metadata": {},
     "output_type": "execute_result"
    }
   ],
   "source": [
    "my_sensitivity(df['class'], df['scored.class'])"
   ]
  },
  {
   "cell_type": "markdown",
   "id": "a35b9c03",
   "metadata": {},
   "source": [
    "# 8) specificity function\n",
    "\n",
    "specificity = tn / (tn + fp)"
   ]
  },
  {
   "cell_type": "code",
   "execution_count": 28,
   "id": "8648dbaa",
   "metadata": {},
   "outputs": [],
   "source": [
    "def my_specificity(actuals, predicts):\n",
    "    cor_map = my_confusion_matrix(actuals, predicts)\n",
    "    result = (cor_map['tn']) / (cor_map['tn'] + cor_map['fp'])\n",
    "    \n",
    "    #print(\"specificity = %.4f\" %result)\n",
    "    \n",
    "    return result"
   ]
  },
  {
   "cell_type": "code",
   "execution_count": 29,
   "id": "55885e31",
   "metadata": {},
   "outputs": [
    {
     "data": {
      "text/plain": [
       "0.9596774193548387"
      ]
     },
     "execution_count": 29,
     "metadata": {},
     "output_type": "execute_result"
    }
   ],
   "source": [
    "my_specificity(df['class'], df['scored.class'])"
   ]
  },
  {
   "cell_type": "markdown",
   "id": "8991c7d3",
   "metadata": {},
   "source": [
    "# 9) F1 Score function\n",
    "\n",
    "precision = tp / (tp + fp)\n",
    "\n",
    "sensitivity(recall) = tp / (tp + fn)\n",
    "\n",
    "F1 = (2 * precision * sensitivity) / (precision + sensitivity)"
   ]
  },
  {
   "cell_type": "code",
   "execution_count": 30,
   "id": "2d704d53",
   "metadata": {},
   "outputs": [],
   "source": [
    "def my_f1(actuals, predicts):\n",
    "    \n",
    "    precision = my_precision(actuals, predicts)\n",
    "    \n",
    "    sensitivity = my_sensitivity(actuals, predicts)\n",
    "    \n",
    "    \n",
    "    result = (2 * precision * sensitivity) / (precision + sensitivity)\n",
    "    \n",
    "    #print(\"F1 = %.4f\" %result)\n",
    "    \n",
    "    return result"
   ]
  },
  {
   "cell_type": "code",
   "execution_count": 31,
   "id": "46f47ef9",
   "metadata": {},
   "outputs": [
    {
     "data": {
      "text/plain": [
       "0.6067415730337079"
      ]
     },
     "execution_count": 31,
     "metadata": {},
     "output_type": "execute_result"
    }
   ],
   "source": [
    "my_f1(df['class'], df['scored.class'])"
   ]
  },
  {
   "cell_type": "markdown",
   "id": "50a410b4",
   "metadata": {},
   "source": [
    "# 10) plot ROC and calculate AUC\n",
    "\n",
    "- scored.class: the predicted classification for the observation (can only be ‘0’ or ‘1’; identified by comparing the classification model’s probability score (i.e., the likelihood that the correct classification for an observation is a ‘1’) for the observation against a 0.50 threshold))\n",
    "\n",
    "\n",
    "- scored.probability: the classification model’s probability score (i.e., the likelihood that the correct classification for an observation is a ‘1’) for the observation"
   ]
  },
  {
   "cell_type": "markdown",
   "id": "646e9d71",
   "metadata": {},
   "source": [
    "### Drow ROC "
   ]
  },
  {
   "cell_type": "code",
   "execution_count": 32,
   "id": "c9ad7468",
   "metadata": {},
   "outputs": [
    {
     "data": {
      "text/plain": [
       "0    0.328452\n",
       "1    0.273190\n",
       "2    0.109660\n",
       "Name: scored.probability, dtype: float64"
      ]
     },
     "execution_count": 32,
     "metadata": {},
     "output_type": "execute_result"
    }
   ],
   "source": [
    "df['scored.probability'].head(3)"
   ]
  },
  {
   "cell_type": "code",
   "execution_count": 33,
   "id": "0a172cd9",
   "metadata": {},
   "outputs": [],
   "source": [
    "# to compare a threshold and a probability.\n",
    "def compare_threshold(data, col = 'scored.probability', threshold = 0.5):\n",
    "    predict = data.apply(\n",
    "        lambda row: 1 if row[col] > threshold and row[col] < 1.0 else 0, axis=1)\n",
    "    \n",
    "    #print(predict.value_counts())\n",
    "    \n",
    "    return predict"
   ]
  },
  {
   "cell_type": "code",
   "execution_count": 34,
   "id": "4623f560",
   "metadata": {},
   "outputs": [],
   "source": [
    "# using different gap to calculate differnt sensitivity and (1- specificity)\n",
    "def loop_cal_roc(data, gap = 0.1, actual_col = 'class'):\n",
    "    start = 0.0\n",
    "    \n",
    "    sensitivity_arr = []\n",
    "    negtive_1_specificity_arr = []\n",
    "    while start <= 1.0:\n",
    "        \n",
    "        # print (\"start = %.4f\" %start)\n",
    "        \n",
    "        predict = compare_threshold(data, col = 'scored.probability', threshold = start)\n",
    "        \n",
    "        #print(predict.value_counts())\n",
    "        #print(type(data[actual_col]))\n",
    "        #print(data[actual_col].head(3))\n",
    "        \n",
    "        sensitivity = my_sensitivity(data[actual_col], predict)\n",
    "        specificity = my_specificity(data[actual_col], predict)\n",
    "        \n",
    "        #print(\"sensitivity = %.4f, (1 - specificity) = %.4f\" %(sensitivity,  (1- specificity)))\n",
    "        \n",
    "        sensitivity_arr.append(sensitivity)\n",
    "        negtive_1_specificity_arr.append((1- specificity))\n",
    "        \n",
    "        start = start + gap\n",
    "    \n",
    "    # return a dataframe\n",
    "    d = {\"sensitivity\": sensitivity_arr, \"1 - specificity\" : negtive_1_specificity_arr}\n",
    "    roc_df = pd.DataFrame(d)\n",
    "    return roc_df\n",
    "        "
   ]
  },
  {
   "cell_type": "code",
   "execution_count": 35,
   "id": "7b008313",
   "metadata": {},
   "outputs": [
    {
     "data": {
      "text/html": [
       "<div>\n",
       "<style scoped>\n",
       "    .dataframe tbody tr th:only-of-type {\n",
       "        vertical-align: middle;\n",
       "    }\n",
       "\n",
       "    .dataframe tbody tr th {\n",
       "        vertical-align: top;\n",
       "    }\n",
       "\n",
       "    .dataframe thead th {\n",
       "        text-align: right;\n",
       "    }\n",
       "</style>\n",
       "<table border=\"1\" class=\"dataframe\">\n",
       "  <thead>\n",
       "    <tr style=\"text-align: right;\">\n",
       "      <th></th>\n",
       "      <th>sensitivity</th>\n",
       "      <th>1 - specificity</th>\n",
       "    </tr>\n",
       "  </thead>\n",
       "  <tbody>\n",
       "    <tr>\n",
       "      <th>0</th>\n",
       "      <td>1.0</td>\n",
       "      <td>1.0</td>\n",
       "    </tr>\n",
       "    <tr>\n",
       "      <th>1</th>\n",
       "      <td>1.0</td>\n",
       "      <td>1.0</td>\n",
       "    </tr>\n",
       "    <tr>\n",
       "      <th>2</th>\n",
       "      <td>1.0</td>\n",
       "      <td>1.0</td>\n",
       "    </tr>\n",
       "  </tbody>\n",
       "</table>\n",
       "</div>"
      ],
      "text/plain": [
       "   sensitivity  1 - specificity\n",
       "0          1.0              1.0\n",
       "1          1.0              1.0\n",
       "2          1.0              1.0"
      ]
     },
     "execution_count": 35,
     "metadata": {},
     "output_type": "execute_result"
    }
   ],
   "source": [
    "roc_df = loop_cal_roc(df, gap = 0.01, actual_col = 'class')\n",
    "roc_df.head(3)"
   ]
  },
  {
   "cell_type": "markdown",
   "id": "5aa179c1",
   "metadata": {},
   "source": [
    "#### Next, to draw ROC"
   ]
  },
  {
   "cell_type": "code",
   "execution_count": 36,
   "id": "02e09f20",
   "metadata": {},
   "outputs": [
    {
     "data": {
      "image/png": "[encoded data removed]",
      "text/plain": [
       "<Figure size 432x432 with 1 Axes>"
      ]
     },
     "metadata": {
      "image/png": {
       "height": 371,
       "width": 384
      }
     },
     "output_type": "display_data"
    }
   ],
   "source": [
    "def my_roc():\n",
    "    # draw ROC Cruve\n",
    "    f, ax = plt.subplots(figsize=(6,6))\n",
    "    sns.lineplot(data=roc_df, x=\"1 - specificity\", y=\"sensitivity\", ax = ax)\n",
    "\n",
    "    # draw baseline\n",
    "    point1 = [0.0, 0.0]\n",
    "    point2 = [1.0, 1.0]\n",
    "\n",
    "    x_values = [point1[0], point2[0]]\n",
    "\n",
    "    y_values = [point1[1], point2[1]]\n",
    "\n",
    "    plt.plot(x_values, y_values)\n",
    "\n",
    "my_roc()"
   ]
  },
  {
   "cell_type": "markdown",
   "id": "18d4eae5",
   "metadata": {},
   "source": [
    "### calculate AUC"
   ]
  },
  {
   "cell_type": "code",
   "execution_count": 37,
   "id": "eff1dcc7",
   "metadata": {},
   "outputs": [
    {
     "data": {
      "text/html": [
       "<div>\n",
       "<style scoped>\n",
       "    .dataframe tbody tr th:only-of-type {\n",
       "        vertical-align: middle;\n",
       "    }\n",
       "\n",
       "    .dataframe tbody tr th {\n",
       "        vertical-align: top;\n",
       "    }\n",
       "\n",
       "    .dataframe thead th {\n",
       "        text-align: right;\n",
       "    }\n",
       "</style>\n",
       "<table border=\"1\" class=\"dataframe\">\n",
       "  <thead>\n",
       "    <tr style=\"text-align: right;\">\n",
       "      <th></th>\n",
       "      <th>sensitivity</th>\n",
       "      <th>1 - specificity</th>\n",
       "    </tr>\n",
       "  </thead>\n",
       "  <tbody>\n",
       "    <tr>\n",
       "      <th>0</th>\n",
       "      <td>1.0</td>\n",
       "      <td>1.0</td>\n",
       "    </tr>\n",
       "    <tr>\n",
       "      <th>1</th>\n",
       "      <td>1.0</td>\n",
       "      <td>1.0</td>\n",
       "    </tr>\n",
       "    <tr>\n",
       "      <th>2</th>\n",
       "      <td>1.0</td>\n",
       "      <td>1.0</td>\n",
       "    </tr>\n",
       "  </tbody>\n",
       "</table>\n",
       "</div>"
      ],
      "text/plain": [
       "   sensitivity  1 - specificity\n",
       "0          1.0              1.0\n",
       "1          1.0              1.0\n",
       "2          1.0              1.0"
      ]
     },
     "execution_count": 37,
     "metadata": {},
     "output_type": "execute_result"
    }
   ],
   "source": [
    "roc_df.head(3)"
   ]
  },
  {
   "cell_type": "code",
   "execution_count": 38,
   "id": "0ecde631",
   "metadata": {},
   "outputs": [],
   "source": [
    "def cal_AUC(roc_df):\n",
    "    sum_area = 0.0\n",
    "    for i in range(roc_df.shape[0] - 1):\n",
    "        #print(i, i+2)\n",
    "        #print(roc_df.iloc[i: i + 2, :])\n",
    "        \n",
    "        dd = roc_df.iloc[i: i + 2, :]\n",
    "\n",
    "        up_side = dd.iloc[1]['sensitivity']\n",
    "        down_side = dd.iloc[0]['sensitivity']\n",
    "\n",
    "        high = dd.iloc[0]['1 - specificity'] - dd.iloc[1]['1 - specificity']\n",
    "\n",
    "        area = (up_side + down_side) * high / 2\n",
    "        #print(\"up = %.4f, down = %.4f, high = %.4f, area = %.4f\" %(up_side, down_side, high, area))\n",
    "\n",
    "        sum_area += area\n",
    "        \n",
    "    return sum_area"
   ]
  },
  {
   "cell_type": "code",
   "execution_count": 39,
   "id": "a6a23672",
   "metadata": {},
   "outputs": [
    {
     "name": "stdout",
     "output_type": "stream",
     "text": [
      "AUC = 0.84889643 \n"
     ]
    }
   ],
   "source": [
    "# call function to calculate AUC     \n",
    "AUC = cal_AUC(roc_df)\n",
    "\n",
    "print(\"AUC = %.8f \" % AUC)"
   ]
  },
  {
   "cell_type": "markdown",
   "id": "48d121b0",
   "metadata": {},
   "source": [
    "# 11) run step 5 to step 9"
   ]
  },
  {
   "cell_type": "code",
   "execution_count": 40,
   "id": "c99ca2d6",
   "metadata": {},
   "outputs": [
    {
     "name": "stdout",
     "output_type": "stream",
     "text": [
      "accuracy = 0.8066, precision = 0.8438, sensitivity = 0.4737, specificity = 0.9597, f1 = 0.6067\n"
     ]
    }
   ],
   "source": [
    "accuracy = my_accuracy(df['class'], df['scored.class'])\n",
    "precision = my_precision(df['class'], df['scored.class'])\n",
    "sensitivity = my_sensitivity(df['class'], df['scored.class'])\n",
    "specificity = my_specificity(df['class'], df['scored.class'])\n",
    "f1 = my_f1(df['class'], df['scored.class'])\n",
    "\n",
    "\n",
    "print(\"accuracy = %.4f, precision = %.4f, sensitivity = %.4f, specificity = %.4f, f1 = %.4f\"\n",
    "     % (accuracy, precision, sensitivity, specificity, f1))"
   ]
  },
  {
   "cell_type": "markdown",
   "id": "29fbefdf",
   "metadata": {},
   "source": [
    "# 12) Compare scikit-learn"
   ]
  },
  {
   "cell_type": "markdown",
   "id": "1020c992",
   "metadata": {},
   "source": [
    "### Compare confusion matrix"
   ]
  },
  {
   "cell_type": "code",
   "execution_count": 41,
   "id": "84e40591",
   "metadata": {},
   "outputs": [
    {
     "data": {
      "text/html": [
       "<div>\n",
       "<style scoped>\n",
       "    .dataframe tbody tr th:only-of-type {\n",
       "        vertical-align: middle;\n",
       "    }\n",
       "\n",
       "    .dataframe tbody tr th {\n",
       "        vertical-align: top;\n",
       "    }\n",
       "\n",
       "    .dataframe thead th {\n",
       "        text-align: right;\n",
       "    }\n",
       "</style>\n",
       "<table border=\"1\" class=\"dataframe\">\n",
       "  <thead>\n",
       "    <tr style=\"text-align: right;\">\n",
       "      <th></th>\n",
       "      <th>Predict 0</th>\n",
       "      <th>Predict 1</th>\n",
       "    </tr>\n",
       "  </thead>\n",
       "  <tbody>\n",
       "    <tr>\n",
       "      <th>True 0</th>\n",
       "      <td>119</td>\n",
       "      <td>5</td>\n",
       "    </tr>\n",
       "    <tr>\n",
       "      <th>True 1</th>\n",
       "      <td>30</td>\n",
       "      <td>27</td>\n",
       "    </tr>\n",
       "  </tbody>\n",
       "</table>\n",
       "</div>"
      ],
      "text/plain": [
       "        Predict 0  Predict 1\n",
       "True 0        119          5\n",
       "True 1         30         27"
      ]
     },
     "execution_count": 41,
     "metadata": {},
     "output_type": "execute_result"
    }
   ],
   "source": [
    "# Using confusion_matrix to check\n",
    "from sklearn.metrics import confusion_matrix\n",
    "pd.DataFrame(\n",
    "    confusion_matrix(df['class'], df['scored.class']),\n",
    "    columns = [\"Predict 0\", \"Predict 1\"],\n",
    "    index = [\"True 0\", \"True 1\"]\n",
    ")"
   ]
  },
  {
   "cell_type": "code",
   "execution_count": 42,
   "id": "fd3a3f11",
   "metadata": {},
   "outputs": [
    {
     "data": {
      "text/html": [
       "<div>\n",
       "<style scoped>\n",
       "    .dataframe tbody tr th:only-of-type {\n",
       "        vertical-align: middle;\n",
       "    }\n",
       "\n",
       "    .dataframe tbody tr th {\n",
       "        vertical-align: top;\n",
       "    }\n",
       "\n",
       "    .dataframe thead th {\n",
       "        text-align: right;\n",
       "    }\n",
       "</style>\n",
       "<table border=\"1\" class=\"dataframe\">\n",
       "  <thead>\n",
       "    <tr style=\"text-align: right;\">\n",
       "      <th>predict</th>\n",
       "      <th>0</th>\n",
       "      <th>1</th>\n",
       "    </tr>\n",
       "    <tr>\n",
       "      <th>actual</th>\n",
       "      <th></th>\n",
       "      <th></th>\n",
       "    </tr>\n",
       "  </thead>\n",
       "  <tbody>\n",
       "    <tr>\n",
       "      <th>0</th>\n",
       "      <td>119</td>\n",
       "      <td>5</td>\n",
       "    </tr>\n",
       "    <tr>\n",
       "      <th>1</th>\n",
       "      <td>30</td>\n",
       "      <td>27</td>\n",
       "    </tr>\n",
       "  </tbody>\n",
       "</table>\n",
       "</div>"
      ],
      "text/plain": [
       "predict    0   1\n",
       "actual          \n",
       "0        119   5\n",
       "1         30  27"
      ]
     },
     "execution_count": 42,
     "metadata": {},
     "output_type": "execute_result"
    }
   ],
   "source": [
    "# my confusion matrix\n",
    "cross"
   ]
  },
  {
   "cell_type": "markdown",
   "id": "40164201",
   "metadata": {},
   "source": [
    "### Compare accuracy"
   ]
  },
  {
   "cell_type": "code",
   "execution_count": 43,
   "id": "5b575368",
   "metadata": {},
   "outputs": [
    {
     "data": {
      "text/plain": [
       "0.8066298342541437"
      ]
     },
     "execution_count": 43,
     "metadata": {},
     "output_type": "execute_result"
    }
   ],
   "source": [
    "from sklearn.metrics import accuracy_score\n",
    "accuracy_score(df['class'], df['scored.class'])"
   ]
  },
  {
   "cell_type": "code",
   "execution_count": 44,
   "id": "ffe870e1",
   "metadata": {},
   "outputs": [
    {
     "data": {
      "text/plain": [
       "0.8066298342541437"
      ]
     },
     "execution_count": 44,
     "metadata": {},
     "output_type": "execute_result"
    }
   ],
   "source": [
    "# my accuracy\n",
    "accuracy"
   ]
  },
  {
   "cell_type": "markdown",
   "id": "c12b0ff5",
   "metadata": {},
   "source": [
    "### Compare precision"
   ]
  },
  {
   "cell_type": "code",
   "execution_count": 45,
   "id": "61023cee",
   "metadata": {},
   "outputs": [
    {
     "data": {
      "text/plain": [
       "0.84375"
      ]
     },
     "execution_count": 45,
     "metadata": {},
     "output_type": "execute_result"
    }
   ],
   "source": [
    "from sklearn.metrics import precision_score\n",
    "precision_score(df['class'], df['scored.class'])"
   ]
  },
  {
   "cell_type": "code",
   "execution_count": 46,
   "id": "a6de5304",
   "metadata": {},
   "outputs": [
    {
     "data": {
      "text/plain": [
       "0.84375"
      ]
     },
     "execution_count": 46,
     "metadata": {},
     "output_type": "execute_result"
    }
   ],
   "source": [
    "# my precision\n",
    "precision"
   ]
  },
  {
   "cell_type": "markdown",
   "id": "f7da8a3d",
   "metadata": {},
   "source": [
    "### Compare sensitivity(recall)"
   ]
  },
  {
   "cell_type": "code",
   "execution_count": 47,
   "id": "60a29943",
   "metadata": {},
   "outputs": [
    {
     "data": {
      "text/plain": [
       "0.47368421052631576"
      ]
     },
     "execution_count": 47,
     "metadata": {},
     "output_type": "execute_result"
    }
   ],
   "source": [
    "from sklearn.metrics import recall_score\n",
    "recall_score(df['class'], df['scored.class'])"
   ]
  },
  {
   "cell_type": "code",
   "execution_count": 48,
   "id": "d102f01d",
   "metadata": {},
   "outputs": [
    {
     "data": {
      "text/plain": [
       "0.47368421052631576"
      ]
     },
     "execution_count": 48,
     "metadata": {},
     "output_type": "execute_result"
    }
   ],
   "source": [
    "# my sensitivity\n",
    "sensitivity"
   ]
  },
  {
   "cell_type": "markdown",
   "id": "7d9b1b2f",
   "metadata": {},
   "source": [
    "### Compare f1"
   ]
  },
  {
   "cell_type": "code",
   "execution_count": 49,
   "id": "37b4346e",
   "metadata": {},
   "outputs": [
    {
     "data": {
      "text/plain": [
       "0.6067415730337079"
      ]
     },
     "execution_count": 49,
     "metadata": {},
     "output_type": "execute_result"
    }
   ],
   "source": [
    "from sklearn.metrics import f1_score\n",
    "f1_score(df['class'], df['scored.class'])"
   ]
  },
  {
   "cell_type": "code",
   "execution_count": 50,
   "id": "b3fd6982",
   "metadata": {},
   "outputs": [
    {
     "data": {
      "text/plain": [
       "0.6067415730337079"
      ]
     },
     "execution_count": 50,
     "metadata": {},
     "output_type": "execute_result"
    }
   ],
   "source": [
    "# my f1\n",
    "f1"
   ]
  },
  {
   "cell_type": "markdown",
   "id": "1e474c2f",
   "metadata": {},
   "source": [
    "### metrics.classification_report()"
   ]
  },
  {
   "cell_type": "code",
   "execution_count": 51,
   "id": "45ba6566",
   "metadata": {},
   "outputs": [
    {
     "data": {
      "text/html": [
       "<div>\n",
       "<style scoped>\n",
       "    .dataframe tbody tr th:only-of-type {\n",
       "        vertical-align: middle;\n",
       "    }\n",
       "\n",
       "    .dataframe tbody tr th {\n",
       "        vertical-align: top;\n",
       "    }\n",
       "\n",
       "    .dataframe thead th {\n",
       "        text-align: right;\n",
       "    }\n",
       "</style>\n",
       "<table border=\"1\" class=\"dataframe\">\n",
       "  <thead>\n",
       "    <tr style=\"text-align: right;\">\n",
       "      <th></th>\n",
       "      <th>pregnant</th>\n",
       "      <th>glucose</th>\n",
       "      <th>diastolic</th>\n",
       "      <th>skinfold</th>\n",
       "      <th>insulin</th>\n",
       "      <th>bmi</th>\n",
       "      <th>pedigree</th>\n",
       "      <th>age</th>\n",
       "      <th>class</th>\n",
       "      <th>scored.class</th>\n",
       "      <th>scored.probability</th>\n",
       "    </tr>\n",
       "  </thead>\n",
       "  <tbody>\n",
       "    <tr>\n",
       "      <th>0</th>\n",
       "      <td>7</td>\n",
       "      <td>124</td>\n",
       "      <td>70</td>\n",
       "      <td>33</td>\n",
       "      <td>215</td>\n",
       "      <td>25.5</td>\n",
       "      <td>0.161</td>\n",
       "      <td>37</td>\n",
       "      <td>0</td>\n",
       "      <td>0</td>\n",
       "      <td>0.328452</td>\n",
       "    </tr>\n",
       "    <tr>\n",
       "      <th>1</th>\n",
       "      <td>2</td>\n",
       "      <td>122</td>\n",
       "      <td>76</td>\n",
       "      <td>27</td>\n",
       "      <td>200</td>\n",
       "      <td>35.9</td>\n",
       "      <td>0.483</td>\n",
       "      <td>26</td>\n",
       "      <td>0</td>\n",
       "      <td>0</td>\n",
       "      <td>0.273190</td>\n",
       "    </tr>\n",
       "    <tr>\n",
       "      <th>2</th>\n",
       "      <td>3</td>\n",
       "      <td>107</td>\n",
       "      <td>62</td>\n",
       "      <td>13</td>\n",
       "      <td>48</td>\n",
       "      <td>22.9</td>\n",
       "      <td>0.678</td>\n",
       "      <td>23</td>\n",
       "      <td>1</td>\n",
       "      <td>0</td>\n",
       "      <td>0.109660</td>\n",
       "    </tr>\n",
       "  </tbody>\n",
       "</table>\n",
       "</div>"
      ],
      "text/plain": [
       "   pregnant  glucose  diastolic  skinfold  insulin   bmi  pedigree  age  \\\n",
       "0         7      124         70        33      215  25.5     0.161   37   \n",
       "1         2      122         76        27      200  35.9     0.483   26   \n",
       "2         3      107         62        13       48  22.9     0.678   23   \n",
       "\n",
       "   class  scored.class  scored.probability  \n",
       "0      0             0            0.328452  \n",
       "1      0             0            0.273190  \n",
       "2      1             0            0.109660  "
      ]
     },
     "execution_count": 51,
     "metadata": {},
     "output_type": "execute_result"
    }
   ],
   "source": [
    "df.head(3)"
   ]
  },
  {
   "cell_type": "markdown",
   "id": "9de13459",
   "metadata": {},
   "source": [
    "# 13)  metrics.plot_roc_curve () and metrics.auc() "
   ]
  },
  {
   "cell_type": "code",
   "execution_count": 52,
   "id": "1383f949",
   "metadata": {},
   "outputs": [],
   "source": [
    "y_test = df['class'].copy()\n",
    "X_test = df.copy()\n",
    "X_test = X_test.drop(columns=['class', 'scored.class', 'scored.probability'])"
   ]
  },
  {
   "cell_type": "code",
   "execution_count": 53,
   "id": "1c3bc529",
   "metadata": {},
   "outputs": [
    {
     "data": {
      "text/html": [
       "<div>\n",
       "<style scoped>\n",
       "    .dataframe tbody tr th:only-of-type {\n",
       "        vertical-align: middle;\n",
       "    }\n",
       "\n",
       "    .dataframe tbody tr th {\n",
       "        vertical-align: top;\n",
       "    }\n",
       "\n",
       "    .dataframe thead th {\n",
       "        text-align: right;\n",
       "    }\n",
       "</style>\n",
       "<table border=\"1\" class=\"dataframe\">\n",
       "  <thead>\n",
       "    <tr style=\"text-align: right;\">\n",
       "      <th></th>\n",
       "      <th>pregnant</th>\n",
       "      <th>glucose</th>\n",
       "      <th>diastolic</th>\n",
       "      <th>skinfold</th>\n",
       "      <th>insulin</th>\n",
       "      <th>bmi</th>\n",
       "      <th>pedigree</th>\n",
       "      <th>age</th>\n",
       "    </tr>\n",
       "  </thead>\n",
       "  <tbody>\n",
       "    <tr>\n",
       "      <th>0</th>\n",
       "      <td>7</td>\n",
       "      <td>124</td>\n",
       "      <td>70</td>\n",
       "      <td>33</td>\n",
       "      <td>215</td>\n",
       "      <td>25.5</td>\n",
       "      <td>0.161</td>\n",
       "      <td>37</td>\n",
       "    </tr>\n",
       "    <tr>\n",
       "      <th>1</th>\n",
       "      <td>2</td>\n",
       "      <td>122</td>\n",
       "      <td>76</td>\n",
       "      <td>27</td>\n",
       "      <td>200</td>\n",
       "      <td>35.9</td>\n",
       "      <td>0.483</td>\n",
       "      <td>26</td>\n",
       "    </tr>\n",
       "    <tr>\n",
       "      <th>2</th>\n",
       "      <td>3</td>\n",
       "      <td>107</td>\n",
       "      <td>62</td>\n",
       "      <td>13</td>\n",
       "      <td>48</td>\n",
       "      <td>22.9</td>\n",
       "      <td>0.678</td>\n",
       "      <td>23</td>\n",
       "    </tr>\n",
       "  </tbody>\n",
       "</table>\n",
       "</div>"
      ],
      "text/plain": [
       "   pregnant  glucose  diastolic  skinfold  insulin   bmi  pedigree  age\n",
       "0         7      124         70        33      215  25.5     0.161   37\n",
       "1         2      122         76        27      200  35.9     0.483   26\n",
       "2         3      107         62        13       48  22.9     0.678   23"
      ]
     },
     "execution_count": 53,
     "metadata": {},
     "output_type": "execute_result"
    }
   ],
   "source": [
    "X_test.head(3)"
   ]
  },
  {
   "cell_type": "code",
   "execution_count": 54,
   "id": "af62f762",
   "metadata": {},
   "outputs": [
    {
     "data": {
      "text/plain": [
       "0    0\n",
       "1    0\n",
       "2    1\n",
       "Name: class, dtype: int64"
      ]
     },
     "execution_count": 54,
     "metadata": {},
     "output_type": "execute_result"
    }
   ],
   "source": [
    "y_test.head(3)"
   ]
  },
  {
   "cell_type": "code",
   "execution_count": 55,
   "id": "c91bad87",
   "metadata": {},
   "outputs": [
    {
     "data": {
      "text/plain": [
       "LogisticRegression(max_iter=1000)"
      ]
     },
     "execution_count": 55,
     "metadata": {},
     "output_type": "execute_result"
    }
   ],
   "source": [
    "from sklearn.linear_model import LogisticRegression\n",
    "lr = LogisticRegression(solver='lbfgs', max_iter=1000)\n",
    "result = lr.fit(X_test, y_test)\n",
    "result"
   ]
  },
  {
   "cell_type": "code",
   "execution_count": 56,
   "id": "8ac4fdc9",
   "metadata": {},
   "outputs": [],
   "source": [
    "y_predict = lr.predict(X_test)\n",
    "tp = (\n",
    "    (y_test == 1) & (y_test == y_predict)\n",
    ").sum()  # 123\n",
    "tn = (\n",
    "    (y_test == 0) & (y_test == y_predict)\n",
    ").sum()  # 199\n",
    "fp = (\n",
    "    (y_test == 0) & (y_test != y_predict)\n",
    ").sum()  # 25\n",
    "fn = (\n",
    "    (y_test == 1) & (y_test != y_predict)\n",
    ").sum()  # 46"
   ]
  },
  {
   "cell_type": "code",
   "execution_count": 57,
   "id": "6aca7ccc",
   "metadata": {},
   "outputs": [
    {
     "name": "stdout",
     "output_type": "stream",
     "text": [
      "tp = 32, fp = 9, tn = 115, fn = 25\n"
     ]
    }
   ],
   "source": [
    "# True Positive = 27, False Positive = 5, True Negative = 119, False Negative = 30\n",
    "\n",
    "print(\"tp = %d, fp = %d, tn = %d, fn = %d\" %(tp,fp,tn,fn))\n"
   ]
  },
  {
   "cell_type": "code",
   "execution_count": 58,
   "id": "22d00aae",
   "metadata": {},
   "outputs": [
    {
     "data": {
      "text/html": [
       "<div>\n",
       "<style scoped>\n",
       "    .dataframe tbody tr th:only-of-type {\n",
       "        vertical-align: middle;\n",
       "    }\n",
       "\n",
       "    .dataframe tbody tr th {\n",
       "        vertical-align: top;\n",
       "    }\n",
       "\n",
       "    .dataframe thead th {\n",
       "        text-align: right;\n",
       "    }\n",
       "</style>\n",
       "<table border=\"1\" class=\"dataframe\">\n",
       "  <thead>\n",
       "    <tr style=\"text-align: right;\">\n",
       "      <th></th>\n",
       "      <th>Predict 0</th>\n",
       "      <th>Predict 1</th>\n",
       "    </tr>\n",
       "  </thead>\n",
       "  <tbody>\n",
       "    <tr>\n",
       "      <th>True 0</th>\n",
       "      <td>115</td>\n",
       "      <td>9</td>\n",
       "    </tr>\n",
       "    <tr>\n",
       "      <th>True 1</th>\n",
       "      <td>25</td>\n",
       "      <td>32</td>\n",
       "    </tr>\n",
       "  </tbody>\n",
       "</table>\n",
       "</div>"
      ],
      "text/plain": [
       "        Predict 0  Predict 1\n",
       "True 0        115          9\n",
       "True 1         25         32"
      ]
     },
     "execution_count": 58,
     "metadata": {},
     "output_type": "execute_result"
    }
   ],
   "source": [
    "from sklearn.metrics import confusion_matrix\n",
    "y_predict = lr.predict(X_test)\n",
    "pd.DataFrame(\n",
    "    confusion_matrix(y_test, y_predict),\n",
    "    columns=[\n",
    "        \"Predict 0\",\n",
    "        \"Predict 1\",\n",
    "    ],\n",
    "    index=[\"True 0\", \"True 1\"],\n",
    ")"
   ]
  },
  {
   "cell_type": "code",
   "execution_count": 59,
   "id": "6fe973e1",
   "metadata": {},
   "outputs": [
    {
     "name": "stderr",
     "output_type": "stream",
     "text": [
      "D:\\dev\\anaconda3\\lib\\site-packages\\yellowbrick\\classifier\\base.py:232: YellowbrickWarning: could not determine class_counts_ from previously fitted classifier\n",
      "  warnings.warn(\n"
     ]
    },
    {
     "data": {
      "image/png": "[encoded data removed]",
      "text/plain": [
       "<Figure size 432x432 with 1 Axes>"
      ]
     },
     "metadata": {
      "image/png": {
       "height": 421,
       "width": 420
      }
     },
     "output_type": "display_data"
    },
    {
     "data": {
      "text/plain": [
       "<AxesSubplot:title={'center':'LogisticRegression Confusion Matrix'}, xlabel='Predicted Class', ylabel='True Class'>"
      ]
     },
     "execution_count": 59,
     "metadata": {},
     "output_type": "execute_result"
    }
   ],
   "source": [
    "import matplotlib.pyplot as plt\n",
    "from yellowbrick.classifier import (\n",
    "    ConfusionMatrix,\n",
    ")\n",
    "mapping = {0: \"0\", 1: \"1\"}\n",
    "fig, ax = plt.subplots(figsize=(6, 6))\n",
    "cm_viz = ConfusionMatrix(\n",
    "    lr,\n",
    "    classes=[\"0\", \"1\"],\n",
    "    label_encoder=mapping,\n",
    ")\n",
    "cm_viz.score(X_test, y_test)\n",
    "cm_viz.poof()"
   ]
  },
  {
   "cell_type": "code",
   "execution_count": 60,
   "id": "de046b22",
   "metadata": {},
   "outputs": [
    {
     "name": "stderr",
     "output_type": "stream",
     "text": [
      "D:\\dev\\anaconda3\\lib\\site-packages\\yellowbrick\\classifier\\base.py:232: YellowbrickWarning: could not determine class_counts_ from previously fitted classifier\n",
      "  warnings.warn(\n"
     ]
    },
    {
     "data": {
      "image/png": "[encoded data removed]",
      "text/plain": [
       "<Figure size 432x216 with 2 Axes>"
      ]
     },
     "metadata": {
      "image/png": {
       "height": 205,
       "width": 389
      }
     },
     "output_type": "display_data"
    },
    {
     "data": {
      "text/plain": [
       "<AxesSubplot:title={'center':'LogisticRegression Classification Report'}>"
      ]
     },
     "execution_count": 60,
     "metadata": {},
     "output_type": "execute_result"
    }
   ],
   "source": [
    "import matplotlib.pyplot as plt\n",
    "from yellowbrick.classifier import (\n",
    "    ClassificationReport,\n",
    ")\n",
    "fig, ax = plt.subplots(figsize=(6, 3))\n",
    "cm_viz = ClassificationReport(\n",
    "    lr,\n",
    "    classes=[\"0\", \"1\"],\n",
    "    label_encoder=mapping,\n",
    ")\n",
    "cm_viz.score(X_test, y_test)\n",
    "cm_viz.poof()\n",
    "#fig.savefig(\"images/mlpr_1203.png\", dpi=300)"
   ]
  },
  {
   "cell_type": "code",
   "execution_count": 61,
   "id": "50d8bcbb",
   "metadata": {},
   "outputs": [
    {
     "data": {
      "text/plain": [
       "0.7444114318053197"
      ]
     },
     "execution_count": 61,
     "metadata": {},
     "output_type": "execute_result"
    }
   ],
   "source": [
    "from sklearn.metrics import roc_auc_score\n",
    "y_predict = lr.predict(X_test)\n",
    "roc_auc_score(y_test, y_predict)"
   ]
  },
  {
   "cell_type": "code",
   "execution_count": 62,
   "id": "df9a466a",
   "metadata": {},
   "outputs": [
    {
     "data": {
      "image/png": "[encoded data removed]",
      "text/plain": [
       "<Figure size 432x432 with 1 Axes>"
      ]
     },
     "metadata": {
      "image/png": {
       "height": 386,
       "width": 391
      }
     },
     "output_type": "display_data"
    },
    {
     "data": {
      "text/plain": [
       "<AxesSubplot:title={'center':'ROC Curves for LogisticRegression'}, xlabel='False Positive Rate', ylabel='True Positive Rate'>"
      ]
     },
     "execution_count": 62,
     "metadata": {},
     "output_type": "execute_result"
    }
   ],
   "source": [
    "from yellowbrick.classifier import ROCAUC\n",
    "fig, ax = plt.subplots(figsize=(6, 6))\n",
    "roc_viz = ROCAUC(lr)\n",
    "roc_viz.fit(X_test, y_test)\n",
    "roc_viz.score(X_test, y_test)\n",
    "roc_viz.poof()"
   ]
  },
  {
   "cell_type": "markdown",
   "id": "c9433c1e",
   "metadata": {},
   "source": [
    "### How do the results compare with the ROC/AUC function you’ve created for this assignment?"
   ]
  },
  {
   "cell_type": "code",
   "execution_count": 63,
   "id": "2b498406",
   "metadata": {},
   "outputs": [
    {
     "data": {
      "image/png": "[encoded data removed]",
      "text/plain": [
       "<Figure size 432x432 with 1 Axes>"
      ]
     },
     "metadata": {
      "image/png": {
       "height": 371,
       "width": 384
      }
     },
     "output_type": "display_data"
    }
   ],
   "source": [
    "# My ROC\n",
    "my_roc()"
   ]
  },
  {
   "cell_type": "code",
   "execution_count": 64,
   "id": "55ed4328",
   "metadata": {},
   "outputs": [
    {
     "name": "stdout",
     "output_type": "stream",
     "text": [
      "My AUC = 0.84889643 \n"
     ]
    }
   ],
   "source": [
    "# my AUC\n",
    "print(\"My AUC = %.8f \" % AUC)"
   ]
  },
  {
   "cell_type": "markdown",
   "id": "1270e9f1",
   "metadata": {},
   "source": [
    "# Conclusion\n",
    "\n",
    "I use LogisticRegression to predict results and use Yellowbrick to draw ROC and calculate AUC. Also, I draw ROC and calculate AUC by myself. The AUC of Yellowbrick is 0.85. My AUC is 0.84889643. They are almost equal."
   ]
  },
  {
   "cell_type": "code",
   "execution_count": null,
   "id": "78ea34aa",
   "metadata": {},
   "outputs": [],
   "source": []
  },
  {
   "cell_type": "markdown",
   "id": "601e0fb6",
   "metadata": {},
   "source": [
    "# Reference\n",
    "\n",
    "https://pandas.pydata.org/docs/reference/api/pandas.crosstab.html\n",
    "\n",
    "https://pbpython.com/pandas-crosstab.html\n",
    "\n",
    "https://zh.wikipedia.org/zh-cn/ROC%E6%9B%B2%E7%BA%BF\n",
    "\n",
    "https://github.com/DistrictDataLabs/yellowbrick/issues/1137\n",
    "\n",
    "https://www.scikit-yb.org/en/latest/api/classifier/confusion_matrix.html?highlight=ConfusionMatrix#yellowbrick.classifier.confusion_matrix.ConfusionMatrix\n"
   ]
  },
  {
   "cell_type": "code",
   "execution_count": null,
   "id": "304911b7",
   "metadata": {},
   "outputs": [],
   "source": []
  }
 ],
 "metadata": {
  "kernelspec": {
   "display_name": "Python 3 (ipykernel)",
   "language": "python",
   "name": "python3"
  },
  "language_info": {
   "codemirror_mode": {
    "name": "ipython",
    "version": 3
   },
   "file_extension": ".py",
   "mimetype": "text/x-python",
   "name": "python",
   "nbconvert_exporter": "python",
   "pygments_lexer": "ipython3",
   "version": "3.8.5"
  }
 },
 "nbformat": 4,
 "nbformat_minor": 5
}
