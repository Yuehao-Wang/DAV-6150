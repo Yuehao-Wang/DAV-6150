{
 "cells": [
  {
   "cell_type": "markdown",
   "metadata": {},
   "source": [
    "# Introduction\n",
    "\n",
    "The data from the UC Irvine machine learning archive.\n",
    "\n",
    "https://archive.ics.uci.edu/ml/datasets/Automobile\n",
    "\n",
    "I want to analyze the above data set and solve a problem as follows:\n",
    "\n",
    "To construct two cross-validated linear regression model that predicts the curb-weight of a vehicle.\n",
    "\n",
    "\n",
    "## Problem\n",
    "The target problem is that the curb-weight variable will serve as the response variable for regression models. The explanatory variables are as follows: height, width, length, wheel-base, engine-size, horsepower, peak-rpm, and city-mpg. All other attributes contained within the data set should be ignored for this problem.\n",
    "\n",
    "In my study, I will contain followed steps:\n",
    "\n",
    "- 1. Load Data\n",
    "\n",
    "- 2. Exploraatory Data Analysis\n",
    "\n",
    "- 3. Data Preparation (Clean Data)\n",
    "\n",
    "- 4. Select and Create Features\n",
    "\n",
    "- 5. Standardize and Dummy Variables\n",
    "\n",
    "- 6. Split Data\n",
    "\n",
    "- 7. Select Models using K-fold cross validation\n",
    "\n",
    "- 8. Conclusion\n",
    "\n",
    "- 9. References\n",
    "\n",
    "In the EDA, Clean Data, Select features as well as standardize and Dummy Variables, I will explore variables that appear to be relatively more “predictive” of the response variable. Also, I will create some dummy variables and normalize numeric variables.\n",
    "\n",
    "In the Split Data, I will split data as training set and testing set. Then, I will select two different linear regression models that predict curb weight. In order to evaluate models, I will use K-fold cross-validation to help study.\n",
    "\n",
    "Ok, next to download data from my Github."
   ]
  },
  {
   "cell_type": "code",
   "execution_count": 1,
   "metadata": {},
   "outputs": [],
   "source": [
    "# Import libs\n",
    "import matplotlib.pyplot as plt\n",
    "import pandas as pd\n",
    "import numpy as np\n",
    "import seaborn as sns\n",
    "\n",
    "from sklearn.model_selection import (\n",
    "    train_test_split,\n",
    "    KFold\n",
    ")\n",
    "\n",
    "from sklearn import (\n",
    "    preprocessing\n",
    ")\n",
    "\n",
    "\n",
    "pd.set_option('mode.chained_assignment', None)"
   ]
  },
  {
   "cell_type": "markdown",
   "metadata": {},
   "source": [
    "# 1. Load Data"
   ]
  },
  {
   "cell_type": "code",
   "execution_count": 2,
   "metadata": {},
   "outputs": [],
   "source": [
    "# To load data from link and convert to a dataframe.\n",
    "header_list = ['symboling','normalized-losses','make','fuel-type','aspiration',\n",
    "               'num-of-doors','body-style','drive-wheels','engine-location','wheel-base',\n",
    "               'length','width','height','curb-weight','engine-type','num-of-cylinders',\n",
    "               'engine-size','fuel-system','bore','stroke','compression-ratio','horsepower',\n",
    "               'peak-rpm','city-mpg','highway-mpg','price']\n",
    "\n",
    "df = pd.read_csv('https://raw.githubusercontent.com/Yuehao-Wang/DAV-6150/main/data/M2_Data.csv', names=header_list)"
   ]
  },
  {
   "cell_type": "code",
   "execution_count": 3,
   "metadata": {},
   "outputs": [
    {
     "data": {
      "text/html": [
       "<div>\n",
       "<style scoped>\n",
       "    .dataframe tbody tr th:only-of-type {\n",
       "        vertical-align: middle;\n",
       "    }\n",
       "\n",
       "    .dataframe tbody tr th {\n",
       "        vertical-align: top;\n",
       "    }\n",
       "\n",
       "    .dataframe thead th {\n",
       "        text-align: right;\n",
       "    }\n",
       "</style>\n",
       "<table border=\"1\" class=\"dataframe\">\n",
       "  <thead>\n",
       "    <tr style=\"text-align: right;\">\n",
       "      <th></th>\n",
       "      <th>symboling</th>\n",
       "      <th>normalized-losses</th>\n",
       "      <th>make</th>\n",
       "      <th>fuel-type</th>\n",
       "      <th>aspiration</th>\n",
       "      <th>num-of-doors</th>\n",
       "      <th>body-style</th>\n",
       "      <th>drive-wheels</th>\n",
       "      <th>engine-location</th>\n",
       "      <th>wheel-base</th>\n",
       "      <th>...</th>\n",
       "      <th>engine-size</th>\n",
       "      <th>fuel-system</th>\n",
       "      <th>bore</th>\n",
       "      <th>stroke</th>\n",
       "      <th>compression-ratio</th>\n",
       "      <th>horsepower</th>\n",
       "      <th>peak-rpm</th>\n",
       "      <th>city-mpg</th>\n",
       "      <th>highway-mpg</th>\n",
       "      <th>price</th>\n",
       "    </tr>\n",
       "  </thead>\n",
       "  <tbody>\n",
       "    <tr>\n",
       "      <th>0</th>\n",
       "      <td>3</td>\n",
       "      <td>?</td>\n",
       "      <td>alfa-romero</td>\n",
       "      <td>gas</td>\n",
       "      <td>std</td>\n",
       "      <td>two</td>\n",
       "      <td>convertible</td>\n",
       "      <td>rwd</td>\n",
       "      <td>front</td>\n",
       "      <td>88.6</td>\n",
       "      <td>...</td>\n",
       "      <td>130</td>\n",
       "      <td>mpfi</td>\n",
       "      <td>3.47</td>\n",
       "      <td>2.68</td>\n",
       "      <td>9.0</td>\n",
       "      <td>111</td>\n",
       "      <td>5000</td>\n",
       "      <td>21</td>\n",
       "      <td>27</td>\n",
       "      <td>13495</td>\n",
       "    </tr>\n",
       "    <tr>\n",
       "      <th>1</th>\n",
       "      <td>3</td>\n",
       "      <td>?</td>\n",
       "      <td>alfa-romero</td>\n",
       "      <td>gas</td>\n",
       "      <td>std</td>\n",
       "      <td>two</td>\n",
       "      <td>convertible</td>\n",
       "      <td>rwd</td>\n",
       "      <td>front</td>\n",
       "      <td>88.6</td>\n",
       "      <td>...</td>\n",
       "      <td>130</td>\n",
       "      <td>mpfi</td>\n",
       "      <td>3.47</td>\n",
       "      <td>2.68</td>\n",
       "      <td>9.0</td>\n",
       "      <td>111</td>\n",
       "      <td>5000</td>\n",
       "      <td>21</td>\n",
       "      <td>27</td>\n",
       "      <td>16500</td>\n",
       "    </tr>\n",
       "    <tr>\n",
       "      <th>2</th>\n",
       "      <td>1</td>\n",
       "      <td>?</td>\n",
       "      <td>alfa-romero</td>\n",
       "      <td>gas</td>\n",
       "      <td>std</td>\n",
       "      <td>two</td>\n",
       "      <td>hatchback</td>\n",
       "      <td>rwd</td>\n",
       "      <td>front</td>\n",
       "      <td>94.5</td>\n",
       "      <td>...</td>\n",
       "      <td>152</td>\n",
       "      <td>mpfi</td>\n",
       "      <td>2.68</td>\n",
       "      <td>3.47</td>\n",
       "      <td>9.0</td>\n",
       "      <td>154</td>\n",
       "      <td>5000</td>\n",
       "      <td>19</td>\n",
       "      <td>26</td>\n",
       "      <td>16500</td>\n",
       "    </tr>\n",
       "  </tbody>\n",
       "</table>\n",
       "<p>3 rows × 26 columns</p>\n",
       "</div>"
      ],
      "text/plain": [
       "   symboling normalized-losses         make fuel-type aspiration num-of-doors  \\\n",
       "0          3                 ?  alfa-romero       gas        std          two   \n",
       "1          3                 ?  alfa-romero       gas        std          two   \n",
       "2          1                 ?  alfa-romero       gas        std          two   \n",
       "\n",
       "    body-style drive-wheels engine-location  wheel-base  ...  engine-size  \\\n",
       "0  convertible          rwd           front        88.6  ...          130   \n",
       "1  convertible          rwd           front        88.6  ...          130   \n",
       "2    hatchback          rwd           front        94.5  ...          152   \n",
       "\n",
       "   fuel-system  bore  stroke compression-ratio horsepower  peak-rpm city-mpg  \\\n",
       "0         mpfi  3.47    2.68               9.0        111      5000       21   \n",
       "1         mpfi  3.47    2.68               9.0        111      5000       21   \n",
       "2         mpfi  2.68    3.47               9.0        154      5000       19   \n",
       "\n",
       "  highway-mpg  price  \n",
       "0          27  13495  \n",
       "1          27  16500  \n",
       "2          26  16500  \n",
       "\n",
       "[3 rows x 26 columns]"
      ]
     },
     "execution_count": 3,
     "metadata": {},
     "output_type": "execute_result"
    }
   ],
   "source": [
    "# To see the first rows\n",
    "df.head(3)"
   ]
  },
  {
   "cell_type": "code",
   "execution_count": 4,
   "metadata": {},
   "outputs": [
    {
     "data": {
      "text/plain": [
       "(205, 26)"
      ]
     },
     "execution_count": 4,
     "metadata": {},
     "output_type": "execute_result"
    }
   ],
   "source": [
    "# To see data size\n",
    "df.shape"
   ]
  },
  {
   "cell_type": "markdown",
   "metadata": {},
   "source": [
    "This data set has 205 rows and 26 attributions."
   ]
  },
  {
   "cell_type": "markdown",
   "metadata": {},
   "source": [
    "## To select necessary attributions to solve problem \n",
    "The curb-weight variable will serve as the response variable for regression models.\n",
    "\n",
    "The explanatory variables are as follows: height, width, length, wheel-base, engine-size, horsepower, peak-rpm, and city-mpg."
   ]
  },
  {
   "cell_type": "code",
   "execution_count": 5,
   "metadata": {},
   "outputs": [],
   "source": [
    "necessary_attrs = ['curb-weight', 'height', 'width', 'length', 'wheel-base', \n",
    "                   'engine-size', 'horsepower', 'peak-rpm', 'city-mpg']"
   ]
  },
  {
   "cell_type": "code",
   "execution_count": 6,
   "metadata": {},
   "outputs": [],
   "source": [
    "# To create a sub-data set with necessary attributions\n",
    "car_df = df[necessary_attrs]"
   ]
  },
  {
   "cell_type": "code",
   "execution_count": 7,
   "metadata": {},
   "outputs": [
    {
     "data": {
      "text/plain": [
       "Index(['curb-weight', 'height', 'width', 'length', 'wheel-base', 'engine-size',\n",
       "       'horsepower', 'peak-rpm', 'city-mpg'],\n",
       "      dtype='object')"
      ]
     },
     "execution_count": 7,
     "metadata": {},
     "output_type": "execute_result"
    }
   ],
   "source": [
    "# To see columns\n",
    "car_df.columns"
   ]
  },
  {
   "cell_type": "code",
   "execution_count": 8,
   "metadata": {},
   "outputs": [
    {
     "name": "stdout",
     "output_type": "stream",
     "text": [
      "<class 'pandas.core.frame.DataFrame'>\n",
      "RangeIndex: 205 entries, 0 to 204\n",
      "Data columns (total 9 columns):\n",
      " #   Column       Non-Null Count  Dtype  \n",
      "---  ------       --------------  -----  \n",
      " 0   curb-weight  205 non-null    int64  \n",
      " 1   height       205 non-null    float64\n",
      " 2   width        205 non-null    float64\n",
      " 3   length       205 non-null    float64\n",
      " 4   wheel-base   205 non-null    float64\n",
      " 5   engine-size  205 non-null    int64  \n",
      " 6   horsepower   205 non-null    object \n",
      " 7   peak-rpm     205 non-null    object \n",
      " 8   city-mpg     205 non-null    int64  \n",
      "dtypes: float64(4), int64(3), object(2)\n",
      "memory usage: 14.5+ KB\n"
     ]
    }
   ],
   "source": [
    "# To see data types\n",
    "car_df.info()"
   ]
  },
  {
   "cell_type": "markdown",
   "metadata": {},
   "source": [
    "This data set does not have non-null values. All colmns do not lack data."
   ]
  },
  {
   "cell_type": "code",
   "execution_count": 9,
   "metadata": {
    "scrolled": true
   },
   "outputs": [],
   "source": [
    "# import pandas_profiling\n",
    "# pandas_profiling.ProfileReport(car_df)"
   ]
  },
  {
   "cell_type": "markdown",
   "metadata": {},
   "source": [
    "### Attribute Information and Selecting Appropriate Plots:\n",
    "\n",
    "|Attribute: Attribute Range|Data Type | Description| Plots |\n",
    "| :--- | :--- | :--- |:--- |\n",
    "|0. curb-weight:  from 1488 to 4066.                   |continuous | | boxplot, barchar, Histogram|\n",
    "|1. height:  from 47.8 to 59.8.                        |continuous | | boxplot, barchar, Histogram|\n",
    "|2. width:  from 60.3 to 72.3.                         |continuous | | boxplot, barchar, Histogram|\n",
    "|3. length:  from 141.1 to 208.1.                      |continuous| | boxplot, barchar, Histogram|\n",
    "|4. wheel-base:  from 86.6 120.9.                      |continuous | |boxplot, barchar, Histogram|\n",
    "|5. engine-size:  from 61 to 326.                      |continuous | | boxplot, barchar, Histogram|\n",
    "|6. horsepower:  from 48 to 288.                       |categorical | | boxplot, barchar|\n",
    "|7. peak-rpm:  from 4150 to 6600.                      |categorical | | boxplot, barchar|\n",
    "|8. city-mpg:  from 13 to 49.                          |continuous | | boxplot, barchar, Histogram|\n"
   ]
  },
  {
   "cell_type": "markdown",
   "metadata": {},
   "source": [
    "# 2. Exploratory Data Analysis\n",
    "\n",
    "- Using histogram to see the distribution of continuous variables and using boxplot to find out outliers.\n",
    "\n",
    "- Using bar chart to see the categorical variables.\n",
    "\n",
    "- Using correlation table and heatmap to see correlations for curb-weight versus other variables.\n",
    "\n",
    "- Using scatter matrix to see trends for curb-weight versus other variables."
   ]
  },
  {
   "cell_type": "code",
   "execution_count": 10,
   "metadata": {},
   "outputs": [
    {
     "data": {
      "text/html": [
       "<div>\n",
       "<style scoped>\n",
       "    .dataframe tbody tr th:only-of-type {\n",
       "        vertical-align: middle;\n",
       "    }\n",
       "\n",
       "    .dataframe tbody tr th {\n",
       "        vertical-align: top;\n",
       "    }\n",
       "\n",
       "    .dataframe thead th {\n",
       "        text-align: right;\n",
       "    }\n",
       "</style>\n",
       "<table border=\"1\" class=\"dataframe\">\n",
       "  <thead>\n",
       "    <tr style=\"text-align: right;\">\n",
       "      <th></th>\n",
       "      <th>curb-weight</th>\n",
       "      <th>height</th>\n",
       "      <th>width</th>\n",
       "      <th>length</th>\n",
       "      <th>wheel-base</th>\n",
       "      <th>engine-size</th>\n",
       "      <th>city-mpg</th>\n",
       "    </tr>\n",
       "  </thead>\n",
       "  <tbody>\n",
       "    <tr>\n",
       "      <th>count</th>\n",
       "      <td>205.000000</td>\n",
       "      <td>205.000000</td>\n",
       "      <td>205.000000</td>\n",
       "      <td>205.000000</td>\n",
       "      <td>205.000000</td>\n",
       "      <td>205.000000</td>\n",
       "      <td>205.000000</td>\n",
       "    </tr>\n",
       "    <tr>\n",
       "      <th>mean</th>\n",
       "      <td>2555.565854</td>\n",
       "      <td>53.724878</td>\n",
       "      <td>65.907805</td>\n",
       "      <td>174.049268</td>\n",
       "      <td>98.756585</td>\n",
       "      <td>126.907317</td>\n",
       "      <td>25.219512</td>\n",
       "    </tr>\n",
       "    <tr>\n",
       "      <th>std</th>\n",
       "      <td>520.680204</td>\n",
       "      <td>2.443522</td>\n",
       "      <td>2.145204</td>\n",
       "      <td>12.337289</td>\n",
       "      <td>6.021776</td>\n",
       "      <td>41.642693</td>\n",
       "      <td>6.542142</td>\n",
       "    </tr>\n",
       "    <tr>\n",
       "      <th>min</th>\n",
       "      <td>1488.000000</td>\n",
       "      <td>47.800000</td>\n",
       "      <td>60.300000</td>\n",
       "      <td>141.100000</td>\n",
       "      <td>86.600000</td>\n",
       "      <td>61.000000</td>\n",
       "      <td>13.000000</td>\n",
       "    </tr>\n",
       "    <tr>\n",
       "      <th>25%</th>\n",
       "      <td>2145.000000</td>\n",
       "      <td>52.000000</td>\n",
       "      <td>64.100000</td>\n",
       "      <td>166.300000</td>\n",
       "      <td>94.500000</td>\n",
       "      <td>97.000000</td>\n",
       "      <td>19.000000</td>\n",
       "    </tr>\n",
       "    <tr>\n",
       "      <th>50%</th>\n",
       "      <td>2414.000000</td>\n",
       "      <td>54.100000</td>\n",
       "      <td>65.500000</td>\n",
       "      <td>173.200000</td>\n",
       "      <td>97.000000</td>\n",
       "      <td>120.000000</td>\n",
       "      <td>24.000000</td>\n",
       "    </tr>\n",
       "    <tr>\n",
       "      <th>75%</th>\n",
       "      <td>2935.000000</td>\n",
       "      <td>55.500000</td>\n",
       "      <td>66.900000</td>\n",
       "      <td>183.100000</td>\n",
       "      <td>102.400000</td>\n",
       "      <td>141.000000</td>\n",
       "      <td>30.000000</td>\n",
       "    </tr>\n",
       "    <tr>\n",
       "      <th>max</th>\n",
       "      <td>4066.000000</td>\n",
       "      <td>59.800000</td>\n",
       "      <td>72.300000</td>\n",
       "      <td>208.100000</td>\n",
       "      <td>120.900000</td>\n",
       "      <td>326.000000</td>\n",
       "      <td>49.000000</td>\n",
       "    </tr>\n",
       "  </tbody>\n",
       "</table>\n",
       "</div>"
      ],
      "text/plain": [
       "       curb-weight      height       width      length  wheel-base  \\\n",
       "count   205.000000  205.000000  205.000000  205.000000  205.000000   \n",
       "mean   2555.565854   53.724878   65.907805  174.049268   98.756585   \n",
       "std     520.680204    2.443522    2.145204   12.337289    6.021776   \n",
       "min    1488.000000   47.800000   60.300000  141.100000   86.600000   \n",
       "25%    2145.000000   52.000000   64.100000  166.300000   94.500000   \n",
       "50%    2414.000000   54.100000   65.500000  173.200000   97.000000   \n",
       "75%    2935.000000   55.500000   66.900000  183.100000  102.400000   \n",
       "max    4066.000000   59.800000   72.300000  208.100000  120.900000   \n",
       "\n",
       "       engine-size    city-mpg  \n",
       "count   205.000000  205.000000  \n",
       "mean    126.907317   25.219512  \n",
       "std      41.642693    6.542142  \n",
       "min      61.000000   13.000000  \n",
       "25%      97.000000   19.000000  \n",
       "50%     120.000000   24.000000  \n",
       "75%     141.000000   30.000000  \n",
       "max     326.000000   49.000000  "
      ]
     },
     "execution_count": 10,
     "metadata": {},
     "output_type": "execute_result"
    }
   ],
   "source": [
    "# To describe the data set\n",
    "car_df.describe()"
   ]
  },
  {
   "cell_type": "code",
   "execution_count": 11,
   "metadata": {},
   "outputs": [],
   "source": [
    "# list of the numeric column name\n",
    "numeric_cols = ['curb-weight', 'height', 'width', 'length', 'wheel-base', \n",
    "                   'engine-size', 'city-mpg']"
   ]
  },
  {
   "cell_type": "code",
   "execution_count": 12,
   "metadata": {},
   "outputs": [
    {
     "data": {
      "image/png": "[encoded data removed]",
      "text/plain": [
       "<Figure size 1440x1080 with 9 Axes>"
      ]
     },
     "metadata": {
      "needs_background": "light"
     },
     "output_type": "display_data"
    }
   ],
   "source": [
    "# Using histogram to show continuous data\n",
    "%matplotlib inline\n",
    "\n",
    "car_df[numeric_cols].hist(bins=50, figsize=(20,15))\n",
    "plt.show()"
   ]
  },
  {
   "cell_type": "markdown",
   "metadata": {},
   "source": [
    "The above histogram and descriptive statistics show as following:\n",
    "\n",
    "The engine-size is skewed right with a median of 120, a min of 61, a max of 326, and a standard deviation of 41.64. It has outliers since 3 standard deviations above the mean(126) would be 250.92, but the max is 326.\n",
    "\n",
    "The city-mpg is skewed right with a median of 24, a min of 13, a max of 49, and a standard deviation of 6.54. It has outliers since 3 standard deviations above the mean(25.21) would be 44.83, but the max is 49.\n",
    "\n",
    "Other variables have no obvious outliers.\n",
    "\n",
    "Next, I will use boxplots to show the engine size and city-mpg."
   ]
  },
  {
   "cell_type": "code",
   "execution_count": 13,
   "metadata": {},
   "outputs": [
    {
     "data": {
      "image/png": "[encoded data removed]",
      "text/plain": [
       "<Figure size 432x288 with 1 Axes>"
      ]
     },
     "metadata": {
      "needs_background": "light"
     },
     "output_type": "display_data"
    }
   ],
   "source": [
    "car_df.boxplot(column=['engine-size'])\n",
    "plt.show()"
   ]
  },
  {
   "cell_type": "code",
   "execution_count": 14,
   "metadata": {},
   "outputs": [
    {
     "data": {
      "image/png": "[encoded data removed]",
      "text/plain": [
       "<Figure size 432x288 with 1 Axes>"
      ]
     },
     "metadata": {
      "needs_background": "light"
     },
     "output_type": "display_data"
    }
   ],
   "source": [
    "car_df.boxplot(column=['city-mpg'])\n",
    "plt.show()"
   ]
  },
  {
   "cell_type": "markdown",
   "metadata": {},
   "source": [
    "I will drop outliers in the Clean data because outliers can affect the accuracy of linear models."
   ]
  },
  {
   "cell_type": "markdown",
   "metadata": {},
   "source": [
    "Based on checking these attributes, two attributes are category data. We can do categorical data analysis.\n",
    "\n",
    "Then to draw bar charts to illustrate each category column."
   ]
  },
  {
   "cell_type": "code",
   "execution_count": 15,
   "metadata": {
    "scrolled": true
   },
   "outputs": [
    {
     "data": {
      "text/plain": [
       "68     19\n",
       "70     11\n",
       "69     10\n",
       "116     9\n",
       "110     8\n",
       "95      7\n",
       "62      6\n",
       "114     6\n",
       "160     6\n",
       "101     6\n",
       "88      6\n",
       "102     5\n",
       "82      5\n",
       "84      5\n",
       "76      5\n",
       "145     5\n",
       "97      5\n",
       "86      4\n",
       "111     4\n",
       "92      4\n",
       "123     4\n",
       "152     3\n",
       "90      3\n",
       "207     3\n",
       "85      3\n",
       "73      3\n",
       "182     3\n",
       "121     3\n",
       "184     2\n",
       "176     2\n",
       "161     2\n",
       "?       2\n",
       "112     2\n",
       "94      2\n",
       "100     2\n",
       "155     2\n",
       "156     2\n",
       "56      2\n",
       "162     2\n",
       "52      2\n",
       "288     1\n",
       "142     1\n",
       "140     1\n",
       "262     1\n",
       "200     1\n",
       "135     1\n",
       "115     1\n",
       "134     1\n",
       "154     1\n",
       "58      1\n",
       "120     1\n",
       "106     1\n",
       "48      1\n",
       "175     1\n",
       "143     1\n",
       "60      1\n",
       "78      1\n",
       "64      1\n",
       "72      1\n",
       "55      1\n",
       "Name: horsepower, dtype: int64"
      ]
     },
     "execution_count": 15,
     "metadata": {},
     "output_type": "execute_result"
    }
   ],
   "source": [
    "car_df['horsepower'].value_counts()"
   ]
  },
  {
   "cell_type": "code",
   "execution_count": 16,
   "metadata": {},
   "outputs": [
    {
     "data": {
      "text/plain": [
       "5500    37\n",
       "4800    36\n",
       "5000    27\n",
       "5200    23\n",
       "5400    13\n",
       "6000     9\n",
       "4500     7\n",
       "5250     7\n",
       "5800     7\n",
       "4150     5\n",
       "4200     5\n",
       "4350     4\n",
       "4750     4\n",
       "4250     3\n",
       "4400     3\n",
       "5900     3\n",
       "5100     3\n",
       "6600     2\n",
       "?        2\n",
       "5600     1\n",
       "5750     1\n",
       "4650     1\n",
       "5300     1\n",
       "4900     1\n",
       "Name: peak-rpm, dtype: int64"
      ]
     },
     "execution_count": 16,
     "metadata": {},
     "output_type": "execute_result"
    }
   ],
   "source": [
    "car_df['peak-rpm'].value_counts()"
   ]
  },
  {
   "cell_type": "code",
   "execution_count": 17,
   "metadata": {},
   "outputs": [],
   "source": [
    "def groupby_column_size(g_series, ax, title):\n",
    "    bar_names = g_series.index\n",
    "    bar_values = g_series.values\n",
    "    X = np.arange(len(bar_values))\n",
    "    width=0.1\n",
    "\n",
    "    # to draw a bar chart\n",
    "    ax.bar(X, bar_values, alpha=0.9, width = width, color='blue')\n",
    "    \n",
    "    # to set x and y axis label\n",
    "    ax.set_xlabel(title)\n",
    "    ax.set_ylabel('count')\n",
    "    \n",
    "    # the ticks of x axis\n",
    "    ax.set_xticks(X)\n",
    "\n",
    "    # the label of each group\n",
    "    ax.set_xticklabels(bar_names)\n",
    "    \n",
    "def car_column_groupby_bar(car_df, cols):\n",
    "    \"\"\"\n",
    "    To draw bar charts for all columns.\n",
    "\n",
    "    Input parameters:\n",
    "      none.\n",
    "\n",
    "    Returns:\n",
    "      null.\n",
    "\n",
    "    Raises:\n",
    "      none\n",
    "    \"\"\"\n",
    "    \n",
    "    # Create 24 subplots and unpack the output array immediately\n",
    "    fig, axsubs = plt.subplots(1, 2, sharey=True, figsize=(16, 6))\n",
    "\n",
    "    # To draw bar chart and best fit line\n",
    "    groupby_column_size(car_df.groupby(cols[0], sort=True).size(), axsubs[0], cols[0])\n",
    "    groupby_column_size(car_df.groupby(cols[1], sort=True).size(), axsubs[1], cols[1])\n",
    "    \n",
    "\n",
    "    # Tweak spacing to prevent clipping of ylabel\n",
    "    fig.tight_layout()\n",
    "    plt.show()"
   ]
  },
  {
   "cell_type": "code",
   "execution_count": 18,
   "metadata": {},
   "outputs": [
    {
     "data": {
      "image/png": "[encoded data removed]",
      "text/plain": [
       "<Figure size 1152x432 with 2 Axes>"
      ]
     },
     "metadata": {
      "needs_background": "light"
     },
     "output_type": "display_data"
    }
   ],
   "source": [
    "# To call mat_school_gender_hist to show picture\n",
    "car_column_groupby_bar(car_df, [necessary_attrs[6], necessary_attrs[7]])"
   ]
  },
  {
   "cell_type": "code",
   "execution_count": 19,
   "metadata": {},
   "outputs": [
    {
     "data": {
      "text/plain": [
       "array(['111', '154', '102', '115', '110', '140', '160', '101', '121',\n",
       "       '182', '48', '70', '68', '88', '145', '58', '76', '60', '86',\n",
       "       '100', '78', '90', '176', '262', '135', '84', '64', '120', '72',\n",
       "       '123', '155', '184', '175', '116', '69', '55', '97', '152', '200',\n",
       "       '95', '142', '143', '207', '288', '?', '73', '82', '94', '62',\n",
       "       '56', '112', '92', '161', '156', '52', '85', '114', '162', '134',\n",
       "       '106'], dtype=object)"
      ]
     },
     "execution_count": 19,
     "metadata": {},
     "output_type": "execute_result"
    }
   ],
   "source": [
    "car_df['horsepower'].unique()"
   ]
  },
  {
   "cell_type": "code",
   "execution_count": 20,
   "metadata": {},
   "outputs": [
    {
     "data": {
      "text/plain": [
       "array(['5000', '5500', '5800', '4250', '5400', '5100', '4800', '6000',\n",
       "       '4750', '4650', '4200', '4350', '4500', '5200', '4150', '5600',\n",
       "       '5900', '5750', '?', '5250', '4900', '4400', '6600', '5300'],\n",
       "      dtype=object)"
      ]
     },
     "execution_count": 20,
     "metadata": {},
     "output_type": "execute_result"
    }
   ],
   "source": [
    "car_df['peak-rpm'].unique()"
   ]
  },
  {
   "cell_type": "markdown",
   "metadata": {},
   "source": [
    "1) The above bar charts show that the horsepower and the peak-rpm have '?' values. The '?' values need to drop in the Data Preparation step.\n",
    "\n",
    "2) The horsepower and peak-rpm have many values. It is difficult to be an effective categorical variable. I will convert them in the select and create features."
   ]
  },
  {
   "cell_type": "markdown",
   "metadata": {},
   "source": [
    "Next, to see the correlation."
   ]
  },
  {
   "cell_type": "code",
   "execution_count": 21,
   "metadata": {},
   "outputs": [
    {
     "data": {
      "text/plain": [
       "curb-weight    1.000000\n",
       "length         0.877728\n",
       "width          0.867032\n",
       "engine-size    0.850594\n",
       "wheel-base     0.776386\n",
       "height         0.295572\n",
       "city-mpg      -0.757414\n",
       "Name: curb-weight, dtype: float64"
      ]
     },
     "execution_count": 21,
     "metadata": {},
     "output_type": "execute_result"
    }
   ],
   "source": [
    "corr_matrix = car_df.corr()\n",
    "corr_matrix['curb-weight'].sort_values(ascending = False)"
   ]
  },
  {
   "cell_type": "code",
   "execution_count": 22,
   "metadata": {},
   "outputs": [
    {
     "data": {
      "image/png": "[encoded data removed]",
      "text/plain": [
       "<Figure size 576x432 with 2 Axes>"
      ]
     },
     "metadata": {
      "needs_background": "light"
     },
     "output_type": "display_data"
    }
   ],
   "source": [
    "# correlation heatmap \n",
    "plt.figure(figsize=(8,6))\n",
    "ax = sns.heatmap(car_df.corr(), cmap='coolwarm', annot=True)\n",
    "plt.show()"
   ]
  },
  {
   "cell_type": "markdown",
   "metadata": {},
   "source": [
    "The above heatmap and correlation table show as following:\n",
    "\n",
    "The curb-weight and the length have the highest correlation value with 0.877.\n",
    "\n",
    "But, the curb-weight and the city-mpg have the lowest correlation value with -0.757."
   ]
  },
  {
   "cell_type": "markdown",
   "metadata": {},
   "source": [
    "Next, to use a scatter chart to illustrate relations."
   ]
  },
  {
   "cell_type": "code",
   "execution_count": 23,
   "metadata": {},
   "outputs": [
    {
     "data": {
      "image/png": "[encoded data removed]",
      "text/plain": [
       "<Figure size 864x576 with 49 Axes>"
      ]
     },
     "metadata": {
      "needs_background": "light"
     },
     "output_type": "display_data"
    }
   ],
   "source": [
    "# from pandas.tools.plotting import scatter_matrix # For older versions of Pandas\n",
    "from pandas.plotting import scatter_matrix\n",
    "\n",
    "scatter_matrix(car_df[numeric_cols], figsize=(12, 8))\n",
    "plt.show()"
   ]
  },
  {
   "cell_type": "markdown",
   "metadata": {},
   "source": [
    "The above scatter chart and descriptive statistics show as following:\n",
    "\n",
    "The curb-weight and the height show a slight upward trend.\n",
    "\n",
    "(curb-weight, width), (curb-weight, length), (curb-weight, wheel-base), and (curb-weight, engine-size) show a clear upward line.\n",
    "\n",
    "But, curb-weight and the city-mpg show a downward trend."
   ]
  },
  {
   "cell_type": "markdown",
   "metadata": {},
   "source": [
    "## Summary of EDA\n",
    "- The engine-size and the city-mpg have obvious outliers. I will drop these outliers.\n",
    "- The horsepower and the peak-rpm have '?' values. I will drop these '?' rows.\n",
    "- The horsepower and peak-rpm have many categories. I will convert them to 4 levels.\n",
    "- The curb-weight and the length have the highest correlation value. But the curb-weight and the city-mpg have a negative correlation value. When I select features, I would prefer variables with high correlation values.\n",
    "- The width, length, wheel-base, and engine-size are preferred features. I will select them to train models."
   ]
  },
  {
   "cell_type": "markdown",
   "metadata": {},
   "source": [
    "# 3. Data Preparation (Clean Data)\n",
    "- Drop outliers from engine-size and city-mpg\n",
    "- Drop NaN and null values\n",
    "- Drop ? from horsepower and peak-rpm"
   ]
  },
  {
   "cell_type": "markdown",
   "metadata": {},
   "source": [
    "### To drop outliers from engine-size and city-mpg\n",
    "\n",
    "- Drop data from engine-size that large than (mean + 3 * standard deviation)\n",
    "- Drop data from city-mpg that large than (mean + 3 * standard deviation)"
   ]
  },
  {
   "cell_type": "code",
   "execution_count": 24,
   "metadata": {},
   "outputs": [
    {
     "name": "stdout",
     "output_type": "stream",
     "text": [
      "The value of (mean + 3 * standard deviation) in engine-size is 251.8354\n"
     ]
    }
   ],
   "source": [
    "engine_size_mean_3std = car_df['engine-size'].mean() + 3 * car_df['engine-size'].std()\n",
    "print('The value of (mean + 3 * standard deviation) in engine-size is %.4f' %engine_size_mean_3std)"
   ]
  },
  {
   "cell_type": "code",
   "execution_count": 25,
   "metadata": {},
   "outputs": [
    {
     "name": "stdout",
     "output_type": "stream",
     "text": [
      "The value of (mean + 3 * standard deviation) in city-mpg is 44.8459\n"
     ]
    }
   ],
   "source": [
    "city_mpg_mean_3std = car_df['city-mpg'].mean() + 3 * car_df['city-mpg'].std()\n",
    "print('The value of (mean + 3 * standard deviation) in city-mpg is %.4f' %city_mpg_mean_3std)"
   ]
  },
  {
   "cell_type": "code",
   "execution_count": 26,
   "metadata": {},
   "outputs": [
    {
     "data": {
      "text/plain": [
       "(197, 9)"
      ]
     },
     "execution_count": 26,
     "metadata": {},
     "output_type": "execute_result"
    }
   ],
   "source": [
    "# To drop all outliers with conditions\n",
    "car_df.drop(car_df[(car_df['engine-size'] > engine_size_mean_3std) | (car_df['city-mpg'] > city_mpg_mean_3std)].index, inplace = True)\n",
    "car_df.shape"
   ]
  },
  {
   "cell_type": "code",
   "execution_count": 27,
   "metadata": {},
   "outputs": [
    {
     "data": {
      "image/png": "[encoded data removed]",
      "text/plain": [
       "<Figure size 432x288 with 1 Axes>"
      ]
     },
     "metadata": {
      "needs_background": "light"
     },
     "output_type": "display_data"
    }
   ],
   "source": [
    "car_df.boxplot(column=['engine-size'])\n",
    "plt.show()"
   ]
  },
  {
   "cell_type": "code",
   "execution_count": 28,
   "metadata": {},
   "outputs": [
    {
     "data": {
      "image/png": "[encoded data removed]",
      "text/plain": [
       "<Figure size 432x288 with 1 Axes>"
      ]
     },
     "metadata": {
      "needs_background": "light"
     },
     "output_type": "display_data"
    }
   ],
   "source": [
    "car_df.boxplot(column=['city-mpg'])\n",
    "plt.show()"
   ]
  },
  {
   "cell_type": "markdown",
   "metadata": {},
   "source": [
    "The engine-size and the city-mpg do not have outliers now."
   ]
  },
  {
   "cell_type": "markdown",
   "metadata": {},
   "source": [
    "### To drop NaN and null values"
   ]
  },
  {
   "cell_type": "code",
   "execution_count": 29,
   "metadata": {},
   "outputs": [
    {
     "name": "stdout",
     "output_type": "stream",
     "text": [
      "<class 'pandas.core.frame.DataFrame'>\n",
      "Int64Index: 197 entries, 0 to 204\n",
      "Data columns (total 9 columns):\n",
      " #   Column       Non-Null Count  Dtype  \n",
      "---  ------       --------------  -----  \n",
      " 0   curb-weight  197 non-null    int64  \n",
      " 1   height       197 non-null    float64\n",
      " 2   width        197 non-null    float64\n",
      " 3   length       197 non-null    float64\n",
      " 4   wheel-base   197 non-null    float64\n",
      " 5   engine-size  197 non-null    int64  \n",
      " 6   horsepower   197 non-null    object \n",
      " 7   peak-rpm     197 non-null    object \n",
      " 8   city-mpg     197 non-null    int64  \n",
      "dtypes: float64(4), int64(3), object(2)\n",
      "memory usage: 15.4+ KB\n"
     ]
    }
   ],
   "source": [
    "# To check NaN\n",
    "car_df.info()"
   ]
  },
  {
   "cell_type": "markdown",
   "metadata": {},
   "source": [
    "There are not Nan or Null values."
   ]
  },
  {
   "cell_type": "markdown",
   "metadata": {},
   "source": [
    "### To drop ? in horsepower and peak-rpm"
   ]
  },
  {
   "cell_type": "code",
   "execution_count": 30,
   "metadata": {},
   "outputs": [],
   "source": [
    "# car_df.loc[:, ('horsepower')] = car_df.drop(car_df[car_df['horsepower'] == '?'].index)\n",
    "# car_df.loc[:, ('peak-rpm')] = car_df.drop(car_df[car_df['peak-rpm'] == '?'].index)\n",
    "car_df.drop(car_df[car_df['horsepower'] == '?'].index, inplace = True)\n",
    "car_df.drop(car_df[car_df['peak-rpm'] == '?'].index, inplace = True)"
   ]
  },
  {
   "cell_type": "code",
   "execution_count": 31,
   "metadata": {},
   "outputs": [
    {
     "data": {
      "text/plain": [
       "(195, 9)"
      ]
     },
     "execution_count": 31,
     "metadata": {},
     "output_type": "execute_result"
    }
   ],
   "source": [
    "car_df.shape"
   ]
  },
  {
   "cell_type": "markdown",
   "metadata": {},
   "source": [
    "After drop ? from horsepower and peak-rpm, the step of Clean Data has finished.."
   ]
  },
  {
   "cell_type": "markdown",
   "metadata": {},
   "source": [
    "# 4. Select and Create Features\n",
    "- To process horsepower and peak-rpm\n",
    "    - The categorical variables horsepower and peak-rpm have many values. It is difficult to be an effective categorical variable. I will convert them."
   ]
  },
  {
   "cell_type": "markdown",
   "metadata": {},
   "source": [
    "### To process  horsepower and peak-rpm\n",
    "\n",
    "I want to split horsepower and peak-rpm into 4 levels.\n",
    "- level 1: value < 25% (quantile 1)\n",
    "- level 2: value >= 25% (quantile 1) and value < 50% (quantile 2)\n",
    "- level 3: value >= 50% (quantile 2) and value < 75% (quantile 3)\n",
    "- level 4: value >= 75% (quantile 4)"
   ]
  },
  {
   "cell_type": "code",
   "execution_count": 32,
   "metadata": {},
   "outputs": [],
   "source": [
    "# copy a data set\n",
    "lg_car_df = car_df.copy()"
   ]
  },
  {
   "cell_type": "code",
   "execution_count": 33,
   "metadata": {},
   "outputs": [],
   "source": [
    "categorical_cols = ['horsepower', 'peak-rpm']"
   ]
  },
  {
   "cell_type": "code",
   "execution_count": 34,
   "metadata": {},
   "outputs": [],
   "source": [
    "def get_4qs(df, col):\n",
    "    result = {}\n",
    "    result['q1'] = df[col].quantile(.25)\n",
    "    result['q2'] = df[col].quantile(.50)\n",
    "    result['q3'] = df[col].quantile(.75)\n",
    "    return result\n",
    "\n",
    "def get_level(q4_dict, a):\n",
    "    level = 'q1'\n",
    "    if a <= q4_dict.get('q1'):\n",
    "        level = 'q1'\n",
    "    elif a > q4_dict.get('q1') and a <= q4_dict.get('q2'):\n",
    "        level = 'q2'\n",
    "    elif a > q4_dict.get('q2') and a <= q4_dict.get('q3'):\n",
    "        level = 'q3'\n",
    "    else:\n",
    "        level = 'q4'\n",
    "        \n",
    "    return level\n",
    "\n",
    "def split_by_q1_to_q4(df, cols):\n",
    "    \n",
    "    for col in cols:\n",
    "        q4_dict = get_4qs(df, col)\n",
    "        \n",
    "        df.loc[:, (col)] = df.apply(lambda row: get_level(q4_dict, row[col]), axis=1)"
   ]
  },
  {
   "cell_type": "code",
   "execution_count": 35,
   "metadata": {},
   "outputs": [],
   "source": [
    "lg_car_df.loc[:, ('horsepower', 'peak-rpm')] = lg_car_df[categorical_cols].astype(float)"
   ]
  },
  {
   "cell_type": "code",
   "execution_count": 36,
   "metadata": {},
   "outputs": [],
   "source": [
    "split_by_q1_to_q4(lg_car_df, ['horsepower', 'peak-rpm'])"
   ]
  },
  {
   "cell_type": "code",
   "execution_count": 37,
   "metadata": {},
   "outputs": [
    {
     "data": {
      "text/html": [
       "<div>\n",
       "<style scoped>\n",
       "    .dataframe tbody tr th:only-of-type {\n",
       "        vertical-align: middle;\n",
       "    }\n",
       "\n",
       "    .dataframe tbody tr th {\n",
       "        vertical-align: top;\n",
       "    }\n",
       "\n",
       "    .dataframe thead th {\n",
       "        text-align: right;\n",
       "    }\n",
       "</style>\n",
       "<table border=\"1\" class=\"dataframe\">\n",
       "  <thead>\n",
       "    <tr style=\"text-align: right;\">\n",
       "      <th></th>\n",
       "      <th>curb-weight</th>\n",
       "      <th>height</th>\n",
       "      <th>width</th>\n",
       "      <th>length</th>\n",
       "      <th>wheel-base</th>\n",
       "      <th>engine-size</th>\n",
       "      <th>horsepower</th>\n",
       "      <th>peak-rpm</th>\n",
       "      <th>city-mpg</th>\n",
       "    </tr>\n",
       "  </thead>\n",
       "  <tbody>\n",
       "    <tr>\n",
       "      <th>0</th>\n",
       "      <td>2548</td>\n",
       "      <td>48.8</td>\n",
       "      <td>64.1</td>\n",
       "      <td>168.8</td>\n",
       "      <td>88.6</td>\n",
       "      <td>130</td>\n",
       "      <td>q3</td>\n",
       "      <td>q2</td>\n",
       "      <td>21</td>\n",
       "    </tr>\n",
       "    <tr>\n",
       "      <th>1</th>\n",
       "      <td>2548</td>\n",
       "      <td>48.8</td>\n",
       "      <td>64.1</td>\n",
       "      <td>168.8</td>\n",
       "      <td>88.6</td>\n",
       "      <td>130</td>\n",
       "      <td>q3</td>\n",
       "      <td>q2</td>\n",
       "      <td>21</td>\n",
       "    </tr>\n",
       "    <tr>\n",
       "      <th>2</th>\n",
       "      <td>2823</td>\n",
       "      <td>52.4</td>\n",
       "      <td>65.5</td>\n",
       "      <td>171.2</td>\n",
       "      <td>94.5</td>\n",
       "      <td>152</td>\n",
       "      <td>q4</td>\n",
       "      <td>q2</td>\n",
       "      <td>19</td>\n",
       "    </tr>\n",
       "    <tr>\n",
       "      <th>3</th>\n",
       "      <td>2337</td>\n",
       "      <td>54.3</td>\n",
       "      <td>66.2</td>\n",
       "      <td>176.6</td>\n",
       "      <td>99.8</td>\n",
       "      <td>109</td>\n",
       "      <td>q3</td>\n",
       "      <td>q3</td>\n",
       "      <td>24</td>\n",
       "    </tr>\n",
       "    <tr>\n",
       "      <th>4</th>\n",
       "      <td>2824</td>\n",
       "      <td>54.3</td>\n",
       "      <td>66.4</td>\n",
       "      <td>176.6</td>\n",
       "      <td>99.4</td>\n",
       "      <td>136</td>\n",
       "      <td>q3</td>\n",
       "      <td>q3</td>\n",
       "      <td>18</td>\n",
       "    </tr>\n",
       "  </tbody>\n",
       "</table>\n",
       "</div>"
      ],
      "text/plain": [
       "   curb-weight  height  width  length  wheel-base  engine-size horsepower  \\\n",
       "0         2548    48.8   64.1   168.8        88.6          130         q3   \n",
       "1         2548    48.8   64.1   168.8        88.6          130         q3   \n",
       "2         2823    52.4   65.5   171.2        94.5          152         q4   \n",
       "3         2337    54.3   66.2   176.6        99.8          109         q3   \n",
       "4         2824    54.3   66.4   176.6        99.4          136         q3   \n",
       "\n",
       "  peak-rpm  city-mpg  \n",
       "0       q2        21  \n",
       "1       q2        21  \n",
       "2       q2        19  \n",
       "3       q3        24  \n",
       "4       q3        18  "
      ]
     },
     "execution_count": 37,
     "metadata": {},
     "output_type": "execute_result"
    }
   ],
   "source": [
    "lg_car_df.head()"
   ]
  },
  {
   "cell_type": "code",
   "execution_count": 38,
   "metadata": {},
   "outputs": [
    {
     "data": {
      "image/png": "[encoded data removed]",
      "text/plain": [
       "<Figure size 1152x432 with 2 Axes>"
      ]
     },
     "metadata": {
      "needs_background": "light"
     },
     "output_type": "display_data"
    }
   ],
   "source": [
    "car_column_groupby_bar(lg_car_df, ['horsepower', 'peak-rpm'])"
   ]
  },
  {
   "cell_type": "markdown",
   "metadata": {},
   "source": [
    "# 5. Standardize and Dummy Variables\n",
    "\n",
    "\n",
    "- Standardize Explanatory variables\n",
    "  - The reasons why Explanatory variables should standardize.\n",
    "    - If two Explanatory variables have different scales, they might affect the accuracy of models. For example, the mean engine-size is 126.9 but the mean of the city-mpg is 25.2.\n",
    "\n",
    "- Create dummy value for categorical variables"
   ]
  },
  {
   "cell_type": "markdown",
   "metadata": {},
   "source": [
    "### Standardize Explanatory variables\n",
    "- Standardization typically means rescales data to have a mean of 0 and a standard deviation of 1"
   ]
  },
  {
   "cell_type": "code",
   "execution_count": 39,
   "metadata": {},
   "outputs": [],
   "source": [
    "norm_lg_car_df = lg_car_df.copy()"
   ]
  },
  {
   "cell_type": "code",
   "execution_count": 40,
   "metadata": {},
   "outputs": [],
   "source": [
    "norm_lg_car_df['height'] = preprocessing.scale(norm_lg_car_df['height'])\n",
    "norm_lg_car_df['width'] = preprocessing.scale(norm_lg_car_df['width'])\n",
    "norm_lg_car_df['length'] = preprocessing.scale(norm_lg_car_df['length'])\n",
    "norm_lg_car_df['wheel-base'] = preprocessing.scale(norm_lg_car_df['wheel-base'])\n",
    "norm_lg_car_df['engine-size'] = preprocessing.scale(norm_lg_car_df['engine-size'])\n",
    "norm_lg_car_df['city-mpg'] = preprocessing.scale(norm_lg_car_df['city-mpg'])"
   ]
  },
  {
   "cell_type": "code",
   "execution_count": 41,
   "metadata": {},
   "outputs": [
    {
     "data": {
      "text/html": [
       "<div>\n",
       "<style scoped>\n",
       "    .dataframe tbody tr th:only-of-type {\n",
       "        vertical-align: middle;\n",
       "    }\n",
       "\n",
       "    .dataframe tbody tr th {\n",
       "        vertical-align: top;\n",
       "    }\n",
       "\n",
       "    .dataframe thead th {\n",
       "        text-align: right;\n",
       "    }\n",
       "</style>\n",
       "<table border=\"1\" class=\"dataframe\">\n",
       "  <thead>\n",
       "    <tr style=\"text-align: right;\">\n",
       "      <th></th>\n",
       "      <th>curb-weight</th>\n",
       "      <th>height</th>\n",
       "      <th>width</th>\n",
       "      <th>length</th>\n",
       "      <th>wheel-base</th>\n",
       "      <th>engine-size</th>\n",
       "      <th>horsepower</th>\n",
       "      <th>peak-rpm</th>\n",
       "      <th>city-mpg</th>\n",
       "    </tr>\n",
       "  </thead>\n",
       "  <tbody>\n",
       "    <tr>\n",
       "      <th>0</th>\n",
       "      <td>2548</td>\n",
       "      <td>-2.046351</td>\n",
       "      <td>-0.865850</td>\n",
       "      <td>-0.428769</td>\n",
       "      <td>-1.795350</td>\n",
       "      <td>0.205945</td>\n",
       "      <td>q3</td>\n",
       "      <td>q2</td>\n",
       "      <td>-0.715842</td>\n",
       "    </tr>\n",
       "    <tr>\n",
       "      <th>1</th>\n",
       "      <td>2548</td>\n",
       "      <td>-2.046351</td>\n",
       "      <td>-0.865850</td>\n",
       "      <td>-0.428769</td>\n",
       "      <td>-1.795350</td>\n",
       "      <td>0.205945</td>\n",
       "      <td>q3</td>\n",
       "      <td>q2</td>\n",
       "      <td>-0.715842</td>\n",
       "    </tr>\n",
       "    <tr>\n",
       "      <th>2</th>\n",
       "      <td>2823</td>\n",
       "      <td>-0.562170</td>\n",
       "      <td>-0.164434</td>\n",
       "      <td>-0.219001</td>\n",
       "      <td>-0.733643</td>\n",
       "      <td>0.881408</td>\n",
       "      <td>q4</td>\n",
       "      <td>q2</td>\n",
       "      <td>-1.057554</td>\n",
       "    </tr>\n",
       "    <tr>\n",
       "      <th>3</th>\n",
       "      <td>2337</td>\n",
       "      <td>0.221147</td>\n",
       "      <td>0.186273</td>\n",
       "      <td>0.252977</td>\n",
       "      <td>0.220093</td>\n",
       "      <td>-0.438815</td>\n",
       "      <td>q3</td>\n",
       "      <td>q3</td>\n",
       "      <td>-0.203275</td>\n",
       "    </tr>\n",
       "    <tr>\n",
       "      <th>4</th>\n",
       "      <td>2824</td>\n",
       "      <td>0.221147</td>\n",
       "      <td>0.286476</td>\n",
       "      <td>0.252977</td>\n",
       "      <td>0.148113</td>\n",
       "      <td>0.390162</td>\n",
       "      <td>q3</td>\n",
       "      <td>q3</td>\n",
       "      <td>-1.228409</td>\n",
       "    </tr>\n",
       "  </tbody>\n",
       "</table>\n",
       "</div>"
      ],
      "text/plain": [
       "   curb-weight    height     width    length  wheel-base  engine-size  \\\n",
       "0         2548 -2.046351 -0.865850 -0.428769   -1.795350     0.205945   \n",
       "1         2548 -2.046351 -0.865850 -0.428769   -1.795350     0.205945   \n",
       "2         2823 -0.562170 -0.164434 -0.219001   -0.733643     0.881408   \n",
       "3         2337  0.221147  0.186273  0.252977    0.220093    -0.438815   \n",
       "4         2824  0.221147  0.286476  0.252977    0.148113     0.390162   \n",
       "\n",
       "  horsepower peak-rpm  city-mpg  \n",
       "0         q3       q2 -0.715842  \n",
       "1         q3       q2 -0.715842  \n",
       "2         q4       q2 -1.057554  \n",
       "3         q3       q3 -0.203275  \n",
       "4         q3       q3 -1.228409  "
      ]
     },
     "execution_count": 41,
     "metadata": {},
     "output_type": "execute_result"
    }
   ],
   "source": [
    "norm_lg_car_df.head()"
   ]
  },
  {
   "cell_type": "code",
   "execution_count": 42,
   "metadata": {},
   "outputs": [
    {
     "name": "stdout",
     "output_type": "stream",
     "text": [
      "1.0, -0.0\n"
     ]
    }
   ],
   "source": [
    "print(\"%.1f, %.1f\" %(norm_lg_car_df['height'].std(), norm_lg_car_df['height'].mean()))"
   ]
  },
  {
   "cell_type": "markdown",
   "metadata": {},
   "source": [
    "### Create dummy value for categorical variables\n",
    "\n",
    "I will copy two data sets because I will train two linear regression models\n",
    "\n",
    "- model_df_1: length, width, engine-size, horsepower\n",
    "\n",
    "    - length         0.877728\n",
    "    - width          0.867032\n",
    "    - engine-size    0.850594\n",
    "\n",
    "- model_df_2: peak-rpm, width, engine-size, horsepower\n",
    "    "
   ]
  },
  {
   "cell_type": "code",
   "execution_count": 43,
   "metadata": {},
   "outputs": [],
   "source": [
    "model_df_1_cols = ['curb-weight', 'length', 'width', 'engine-size', 'horsepower']\n",
    "model_df_2_cols = ['curb-weight', 'peak-rpm', 'width', 'engine-size', 'horsepower']"
   ]
  },
  {
   "cell_type": "code",
   "execution_count": 44,
   "metadata": {},
   "outputs": [
    {
     "data": {
      "text/html": [
       "<div>\n",
       "<style scoped>\n",
       "    .dataframe tbody tr th:only-of-type {\n",
       "        vertical-align: middle;\n",
       "    }\n",
       "\n",
       "    .dataframe tbody tr th {\n",
       "        vertical-align: top;\n",
       "    }\n",
       "\n",
       "    .dataframe thead th {\n",
       "        text-align: right;\n",
       "    }\n",
       "</style>\n",
       "<table border=\"1\" class=\"dataframe\">\n",
       "  <thead>\n",
       "    <tr style=\"text-align: right;\">\n",
       "      <th></th>\n",
       "      <th>curb-weight</th>\n",
       "      <th>length</th>\n",
       "      <th>width</th>\n",
       "      <th>engine-size</th>\n",
       "      <th>horsepower_q1</th>\n",
       "      <th>horsepower_q2</th>\n",
       "      <th>horsepower_q3</th>\n",
       "      <th>horsepower_q4</th>\n",
       "    </tr>\n",
       "  </thead>\n",
       "  <tbody>\n",
       "    <tr>\n",
       "      <th>0</th>\n",
       "      <td>2548</td>\n",
       "      <td>-0.428769</td>\n",
       "      <td>-0.865850</td>\n",
       "      <td>0.205945</td>\n",
       "      <td>0</td>\n",
       "      <td>0</td>\n",
       "      <td>1</td>\n",
       "      <td>0</td>\n",
       "    </tr>\n",
       "    <tr>\n",
       "      <th>1</th>\n",
       "      <td>2548</td>\n",
       "      <td>-0.428769</td>\n",
       "      <td>-0.865850</td>\n",
       "      <td>0.205945</td>\n",
       "      <td>0</td>\n",
       "      <td>0</td>\n",
       "      <td>1</td>\n",
       "      <td>0</td>\n",
       "    </tr>\n",
       "    <tr>\n",
       "      <th>2</th>\n",
       "      <td>2823</td>\n",
       "      <td>-0.219001</td>\n",
       "      <td>-0.164434</td>\n",
       "      <td>0.881408</td>\n",
       "      <td>0</td>\n",
       "      <td>0</td>\n",
       "      <td>0</td>\n",
       "      <td>1</td>\n",
       "    </tr>\n",
       "  </tbody>\n",
       "</table>\n",
       "</div>"
      ],
      "text/plain": [
       "   curb-weight    length     width  engine-size  horsepower_q1  horsepower_q2  \\\n",
       "0         2548 -0.428769 -0.865850     0.205945              0              0   \n",
       "1         2548 -0.428769 -0.865850     0.205945              0              0   \n",
       "2         2823 -0.219001 -0.164434     0.881408              0              0   \n",
       "\n",
       "   horsepower_q3  horsepower_q4  \n",
       "0              1              0  \n",
       "1              1              0  \n",
       "2              0              1  "
      ]
     },
     "execution_count": 44,
     "metadata": {},
     "output_type": "execute_result"
    }
   ],
   "source": [
    "model_df_1 = norm_lg_car_df[model_df_1_cols]\n",
    "model_df_1 = pd.get_dummies(model_df_1)\n",
    "model_df_1.head(3)"
   ]
  },
  {
   "cell_type": "code",
   "execution_count": 45,
   "metadata": {},
   "outputs": [
    {
     "data": {
      "text/html": [
       "<div>\n",
       "<style scoped>\n",
       "    .dataframe tbody tr th:only-of-type {\n",
       "        vertical-align: middle;\n",
       "    }\n",
       "\n",
       "    .dataframe tbody tr th {\n",
       "        vertical-align: top;\n",
       "    }\n",
       "\n",
       "    .dataframe thead th {\n",
       "        text-align: right;\n",
       "    }\n",
       "</style>\n",
       "<table border=\"1\" class=\"dataframe\">\n",
       "  <thead>\n",
       "    <tr style=\"text-align: right;\">\n",
       "      <th></th>\n",
       "      <th>curb-weight</th>\n",
       "      <th>width</th>\n",
       "      <th>engine-size</th>\n",
       "      <th>peak-rpm_q1</th>\n",
       "      <th>peak-rpm_q2</th>\n",
       "      <th>peak-rpm_q3</th>\n",
       "      <th>peak-rpm_q4</th>\n",
       "      <th>horsepower_q1</th>\n",
       "      <th>horsepower_q2</th>\n",
       "      <th>horsepower_q3</th>\n",
       "      <th>horsepower_q4</th>\n",
       "    </tr>\n",
       "  </thead>\n",
       "  <tbody>\n",
       "    <tr>\n",
       "      <th>0</th>\n",
       "      <td>2548</td>\n",
       "      <td>-0.865850</td>\n",
       "      <td>0.205945</td>\n",
       "      <td>0</td>\n",
       "      <td>1</td>\n",
       "      <td>0</td>\n",
       "      <td>0</td>\n",
       "      <td>0</td>\n",
       "      <td>0</td>\n",
       "      <td>1</td>\n",
       "      <td>0</td>\n",
       "    </tr>\n",
       "    <tr>\n",
       "      <th>1</th>\n",
       "      <td>2548</td>\n",
       "      <td>-0.865850</td>\n",
       "      <td>0.205945</td>\n",
       "      <td>0</td>\n",
       "      <td>1</td>\n",
       "      <td>0</td>\n",
       "      <td>0</td>\n",
       "      <td>0</td>\n",
       "      <td>0</td>\n",
       "      <td>1</td>\n",
       "      <td>0</td>\n",
       "    </tr>\n",
       "    <tr>\n",
       "      <th>2</th>\n",
       "      <td>2823</td>\n",
       "      <td>-0.164434</td>\n",
       "      <td>0.881408</td>\n",
       "      <td>0</td>\n",
       "      <td>1</td>\n",
       "      <td>0</td>\n",
       "      <td>0</td>\n",
       "      <td>0</td>\n",
       "      <td>0</td>\n",
       "      <td>0</td>\n",
       "      <td>1</td>\n",
       "    </tr>\n",
       "  </tbody>\n",
       "</table>\n",
       "</div>"
      ],
      "text/plain": [
       "   curb-weight     width  engine-size  peak-rpm_q1  peak-rpm_q2  peak-rpm_q3  \\\n",
       "0         2548 -0.865850     0.205945            0            1            0   \n",
       "1         2548 -0.865850     0.205945            0            1            0   \n",
       "2         2823 -0.164434     0.881408            0            1            0   \n",
       "\n",
       "   peak-rpm_q4  horsepower_q1  horsepower_q2  horsepower_q3  horsepower_q4  \n",
       "0            0              0              0              1              0  \n",
       "1            0              0              0              1              0  \n",
       "2            0              0              0              0              1  "
      ]
     },
     "execution_count": 45,
     "metadata": {},
     "output_type": "execute_result"
    }
   ],
   "source": [
    "model_df_2 = norm_lg_car_df[model_df_2_cols]\n",
    "model_df_2 = pd.get_dummies(model_df_2)\n",
    "model_df_2.head(3)"
   ]
  },
  {
   "cell_type": "markdown",
   "metadata": {},
   "source": [
    "# 6. Split Data\n",
    "\n",
    "- To split data set to train set and test set"
   ]
  },
  {
   "cell_type": "code",
   "execution_count": 46,
   "metadata": {},
   "outputs": [],
   "source": [
    "def split_df(model_df, response_name):\n",
    "    # move the response variable (in this case \"curb-weight\") to a separate variable\n",
    "    y = model_df[response_name]\n",
    "    \n",
    "    # If you want to preserve the original dataframe in its entirety, make a copy of the original dataframe \n",
    "    # so that the original is preserved\n",
    "    X = model_df.copy()\n",
    "    \n",
    "    # now drop the ArrDelay column from 'X' so that the response variable is removed from the explanatory variables\n",
    "    X.drop(response_name, axis=1, inplace=True)\n",
    "    \n",
    "    # Now split the data into training and testing subsets. \n",
    "    # We'll set aside 30% of the data for testing purposes; Remember to make sure you specify a value for the inital random_state\n",
    "    # if you want to have the ability to reproduce the exact same training + testing subsets repeatedly\n",
    "    X_train, X_test, y_train, y_test = train_test_split(X, y, test_size=0.3, random_state=12)\n",
    "    \n",
    "    # Let's check the results\n",
    "    # print(len(X_train), len(X_test))\n",
    "    \n",
    "    return X_train, X_test, y_train, y_test"
   ]
  },
  {
   "cell_type": "code",
   "execution_count": 47,
   "metadata": {},
   "outputs": [],
   "source": [
    "# Test split function\n",
    "X_train, X_test, y_train, y_test = split_df(model_df_1, 'curb-weight')"
   ]
  },
  {
   "cell_type": "code",
   "execution_count": 48,
   "metadata": {},
   "outputs": [
    {
     "data": {
      "text/html": [
       "<div>\n",
       "<style scoped>\n",
       "    .dataframe tbody tr th:only-of-type {\n",
       "        vertical-align: middle;\n",
       "    }\n",
       "\n",
       "    .dataframe tbody tr th {\n",
       "        vertical-align: top;\n",
       "    }\n",
       "\n",
       "    .dataframe thead th {\n",
       "        text-align: right;\n",
       "    }\n",
       "</style>\n",
       "<table border=\"1\" class=\"dataframe\">\n",
       "  <thead>\n",
       "    <tr style=\"text-align: right;\">\n",
       "      <th></th>\n",
       "      <th>length</th>\n",
       "      <th>width</th>\n",
       "      <th>engine-size</th>\n",
       "      <th>horsepower_q1</th>\n",
       "      <th>horsepower_q2</th>\n",
       "      <th>horsepower_q3</th>\n",
       "      <th>horsepower_q4</th>\n",
       "    </tr>\n",
       "  </thead>\n",
       "  <tbody>\n",
       "    <tr>\n",
       "      <th>41</th>\n",
       "      <td>0.148093</td>\n",
       "      <td>-0.314738</td>\n",
       "      <td>-0.408112</td>\n",
       "      <td>0</td>\n",
       "      <td>0</td>\n",
       "      <td>1</td>\n",
       "      <td>0</td>\n",
       "    </tr>\n",
       "    <tr>\n",
       "      <th>44</th>\n",
       "      <td>-1.556272</td>\n",
       "      <td>-1.116356</td>\n",
       "      <td>-1.022169</td>\n",
       "      <td>1</td>\n",
       "      <td>0</td>\n",
       "      <td>0</td>\n",
       "      <td>0</td>\n",
       "    </tr>\n",
       "    <tr>\n",
       "      <th>128</th>\n",
       "      <td>-0.420029</td>\n",
       "      <td>-0.414940</td>\n",
       "      <td>2.170928</td>\n",
       "      <td>0</td>\n",
       "      <td>0</td>\n",
       "      <td>0</td>\n",
       "      <td>1</td>\n",
       "    </tr>\n",
       "  </tbody>\n",
       "</table>\n",
       "</div>"
      ],
      "text/plain": [
       "       length     width  engine-size  horsepower_q1  horsepower_q2  \\\n",
       "41   0.148093 -0.314738    -0.408112              0              0   \n",
       "44  -1.556272 -1.116356    -1.022169              1              0   \n",
       "128 -0.420029 -0.414940     2.170928              0              0   \n",
       "\n",
       "     horsepower_q3  horsepower_q4  \n",
       "41               1              0  \n",
       "44               0              0  \n",
       "128              0              1  "
      ]
     },
     "execution_count": 48,
     "metadata": {},
     "output_type": "execute_result"
    }
   ],
   "source": [
    "# Check\n",
    "X_train.head(3)"
   ]
  },
  {
   "cell_type": "markdown",
   "metadata": {},
   "source": [
    "# 7. Select Models using K-fold cross validation\n",
    "- Model 1 LinearRegression\n",
    "  - Explanatory variables: length, width, engine-size, horsepower\n",
    "- Model 2 LinearRegression\n",
    "  - Explanatory variables: peak-rpm, width, engine-size, horsepower\n",
    "\n",
    "\n",
    "## Model  1 LinearRegression\n",
    "\n",
    "- Response: curb-weight\n",
    "- Explanatory variables: length, width, engine-size, horsepower\n",
    "  - length, width, engine-size are three variables that have the highest correlation values in all variables.\n",
    "  - When I add the horsepower that is a categorical variable, the R^2 increased. "
   ]
  },
  {
   "cell_type": "code",
   "execution_count": 49,
   "metadata": {},
   "outputs": [
    {
     "data": {
      "text/html": [
       "<div>\n",
       "<style scoped>\n",
       "    .dataframe tbody tr th:only-of-type {\n",
       "        vertical-align: middle;\n",
       "    }\n",
       "\n",
       "    .dataframe tbody tr th {\n",
       "        vertical-align: top;\n",
       "    }\n",
       "\n",
       "    .dataframe thead th {\n",
       "        text-align: right;\n",
       "    }\n",
       "</style>\n",
       "<table border=\"1\" class=\"dataframe\">\n",
       "  <thead>\n",
       "    <tr style=\"text-align: right;\">\n",
       "      <th></th>\n",
       "      <th>length</th>\n",
       "      <th>width</th>\n",
       "      <th>engine-size</th>\n",
       "      <th>horsepower_q1</th>\n",
       "      <th>horsepower_q2</th>\n",
       "      <th>horsepower_q3</th>\n",
       "      <th>horsepower_q4</th>\n",
       "    </tr>\n",
       "  </thead>\n",
       "  <tbody>\n",
       "    <tr>\n",
       "      <th>41</th>\n",
       "      <td>0.148093</td>\n",
       "      <td>-0.314738</td>\n",
       "      <td>-0.408112</td>\n",
       "      <td>0</td>\n",
       "      <td>0</td>\n",
       "      <td>1</td>\n",
       "      <td>0</td>\n",
       "    </tr>\n",
       "    <tr>\n",
       "      <th>44</th>\n",
       "      <td>-1.556272</td>\n",
       "      <td>-1.116356</td>\n",
       "      <td>-1.022169</td>\n",
       "      <td>1</td>\n",
       "      <td>0</td>\n",
       "      <td>0</td>\n",
       "      <td>0</td>\n",
       "    </tr>\n",
       "    <tr>\n",
       "      <th>128</th>\n",
       "      <td>-0.420029</td>\n",
       "      <td>-0.414940</td>\n",
       "      <td>2.170928</td>\n",
       "      <td>0</td>\n",
       "      <td>0</td>\n",
       "      <td>0</td>\n",
       "      <td>1</td>\n",
       "    </tr>\n",
       "    <tr>\n",
       "      <th>17</th>\n",
       "      <td>2.036004</td>\n",
       "      <td>2.541026</td>\n",
       "      <td>2.631470</td>\n",
       "      <td>0</td>\n",
       "      <td>0</td>\n",
       "      <td>0</td>\n",
       "      <td>1</td>\n",
       "    </tr>\n",
       "    <tr>\n",
       "      <th>16</th>\n",
       "      <td>1.756314</td>\n",
       "      <td>1.037992</td>\n",
       "      <td>2.631470</td>\n",
       "      <td>0</td>\n",
       "      <td>0</td>\n",
       "      <td>0</td>\n",
       "      <td>1</td>\n",
       "    </tr>\n",
       "  </tbody>\n",
       "</table>\n",
       "</div>"
      ],
      "text/plain": [
       "       length     width  engine-size  horsepower_q1  horsepower_q2  \\\n",
       "41   0.148093 -0.314738    -0.408112              0              0   \n",
       "44  -1.556272 -1.116356    -1.022169              1              0   \n",
       "128 -0.420029 -0.414940     2.170928              0              0   \n",
       "17   2.036004  2.541026     2.631470              0              0   \n",
       "16   1.756314  1.037992     2.631470              0              0   \n",
       "\n",
       "     horsepower_q3  horsepower_q4  \n",
       "41               1              0  \n",
       "44               0              0  \n",
       "128              0              1  \n",
       "17               0              1  \n",
       "16               0              1  "
      ]
     },
     "execution_count": 49,
     "metadata": {},
     "output_type": "execute_result"
    }
   ],
   "source": [
    "# Model 1\n",
    "# load the LinearRegression() function from sklearn's 'linear_model' sub-library\n",
    "from sklearn.linear_model import LinearRegression\n",
    "\n",
    "# load the cross_val_score function from the sklearn.model_selection module\n",
    "from sklearn.model_selection import cross_val_score\n",
    "\n",
    "# Using model_df_1 to create training and test set\n",
    "X_train, X_test, y_train, y_test = split_df(model_df_1, 'curb-weight')\n",
    "\n",
    "# create a new dataframe containing only the DepDelay and TaxiOut variables (our explanatory variables for the linear\n",
    "# regression model)\n",
    "newX_train = X_train.copy()\n",
    "\n",
    "# sanity check\n",
    "newX_train.head()"
   ]
  },
  {
   "cell_type": "code",
   "execution_count": 50,
   "metadata": {},
   "outputs": [
    {
     "name": "stdout",
     "output_type": "stream",
     "text": [
      "[0.94162665 0.87419575 0.90271797 0.92544303 0.56477522 0.92821322\n",
      " 0.89793141 0.91690358 0.84980268 0.787361  ]\n",
      "The average R^2 of Model 1 is 0.8589\n"
     ]
    }
   ],
   "source": [
    "# Assing the model function you want to use to a variable\n",
    "model = LinearRegression()\n",
    "\n",
    "# fit the model using 10-fold cross validation; note how the 'model' variable created above is used as a parameter for the \n",
    "# cross_val_score() function. Also note how we can specify the number of folds to use during cross validation via the 'cv' \n",
    "# parameter\n",
    "scores1 = cross_val_score(model, newX_train, y_train, cv=10)\n",
    "\n",
    "# print out the R^2 metrics derived from the K-fold cross validation of our linear regression model\n",
    "print (scores1)\n",
    "\n",
    "# calculate the average R^2 across all 10 folds\n",
    "print('The average R^2 of Model 1 is %.4f' %np.mean(scores1))"
   ]
  },
  {
   "cell_type": "markdown",
   "metadata": {},
   "source": [
    "## Model 2 LinearRegression\n",
    "- Response: curb-weight\n",
    "- Explanatory variables: peak-rpm, width, engine-size, horsepower\n",
    "  - peak-rpm has the lowest correlation values in all variables. I want to see whether peak-rpm can affect R^2 of a model.\n",
    "  - length, width, are two variables that have the highest correlation values in all variables.\n",
    "  - When I add the horsepower that is a categorical variable, the R^2 increased. "
   ]
  },
  {
   "cell_type": "code",
   "execution_count": 51,
   "metadata": {},
   "outputs": [
    {
     "data": {
      "text/html": [
       "<div>\n",
       "<style scoped>\n",
       "    .dataframe tbody tr th:only-of-type {\n",
       "        vertical-align: middle;\n",
       "    }\n",
       "\n",
       "    .dataframe tbody tr th {\n",
       "        vertical-align: top;\n",
       "    }\n",
       "\n",
       "    .dataframe thead th {\n",
       "        text-align: right;\n",
       "    }\n",
       "</style>\n",
       "<table border=\"1\" class=\"dataframe\">\n",
       "  <thead>\n",
       "    <tr style=\"text-align: right;\">\n",
       "      <th></th>\n",
       "      <th>width</th>\n",
       "      <th>engine-size</th>\n",
       "      <th>peak-rpm_q1</th>\n",
       "      <th>peak-rpm_q2</th>\n",
       "      <th>peak-rpm_q3</th>\n",
       "      <th>peak-rpm_q4</th>\n",
       "      <th>horsepower_q1</th>\n",
       "      <th>horsepower_q2</th>\n",
       "      <th>horsepower_q3</th>\n",
       "      <th>horsepower_q4</th>\n",
       "    </tr>\n",
       "  </thead>\n",
       "  <tbody>\n",
       "    <tr>\n",
       "      <th>41</th>\n",
       "      <td>-0.314738</td>\n",
       "      <td>-0.408112</td>\n",
       "      <td>0</td>\n",
       "      <td>0</td>\n",
       "      <td>0</td>\n",
       "      <td>1</td>\n",
       "      <td>0</td>\n",
       "      <td>0</td>\n",
       "      <td>1</td>\n",
       "      <td>0</td>\n",
       "    </tr>\n",
       "    <tr>\n",
       "      <th>44</th>\n",
       "      <td>-1.116356</td>\n",
       "      <td>-1.022169</td>\n",
       "      <td>0</td>\n",
       "      <td>0</td>\n",
       "      <td>1</td>\n",
       "      <td>0</td>\n",
       "      <td>1</td>\n",
       "      <td>0</td>\n",
       "      <td>0</td>\n",
       "      <td>0</td>\n",
       "    </tr>\n",
       "    <tr>\n",
       "      <th>128</th>\n",
       "      <td>-0.414940</td>\n",
       "      <td>2.170928</td>\n",
       "      <td>0</td>\n",
       "      <td>0</td>\n",
       "      <td>0</td>\n",
       "      <td>1</td>\n",
       "      <td>0</td>\n",
       "      <td>0</td>\n",
       "      <td>0</td>\n",
       "      <td>1</td>\n",
       "    </tr>\n",
       "    <tr>\n",
       "      <th>17</th>\n",
       "      <td>2.541026</td>\n",
       "      <td>2.631470</td>\n",
       "      <td>0</td>\n",
       "      <td>0</td>\n",
       "      <td>1</td>\n",
       "      <td>0</td>\n",
       "      <td>0</td>\n",
       "      <td>0</td>\n",
       "      <td>0</td>\n",
       "      <td>1</td>\n",
       "    </tr>\n",
       "    <tr>\n",
       "      <th>16</th>\n",
       "      <td>1.037992</td>\n",
       "      <td>2.631470</td>\n",
       "      <td>0</td>\n",
       "      <td>0</td>\n",
       "      <td>1</td>\n",
       "      <td>0</td>\n",
       "      <td>0</td>\n",
       "      <td>0</td>\n",
       "      <td>0</td>\n",
       "      <td>1</td>\n",
       "    </tr>\n",
       "  </tbody>\n",
       "</table>\n",
       "</div>"
      ],
      "text/plain": [
       "        width  engine-size  peak-rpm_q1  peak-rpm_q2  peak-rpm_q3  \\\n",
       "41  -0.314738    -0.408112            0            0            0   \n",
       "44  -1.116356    -1.022169            0            0            1   \n",
       "128 -0.414940     2.170928            0            0            0   \n",
       "17   2.541026     2.631470            0            0            1   \n",
       "16   1.037992     2.631470            0            0            1   \n",
       "\n",
       "     peak-rpm_q4  horsepower_q1  horsepower_q2  horsepower_q3  horsepower_q4  \n",
       "41             1              0              0              1              0  \n",
       "44             0              1              0              0              0  \n",
       "128            1              0              0              0              1  \n",
       "17             0              0              0              0              1  \n",
       "16             0              0              0              0              1  "
      ]
     },
     "execution_count": 51,
     "metadata": {},
     "output_type": "execute_result"
    }
   ],
   "source": [
    "# Model 2\n",
    "\n",
    "# Using model_df_1 to create training and test set\n",
    "X_train, X_test, y_train, y_test = split_df(model_df_2, 'curb-weight')\n",
    "\n",
    "# create a new dataframe containing only the DepDelay and TaxiOut variables (our explanatory variables for the linear\n",
    "# regression model)\n",
    "newX_train = X_train.copy()\n",
    "\n",
    "# sanity check\n",
    "newX_train.head()"
   ]
  },
  {
   "cell_type": "code",
   "execution_count": 52,
   "metadata": {},
   "outputs": [
    {
     "name": "stdout",
     "output_type": "stream",
     "text": [
      "[0.91567046 0.88247585 0.86688141 0.82870342 0.49900453 0.80273378\n",
      " 0.84111026 0.93105591 0.82931512 0.88270851]\n",
      "The average R^2 of Model 2 is 0.8280\n"
     ]
    }
   ],
   "source": [
    "# Assing the model function you want to use to a variable\n",
    "model = LinearRegression()\n",
    "\n",
    "# fit the model using 10-fold cross validation; note how the 'model' variable created above is used as a parameter for the \n",
    "# cross_val_score() function. Also note how we can specify the number of folds to use during cross validation via the 'cv' \n",
    "# parameter\n",
    "scores2 = cross_val_score(model, newX_train, y_train, cv=10)\n",
    "\n",
    "# print out the R^2 metrics derived from the K-fold cross validation of our linear regression model\n",
    "print (scores2)\n",
    "\n",
    "# calculate the average R^2 across all 10 folds\n",
    "print('The average R^2 of Model 2 is %.4f' %np.mean(scores2))"
   ]
  },
  {
   "cell_type": "code",
   "execution_count": 53,
   "metadata": {},
   "outputs": [
    {
     "name": "stdout",
     "output_type": "stream",
     "text": [
      "The average R^2 of Model 1 is 0.8589 and the figure for Model 2 is 0.8280\n"
     ]
    }
   ],
   "source": [
    "print('The average R^2 of Model 1 is %.4f and the figure for Model 2 is %.4f' %(np.mean(scores1), np.mean(scores2)))"
   ]
  },
  {
   "cell_type": "markdown",
   "metadata": {},
   "source": [
    "# 8. Conclusion\n",
    "- The Model 1 LinearRegression has higher R^2 than the model 2.\n",
    "  - The correlation of length is 0.877728. But The correlation of city-mpg is -0.757414. Two models have the same explanatory variables except for the length and city-mpg. Variables with higher correlation can be used as the preferred variables for linear regression models.\n",
    "  \n",
    "- Clear data step is very important and useful. The outliers can affect the accuracy of linear models. I got a higher R^2 after I dropped the outliers from horsepower and peak-rpm.\n",
    "\n",
    "- The solution that split horsepower and peak-rpm into 4 levels is not the best option.\n",
    "\n",
    "- Setting \"K\"-fold = 10 can guarantee a model is low bias. During the cross validation, I found that there is a gourp data have a obvious low R^2.\n",
    "\n",
    "### The part can be promoted.\n",
    "- How to use a categorical variable that has many categories?\n",
    "- How to select a group of feature to train a model?\n",
    "- How to find out the data set of k-fold having the lowest R^2? If the data set can find out, we can analyze these data to improve the accuracy of models."
   ]
  },
  {
   "cell_type": "markdown",
   "metadata": {},
   "source": [
    "# 9. References\n",
    "- scikit-learn.org. The User Guide. [online] Available at https://scikit-learn.org/stable/user_guide.html [Accessed 3 September 2021].\n",
    "\n",
    "- archive.ics.uci.edu. The Automobile data set. [online] Available at https://archive.ics.uci.edu/ml/datasets/Automobile [Accessed 3 September 2021].\n",
    "\n",
    "- Machine Learning Pocket Reference. The code samples. [online] Available at https://github.com/mattharrison/ml_pocket_reference [Accessed 3 September 2021].\n",
    "\n",
    "- Hands-on Machine Learning with Scikit-Learn, Keras & TensorFlow. The code samples. [online] Available at https://github.com/ageron/handson-ml2 [Accessed 3 September 2021].\n",
    "\n",
    "- DAV-6150-100. Lecture Notes [online] Available at https://yu.instructure.com/courses/50398/assignments/191940?module_item_id=704923 [Accessed 3 September 2021]."
   ]
  },
  {
   "cell_type": "code",
   "execution_count": null,
   "metadata": {},
   "outputs": [],
   "source": []
  }
 ],
 "metadata": {
  "kernelspec": {
   "display_name": "Python 3 (ipykernel)",
   "language": "python",
   "name": "python3"
  },
  "language_info": {
   "codemirror_mode": {
    "name": "ipython",
    "version": 3
   },
   "file_extension": ".py",
   "mimetype": "text/x-python",
   "name": "python",
   "nbconvert_exporter": "python",
   "pygments_lexer": "ipython3",
   "version": "3.8.5"
  }
 },
 "nbformat": 4,
 "nbformat_minor": 4
}
