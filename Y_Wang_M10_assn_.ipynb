{
 "cells": [
  {
   "cell_type": "markdown",
   "id": "623b32bb",
   "metadata": {},
   "source": [
    "# Introduction\n",
    "Naïve Bayes classifiers are widely recognized for their efficacy at classifying text data (e.g., sentiment analysis).\n",
    "\n",
    "I'm going to construct a Naïve Bayes sentiment classifier that can identify the sentiment of movie reviews.\n",
    "\n",
    "The data set is sourced from the Cornell University: http://www.cs.cornell.edu/people/pabo/movie-review-data/\n",
    "\n",
    "The tasks of this assignment are:\n",
    "\n",
    "1) Loading positive and negative movie reviews form my Github.  2) Removing keywords, speical character (like ~!@#).  3) Converting a collection of text documents to a matrix of token counts.  4) Training a Naïve Bayes classifier model and evaluating the model by test set. 5) Gauging a new comment whether is positive or negative.\n",
    "\n",
    "\n",
    "- Data Preparation\n",
    "- Frequency Distribution Plots\n",
    "- Naïve Bayes Model Training\n",
    "- Model Testing \n",
    "- Conclusions"
   ]
  },
  {
   "cell_type": "code",
   "execution_count": 1,
   "id": "93605259",
   "metadata": {},
   "outputs": [],
   "source": [
    "import requests\n",
    "from urllib.request import urlopen\n",
    "from bs4 import BeautifulSoup\n",
    "\n",
    "import pandas as pd\n",
    "import numpy as np\n",
    "import re\n",
    "from sklearn.feature_extraction.text import CountVectorizer\n",
    "\n",
    "from sklearn.model_selection import (\n",
    "    train_test_split,\n",
    "    KFold\n",
    ")\n",
    "\n",
    "# load the pyplot function from the matplotlib library\n",
    "import matplotlib.pyplot as plt\n",
    "\n",
    "#pd.set_option('display.max_columns', None)\n",
    "#pd.set_option('mode.chained_assignment', None)\n",
    "\n",
    "%matplotlib inline \n",
    "%config InlineBackend.figure_format = 'retina'\n",
    "plt.style.use('seaborn')"
   ]
  },
  {
   "cell_type": "code",
   "execution_count": 2,
   "id": "d25576e8",
   "metadata": {},
   "outputs": [],
   "source": [
    "# get file names from a Github link\n",
    "def get_filenames(url):\n",
    "    r = requests.get(url)\n",
    "    soup = BeautifulSoup(r.content)\n",
    "    all_a = soup.find_all(\"a\", class_=\"js-navigation-open Link--primary\")\n",
    "    result = []\n",
    "\n",
    "    i = 0\n",
    "    for a in all_a:\n",
    "        if i < 1000:\n",
    "            result.append(a.get_text())\n",
    "            i += 1\n",
    "        else:\n",
    "            break\n",
    "\n",
    "    return result;"
   ]
  },
  {
   "cell_type": "code",
   "execution_count": 3,
   "id": "dea0496e",
   "metadata": {},
   "outputs": [],
   "source": [
    "# remove stop words, like the, a... AND remove speical character (like ~!@#)\n",
    "from nltk.corpus import stopwords \n",
    "import string \n",
    "\n",
    "stopwords_english = stopwords.words('english')\n",
    "\n",
    "# feature extractor function\n",
    "def remove_stop_words(ori_context):\n",
    "    words_clean = []\n",
    "    words = ori_context.split()\n",
    "    for word in words:\n",
    "        word = word.lower()\n",
    "        if word not in stopwords_english and word not in string.punctuation:\n",
    "            words_clean.append(word)\n",
    "    \n",
    "    cont = \" \".join(words_clean)\n",
    "    return cont"
   ]
  },
  {
   "cell_type": "code",
   "execution_count": 4,
   "id": "7f79d911",
   "metadata": {},
   "outputs": [
    {
     "data": {
      "text/plain": [
       "\"things like film. here's remember\""
      ]
     },
     "execution_count": 4,
     "metadata": {},
     "output_type": "execute_result"
    }
   ],
   "source": [
    "# test the removing stop words\n",
    "remove_stop_words(\"There were some things I didn't like about this film. Here's what I remember most\")"
   ]
  },
  {
   "cell_type": "code",
   "execution_count": null,
   "id": "95fa5af4",
   "metadata": {},
   "outputs": [],
   "source": []
  },
  {
   "cell_type": "code",
   "execution_count": 5,
   "id": "529e50c6",
   "metadata": {},
   "outputs": [],
   "source": [
    "# read content from a URL, convert them to lowercase, remove stop words \n",
    "def get_txt(url):\n",
    "    data = urlopen(url).read().decode('utf-8')\n",
    "    \n",
    "    # lowercase\n",
    "    data = data.lower()\n",
    "    \n",
    "    # only keep a-z and A-z\n",
    "    data = re.sub(\"[^a-z]\", \" \", data)\n",
    "    \n",
    "    # remove stop words\n",
    "    data = remove_stop_words(data)\n",
    "    \n",
    "    return data\n",
    "\n",
    "#get_txt(\"https://raw.githubusercontent.com/Yuehao-Wang/DAV-6150/main/data/txt_sentoken/neg/cv000_29416.txt\")"
   ]
  },
  {
   "cell_type": "code",
   "execution_count": null,
   "id": "eed7f1ce",
   "metadata": {},
   "outputs": [],
   "source": []
  },
  {
   "cell_type": "code",
   "execution_count": 6,
   "id": "2fb137b4",
   "metadata": {},
   "outputs": [],
   "source": [
    "# load content and return a data frame with label\n",
    "def loop_read_files(raw_path, filenames, is_pos):\n",
    "    \"\"\"\n",
    "    return: a data frame\n",
    "    \"\"\"\n",
    "    name_arr = []\n",
    "    content_arr = []\n",
    "    is_pos_arr = []\n",
    "    dic = {\"filename\": name_arr, \"content\":content_arr, \"is_pos\":is_pos_arr}\n",
    "    \n",
    "    for name in filenames:\n",
    "        u = raw_path + name\n",
    "        txt = get_txt(u)\n",
    "        \n",
    "        name_arr.append(name)\n",
    "        content_arr.append(txt)\n",
    "        is_pos_arr.append(is_pos)\n",
    "    \n",
    "    return pd.DataFrame(dic)"
   ]
  },
  {
   "cell_type": "code",
   "execution_count": 7,
   "id": "34b26694",
   "metadata": {},
   "outputs": [],
   "source": [
    "# data path\n",
    "pos_path = \"https://github.com/Yuehao-Wang/DAV-6150/tree/main/data/txt_sentoken/pos/\"\n",
    "neg_path = \"https://github.com/Yuehao-Wang/DAV-6150/tree/main/data/txt_sentoken/neg/\"\n",
    "\n",
    "# raw data path\n",
    "pos_raw_path = \"https://raw.githubusercontent.com/Yuehao-Wang/DAV-6150/main/data/txt_sentoken/pos/\"\n",
    "neg_raw_path = \"https://raw.githubusercontent.com/Yuehao-Wang/DAV-6150/main/data/txt_sentoken/neg/\""
   ]
  },
  {
   "cell_type": "code",
   "execution_count": null,
   "id": "311f8e3b",
   "metadata": {},
   "outputs": [],
   "source": []
  },
  {
   "cell_type": "markdown",
   "id": "04ad66aa",
   "metadata": {},
   "source": [
    "# Data Preparation\n",
    "- load positive reviews & remove stop words and speical character (like ~!@#)\n",
    "- load negative reviews & remove stop words and speical character (like ~!@#)\n",
    "- transform the data into properly labeled count vectors within a Term-Document matrix"
   ]
  },
  {
   "cell_type": "markdown",
   "id": "1776bbd8",
   "metadata": {},
   "source": [
    "### load positive reviews & remove stop words and speical character (like ~!@#)"
   ]
  },
  {
   "cell_type": "code",
   "execution_count": 8,
   "id": "8a0be224",
   "metadata": {},
   "outputs": [
    {
     "data": {
      "text/html": [
       "<div>\n",
       "<style scoped>\n",
       "    .dataframe tbody tr th:only-of-type {\n",
       "        vertical-align: middle;\n",
       "    }\n",
       "\n",
       "    .dataframe tbody tr th {\n",
       "        vertical-align: top;\n",
       "    }\n",
       "\n",
       "    .dataframe thead th {\n",
       "        text-align: right;\n",
       "    }\n",
       "</style>\n",
       "<table border=\"1\" class=\"dataframe\">\n",
       "  <thead>\n",
       "    <tr style=\"text-align: right;\">\n",
       "      <th></th>\n",
       "      <th>filename</th>\n",
       "      <th>content</th>\n",
       "      <th>is_pos</th>\n",
       "    </tr>\n",
       "  </thead>\n",
       "  <tbody>\n",
       "    <tr>\n",
       "      <th>0</th>\n",
       "      <td>cv000_29590.txt</td>\n",
       "      <td>films adapted comic books plenty success wheth...</td>\n",
       "      <td>1</td>\n",
       "    </tr>\n",
       "    <tr>\n",
       "      <th>1</th>\n",
       "      <td>cv001_18431.txt</td>\n",
       "      <td>every movie comes along suspect studio every i...</td>\n",
       "      <td>1</td>\n",
       "    </tr>\n",
       "    <tr>\n",
       "      <th>2</th>\n",
       "      <td>cv002_15918.txt</td>\n",
       "      <td>got mail works alot better deserves order make...</td>\n",
       "      <td>1</td>\n",
       "    </tr>\n",
       "  </tbody>\n",
       "</table>\n",
       "</div>"
      ],
      "text/plain": [
       "          filename                                            content  is_pos\n",
       "0  cv000_29590.txt  films adapted comic books plenty success wheth...       1\n",
       "1  cv001_18431.txt  every movie comes along suspect studio every i...       1\n",
       "2  cv002_15918.txt  got mail works alot better deserves order make...       1"
      ]
     },
     "execution_count": 8,
     "metadata": {},
     "output_type": "execute_result"
    }
   ],
   "source": [
    "# load positive reviews\n",
    "pos_files = get_filenames(pos_path)\n",
    "pos_df = loop_read_files(pos_raw_path, pos_files, 1)\n",
    "pos_df.head(3)"
   ]
  },
  {
   "cell_type": "markdown",
   "id": "1df32ae9",
   "metadata": {},
   "source": [
    "### load negative reviews & remove stop words and speical character (like ~!@#)"
   ]
  },
  {
   "cell_type": "code",
   "execution_count": 9,
   "id": "085ed416",
   "metadata": {},
   "outputs": [
    {
     "data": {
      "text/html": [
       "<div>\n",
       "<style scoped>\n",
       "    .dataframe tbody tr th:only-of-type {\n",
       "        vertical-align: middle;\n",
       "    }\n",
       "\n",
       "    .dataframe tbody tr th {\n",
       "        vertical-align: top;\n",
       "    }\n",
       "\n",
       "    .dataframe thead th {\n",
       "        text-align: right;\n",
       "    }\n",
       "</style>\n",
       "<table border=\"1\" class=\"dataframe\">\n",
       "  <thead>\n",
       "    <tr style=\"text-align: right;\">\n",
       "      <th></th>\n",
       "      <th>filename</th>\n",
       "      <th>content</th>\n",
       "      <th>is_pos</th>\n",
       "    </tr>\n",
       "  </thead>\n",
       "  <tbody>\n",
       "    <tr>\n",
       "      <th>0</th>\n",
       "      <td>cv000_29416.txt</td>\n",
       "      <td>plot two teen couples go church party drink dr...</td>\n",
       "      <td>0</td>\n",
       "    </tr>\n",
       "    <tr>\n",
       "      <th>1</th>\n",
       "      <td>cv001_19502.txt</td>\n",
       "      <td>happy bastard quick movie review damn k bug go...</td>\n",
       "      <td>0</td>\n",
       "    </tr>\n",
       "    <tr>\n",
       "      <th>2</th>\n",
       "      <td>cv002_17424.txt</td>\n",
       "      <td>movies like make jaded movie viewer thankful i...</td>\n",
       "      <td>0</td>\n",
       "    </tr>\n",
       "  </tbody>\n",
       "</table>\n",
       "</div>"
      ],
      "text/plain": [
       "          filename                                            content  is_pos\n",
       "0  cv000_29416.txt  plot two teen couples go church party drink dr...       0\n",
       "1  cv001_19502.txt  happy bastard quick movie review damn k bug go...       0\n",
       "2  cv002_17424.txt  movies like make jaded movie viewer thankful i...       0"
      ]
     },
     "execution_count": 9,
     "metadata": {},
     "output_type": "execute_result"
    }
   ],
   "source": [
    "# load negative reviews\n",
    "neg_files = get_filenames(neg_path)\n",
    "neg_df = loop_read_files(neg_raw_path, neg_files, 0)\n",
    "neg_df.head(3)"
   ]
  },
  {
   "cell_type": "code",
   "execution_count": 10,
   "id": "58759b18",
   "metadata": {},
   "outputs": [],
   "source": [
    "# concat positive set and negative set into a whole set\n",
    "whole_df = pd.concat([pos_df, neg_df])"
   ]
  },
  {
   "cell_type": "code",
   "execution_count": 11,
   "id": "8cf2a144",
   "metadata": {},
   "outputs": [],
   "source": [
    "# reset index\n",
    "whole_df.reset_index(drop=True, inplace = True)"
   ]
  },
  {
   "cell_type": "markdown",
   "id": "877836c3",
   "metadata": {},
   "source": [
    "### Transform the data into properly labeled count vectors within a Term-Document matrix\n",
    "\n",
    "min_df is used for removing terms that appear too infrequently. For example: min_df = 0.01 means \"ignore terms that appear in less than 1% of the documents\". min_df = 5 means \"ignore terms that appear in less than 5 documents\""
   ]
  },
  {
   "cell_type": "code",
   "execution_count": 12,
   "id": "db575d9e",
   "metadata": {},
   "outputs": [],
   "source": [
    "vec_s = CountVectorizer(lowercase = True, stop_words='english', min_df =2)\n",
    "X_s = vec_s.fit_transform(whole_df['content'])"
   ]
  },
  {
   "cell_type": "code",
   "execution_count": 13,
   "id": "9b0dcb93",
   "metadata": {},
   "outputs": [
    {
     "data": {
      "text/html": [
       "<div>\n",
       "<style scoped>\n",
       "    .dataframe tbody tr th:only-of-type {\n",
       "        vertical-align: middle;\n",
       "    }\n",
       "\n",
       "    .dataframe tbody tr th {\n",
       "        vertical-align: top;\n",
       "    }\n",
       "\n",
       "    .dataframe thead th {\n",
       "        text-align: right;\n",
       "    }\n",
       "</style>\n",
       "<table border=\"1\" class=\"dataframe\">\n",
       "  <thead>\n",
       "    <tr style=\"text-align: right;\">\n",
       "      <th></th>\n",
       "      <th>aa</th>\n",
       "      <th>aaa</th>\n",
       "      <th>aaliyah</th>\n",
       "      <th>aardman</th>\n",
       "      <th>aaron</th>\n",
       "      <th>aback</th>\n",
       "      <th>abandon</th>\n",
       "      <th>abandoned</th>\n",
       "      <th>abandoning</th>\n",
       "      <th>abandonment</th>\n",
       "      <th>...</th>\n",
       "      <th>zoom</th>\n",
       "      <th>zooming</th>\n",
       "      <th>zooms</th>\n",
       "      <th>zoot</th>\n",
       "      <th>zorg</th>\n",
       "      <th>zorro</th>\n",
       "      <th>zucker</th>\n",
       "      <th>zuko</th>\n",
       "      <th>zwick</th>\n",
       "      <th>zwigoff</th>\n",
       "    </tr>\n",
       "  </thead>\n",
       "  <tbody>\n",
       "    <tr>\n",
       "      <th>0</th>\n",
       "      <td>0</td>\n",
       "      <td>0</td>\n",
       "      <td>0</td>\n",
       "      <td>0</td>\n",
       "      <td>0</td>\n",
       "      <td>0</td>\n",
       "      <td>0</td>\n",
       "      <td>0</td>\n",
       "      <td>0</td>\n",
       "      <td>0</td>\n",
       "      <td>...</td>\n",
       "      <td>0</td>\n",
       "      <td>0</td>\n",
       "      <td>0</td>\n",
       "      <td>0</td>\n",
       "      <td>0</td>\n",
       "      <td>0</td>\n",
       "      <td>0</td>\n",
       "      <td>0</td>\n",
       "      <td>0</td>\n",
       "      <td>0</td>\n",
       "    </tr>\n",
       "    <tr>\n",
       "      <th>1</th>\n",
       "      <td>0</td>\n",
       "      <td>0</td>\n",
       "      <td>0</td>\n",
       "      <td>0</td>\n",
       "      <td>0</td>\n",
       "      <td>0</td>\n",
       "      <td>0</td>\n",
       "      <td>0</td>\n",
       "      <td>0</td>\n",
       "      <td>0</td>\n",
       "      <td>...</td>\n",
       "      <td>0</td>\n",
       "      <td>0</td>\n",
       "      <td>0</td>\n",
       "      <td>0</td>\n",
       "      <td>0</td>\n",
       "      <td>0</td>\n",
       "      <td>0</td>\n",
       "      <td>0</td>\n",
       "      <td>0</td>\n",
       "      <td>0</td>\n",
       "    </tr>\n",
       "    <tr>\n",
       "      <th>2</th>\n",
       "      <td>0</td>\n",
       "      <td>0</td>\n",
       "      <td>0</td>\n",
       "      <td>0</td>\n",
       "      <td>0</td>\n",
       "      <td>0</td>\n",
       "      <td>0</td>\n",
       "      <td>0</td>\n",
       "      <td>0</td>\n",
       "      <td>0</td>\n",
       "      <td>...</td>\n",
       "      <td>0</td>\n",
       "      <td>0</td>\n",
       "      <td>0</td>\n",
       "      <td>0</td>\n",
       "      <td>0</td>\n",
       "      <td>0</td>\n",
       "      <td>0</td>\n",
       "      <td>0</td>\n",
       "      <td>0</td>\n",
       "      <td>0</td>\n",
       "    </tr>\n",
       "    <tr>\n",
       "      <th>3</th>\n",
       "      <td>0</td>\n",
       "      <td>0</td>\n",
       "      <td>0</td>\n",
       "      <td>0</td>\n",
       "      <td>0</td>\n",
       "      <td>0</td>\n",
       "      <td>0</td>\n",
       "      <td>0</td>\n",
       "      <td>0</td>\n",
       "      <td>0</td>\n",
       "      <td>...</td>\n",
       "      <td>0</td>\n",
       "      <td>0</td>\n",
       "      <td>0</td>\n",
       "      <td>0</td>\n",
       "      <td>0</td>\n",
       "      <td>0</td>\n",
       "      <td>0</td>\n",
       "      <td>0</td>\n",
       "      <td>0</td>\n",
       "      <td>0</td>\n",
       "    </tr>\n",
       "    <tr>\n",
       "      <th>4</th>\n",
       "      <td>0</td>\n",
       "      <td>0</td>\n",
       "      <td>0</td>\n",
       "      <td>0</td>\n",
       "      <td>0</td>\n",
       "      <td>0</td>\n",
       "      <td>0</td>\n",
       "      <td>0</td>\n",
       "      <td>0</td>\n",
       "      <td>0</td>\n",
       "      <td>...</td>\n",
       "      <td>0</td>\n",
       "      <td>0</td>\n",
       "      <td>0</td>\n",
       "      <td>0</td>\n",
       "      <td>0</td>\n",
       "      <td>0</td>\n",
       "      <td>0</td>\n",
       "      <td>0</td>\n",
       "      <td>0</td>\n",
       "      <td>0</td>\n",
       "    </tr>\n",
       "    <tr>\n",
       "      <th>...</th>\n",
       "      <td>...</td>\n",
       "      <td>...</td>\n",
       "      <td>...</td>\n",
       "      <td>...</td>\n",
       "      <td>...</td>\n",
       "      <td>...</td>\n",
       "      <td>...</td>\n",
       "      <td>...</td>\n",
       "      <td>...</td>\n",
       "      <td>...</td>\n",
       "      <td>...</td>\n",
       "      <td>...</td>\n",
       "      <td>...</td>\n",
       "      <td>...</td>\n",
       "      <td>...</td>\n",
       "      <td>...</td>\n",
       "      <td>...</td>\n",
       "      <td>...</td>\n",
       "      <td>...</td>\n",
       "      <td>...</td>\n",
       "      <td>...</td>\n",
       "    </tr>\n",
       "    <tr>\n",
       "      <th>1995</th>\n",
       "      <td>0</td>\n",
       "      <td>0</td>\n",
       "      <td>0</td>\n",
       "      <td>0</td>\n",
       "      <td>0</td>\n",
       "      <td>0</td>\n",
       "      <td>0</td>\n",
       "      <td>0</td>\n",
       "      <td>0</td>\n",
       "      <td>0</td>\n",
       "      <td>...</td>\n",
       "      <td>0</td>\n",
       "      <td>0</td>\n",
       "      <td>0</td>\n",
       "      <td>0</td>\n",
       "      <td>0</td>\n",
       "      <td>0</td>\n",
       "      <td>0</td>\n",
       "      <td>0</td>\n",
       "      <td>0</td>\n",
       "      <td>0</td>\n",
       "    </tr>\n",
       "    <tr>\n",
       "      <th>1996</th>\n",
       "      <td>0</td>\n",
       "      <td>0</td>\n",
       "      <td>0</td>\n",
       "      <td>0</td>\n",
       "      <td>0</td>\n",
       "      <td>0</td>\n",
       "      <td>0</td>\n",
       "      <td>0</td>\n",
       "      <td>0</td>\n",
       "      <td>0</td>\n",
       "      <td>...</td>\n",
       "      <td>0</td>\n",
       "      <td>0</td>\n",
       "      <td>0</td>\n",
       "      <td>0</td>\n",
       "      <td>0</td>\n",
       "      <td>0</td>\n",
       "      <td>0</td>\n",
       "      <td>0</td>\n",
       "      <td>0</td>\n",
       "      <td>0</td>\n",
       "    </tr>\n",
       "    <tr>\n",
       "      <th>1997</th>\n",
       "      <td>0</td>\n",
       "      <td>0</td>\n",
       "      <td>0</td>\n",
       "      <td>0</td>\n",
       "      <td>0</td>\n",
       "      <td>0</td>\n",
       "      <td>0</td>\n",
       "      <td>0</td>\n",
       "      <td>0</td>\n",
       "      <td>0</td>\n",
       "      <td>...</td>\n",
       "      <td>0</td>\n",
       "      <td>0</td>\n",
       "      <td>0</td>\n",
       "      <td>0</td>\n",
       "      <td>0</td>\n",
       "      <td>0</td>\n",
       "      <td>0</td>\n",
       "      <td>0</td>\n",
       "      <td>0</td>\n",
       "      <td>0</td>\n",
       "    </tr>\n",
       "    <tr>\n",
       "      <th>1998</th>\n",
       "      <td>0</td>\n",
       "      <td>0</td>\n",
       "      <td>0</td>\n",
       "      <td>0</td>\n",
       "      <td>0</td>\n",
       "      <td>0</td>\n",
       "      <td>0</td>\n",
       "      <td>0</td>\n",
       "      <td>0</td>\n",
       "      <td>0</td>\n",
       "      <td>...</td>\n",
       "      <td>0</td>\n",
       "      <td>0</td>\n",
       "      <td>0</td>\n",
       "      <td>0</td>\n",
       "      <td>0</td>\n",
       "      <td>0</td>\n",
       "      <td>0</td>\n",
       "      <td>0</td>\n",
       "      <td>0</td>\n",
       "      <td>0</td>\n",
       "    </tr>\n",
       "    <tr>\n",
       "      <th>1999</th>\n",
       "      <td>0</td>\n",
       "      <td>0</td>\n",
       "      <td>0</td>\n",
       "      <td>0</td>\n",
       "      <td>0</td>\n",
       "      <td>0</td>\n",
       "      <td>0</td>\n",
       "      <td>0</td>\n",
       "      <td>0</td>\n",
       "      <td>0</td>\n",
       "      <td>...</td>\n",
       "      <td>0</td>\n",
       "      <td>0</td>\n",
       "      <td>0</td>\n",
       "      <td>0</td>\n",
       "      <td>0</td>\n",
       "      <td>0</td>\n",
       "      <td>0</td>\n",
       "      <td>0</td>\n",
       "      <td>0</td>\n",
       "      <td>0</td>\n",
       "    </tr>\n",
       "  </tbody>\n",
       "</table>\n",
       "<p>2000 rows × 23468 columns</p>\n",
       "</div>"
      ],
      "text/plain": [
       "      aa  aaa  aaliyah  aardman  aaron  aback  abandon  abandoned  abandoning  \\\n",
       "0      0    0        0        0      0      0        0          0           0   \n",
       "1      0    0        0        0      0      0        0          0           0   \n",
       "2      0    0        0        0      0      0        0          0           0   \n",
       "3      0    0        0        0      0      0        0          0           0   \n",
       "4      0    0        0        0      0      0        0          0           0   \n",
       "...   ..  ...      ...      ...    ...    ...      ...        ...         ...   \n",
       "1995   0    0        0        0      0      0        0          0           0   \n",
       "1996   0    0        0        0      0      0        0          0           0   \n",
       "1997   0    0        0        0      0      0        0          0           0   \n",
       "1998   0    0        0        0      0      0        0          0           0   \n",
       "1999   0    0        0        0      0      0        0          0           0   \n",
       "\n",
       "      abandonment  ...  zoom  zooming  zooms  zoot  zorg  zorro  zucker  zuko  \\\n",
       "0               0  ...     0        0      0     0     0      0       0     0   \n",
       "1               0  ...     0        0      0     0     0      0       0     0   \n",
       "2               0  ...     0        0      0     0     0      0       0     0   \n",
       "3               0  ...     0        0      0     0     0      0       0     0   \n",
       "4               0  ...     0        0      0     0     0      0       0     0   \n",
       "...           ...  ...   ...      ...    ...   ...   ...    ...     ...   ...   \n",
       "1995            0  ...     0        0      0     0     0      0       0     0   \n",
       "1996            0  ...     0        0      0     0     0      0       0     0   \n",
       "1997            0  ...     0        0      0     0     0      0       0     0   \n",
       "1998            0  ...     0        0      0     0     0      0       0     0   \n",
       "1999            0  ...     0        0      0     0     0      0       0     0   \n",
       "\n",
       "      zwick  zwigoff  \n",
       "0         0        0  \n",
       "1         0        0  \n",
       "2         0        0  \n",
       "3         0        0  \n",
       "4         0        0  \n",
       "...     ...      ...  \n",
       "1995      0        0  \n",
       "1996      0        0  \n",
       "1997      0        0  \n",
       "1998      0        0  \n",
       "1999      0        0  \n",
       "\n",
       "[2000 rows x 23468 columns]"
      ]
     },
     "execution_count": 13,
     "metadata": {},
     "output_type": "execute_result"
    }
   ],
   "source": [
    "tdm_s = pd.DataFrame(X_s.toarray(), columns=vec_s.get_feature_names())\n",
    "\n",
    "tdm_s"
   ]
  },
  {
   "cell_type": "code",
   "execution_count": 14,
   "id": "ecbfcaab",
   "metadata": {},
   "outputs": [],
   "source": [
    "whole_df = pd.concat([whole_df, tdm_s], axis=1)"
   ]
  },
  {
   "cell_type": "code",
   "execution_count": 15,
   "id": "5b48bc5e",
   "metadata": {},
   "outputs": [
    {
     "data": {
      "text/html": [
       "<div>\n",
       "<style scoped>\n",
       "    .dataframe tbody tr th:only-of-type {\n",
       "        vertical-align: middle;\n",
       "    }\n",
       "\n",
       "    .dataframe tbody tr th {\n",
       "        vertical-align: top;\n",
       "    }\n",
       "\n",
       "    .dataframe thead th {\n",
       "        text-align: right;\n",
       "    }\n",
       "</style>\n",
       "<table border=\"1\" class=\"dataframe\">\n",
       "  <thead>\n",
       "    <tr style=\"text-align: right;\">\n",
       "      <th></th>\n",
       "      <th>filename</th>\n",
       "      <th>content</th>\n",
       "      <th>is_pos</th>\n",
       "      <th>aa</th>\n",
       "      <th>aaa</th>\n",
       "      <th>aaliyah</th>\n",
       "      <th>aardman</th>\n",
       "      <th>aaron</th>\n",
       "      <th>aback</th>\n",
       "      <th>abandon</th>\n",
       "      <th>...</th>\n",
       "      <th>zoom</th>\n",
       "      <th>zooming</th>\n",
       "      <th>zooms</th>\n",
       "      <th>zoot</th>\n",
       "      <th>zorg</th>\n",
       "      <th>zorro</th>\n",
       "      <th>zucker</th>\n",
       "      <th>zuko</th>\n",
       "      <th>zwick</th>\n",
       "      <th>zwigoff</th>\n",
       "    </tr>\n",
       "  </thead>\n",
       "  <tbody>\n",
       "    <tr>\n",
       "      <th>0</th>\n",
       "      <td>cv000_29590.txt</td>\n",
       "      <td>films adapted comic books plenty success wheth...</td>\n",
       "      <td>1</td>\n",
       "      <td>0</td>\n",
       "      <td>0</td>\n",
       "      <td>0</td>\n",
       "      <td>0</td>\n",
       "      <td>0</td>\n",
       "      <td>0</td>\n",
       "      <td>0</td>\n",
       "      <td>...</td>\n",
       "      <td>0</td>\n",
       "      <td>0</td>\n",
       "      <td>0</td>\n",
       "      <td>0</td>\n",
       "      <td>0</td>\n",
       "      <td>0</td>\n",
       "      <td>0</td>\n",
       "      <td>0</td>\n",
       "      <td>0</td>\n",
       "      <td>0</td>\n",
       "    </tr>\n",
       "    <tr>\n",
       "      <th>1</th>\n",
       "      <td>cv001_18431.txt</td>\n",
       "      <td>every movie comes along suspect studio every i...</td>\n",
       "      <td>1</td>\n",
       "      <td>0</td>\n",
       "      <td>0</td>\n",
       "      <td>0</td>\n",
       "      <td>0</td>\n",
       "      <td>0</td>\n",
       "      <td>0</td>\n",
       "      <td>0</td>\n",
       "      <td>...</td>\n",
       "      <td>0</td>\n",
       "      <td>0</td>\n",
       "      <td>0</td>\n",
       "      <td>0</td>\n",
       "      <td>0</td>\n",
       "      <td>0</td>\n",
       "      <td>0</td>\n",
       "      <td>0</td>\n",
       "      <td>0</td>\n",
       "      <td>0</td>\n",
       "    </tr>\n",
       "    <tr>\n",
       "      <th>2</th>\n",
       "      <td>cv002_15918.txt</td>\n",
       "      <td>got mail works alot better deserves order make...</td>\n",
       "      <td>1</td>\n",
       "      <td>0</td>\n",
       "      <td>0</td>\n",
       "      <td>0</td>\n",
       "      <td>0</td>\n",
       "      <td>0</td>\n",
       "      <td>0</td>\n",
       "      <td>0</td>\n",
       "      <td>...</td>\n",
       "      <td>0</td>\n",
       "      <td>0</td>\n",
       "      <td>0</td>\n",
       "      <td>0</td>\n",
       "      <td>0</td>\n",
       "      <td>0</td>\n",
       "      <td>0</td>\n",
       "      <td>0</td>\n",
       "      <td>0</td>\n",
       "      <td>0</td>\n",
       "    </tr>\n",
       "  </tbody>\n",
       "</table>\n",
       "<p>3 rows × 23471 columns</p>\n",
       "</div>"
      ],
      "text/plain": [
       "          filename                                            content  is_pos  \\\n",
       "0  cv000_29590.txt  films adapted comic books plenty success wheth...       1   \n",
       "1  cv001_18431.txt  every movie comes along suspect studio every i...       1   \n",
       "2  cv002_15918.txt  got mail works alot better deserves order make...       1   \n",
       "\n",
       "   aa  aaa  aaliyah  aardman  aaron  aback  abandon  ...  zoom  zooming  \\\n",
       "0   0    0        0        0      0      0        0  ...     0        0   \n",
       "1   0    0        0        0      0      0        0  ...     0        0   \n",
       "2   0    0        0        0      0      0        0  ...     0        0   \n",
       "\n",
       "   zooms  zoot  zorg  zorro  zucker  zuko  zwick  zwigoff  \n",
       "0      0     0     0      0       0     0      0        0  \n",
       "1      0     0     0      0       0     0      0        0  \n",
       "2      0     0     0      0       0     0      0        0  \n",
       "\n",
       "[3 rows x 23471 columns]"
      ]
     },
     "execution_count": 15,
     "metadata": {},
     "output_type": "execute_result"
    }
   ],
   "source": [
    "whole_df.head(3)"
   ]
  },
  {
   "cell_type": "markdown",
   "id": "24c2cee2",
   "metadata": {},
   "source": [
    "# Frequency Distribution Plots"
   ]
  },
  {
   "cell_type": "markdown",
   "id": "5fcd005f",
   "metadata": {},
   "source": [
    "### Plot the frequency distribution for the 30 words which occur most frequently in the positive reviews"
   ]
  },
  {
   "cell_type": "code",
   "execution_count": 16,
   "id": "9ead32e4",
   "metadata": {},
   "outputs": [],
   "source": [
    "pos_cnt_df = whole_df[whole_df['is_pos'] == 1].iloc[:,3:].sum()"
   ]
  },
  {
   "cell_type": "code",
   "execution_count": 17,
   "id": "37b61df2",
   "metadata": {
    "scrolled": false
   },
   "outputs": [
    {
     "data": {
      "text/plain": [
       "<AxesSubplot:>"
      ]
     },
     "execution_count": 17,
     "metadata": {},
     "output_type": "execute_result"
    },
    {
     "data": {
      "image/png": "[encoded data removed]",
      "text/plain": [
       "<Figure size 576x396 with 1 Axes>"
      ]
     },
     "metadata": {
      "image/png": {
       "height": 376,
       "width": 490
      }
     },
     "output_type": "display_data"
    }
   ],
   "source": [
    "pos_cnt_df.sort_values(ascending=False)[:30].plot.bar()"
   ]
  },
  {
   "cell_type": "markdown",
   "id": "833ff052",
   "metadata": {},
   "source": [
    "### Plot the frequency distribution for the 30 words which occur most frequently in the negtive reviews"
   ]
  },
  {
   "cell_type": "code",
   "execution_count": 18,
   "id": "9bbe7799",
   "metadata": {},
   "outputs": [
    {
     "data": {
      "text/plain": [
       "<AxesSubplot:>"
      ]
     },
     "execution_count": 18,
     "metadata": {},
     "output_type": "execute_result"
    },
    {
     "data": {
      "image/png": "[encoded data removed]",
      "text/plain": [
       "<Figure size 576x396 with 1 Axes>"
      ]
     },
     "metadata": {
      "image/png": {
       "height": 367,
       "width": 490
      }
     },
     "output_type": "display_data"
    }
   ],
   "source": [
    "neg_cnt_df = whole_df[whole_df['is_pos'] == 0].iloc[:,3:].sum()\n",
    "neg_cnt_df.sort_values(ascending=False)[:30].plot.bar()"
   ]
  },
  {
   "cell_type": "markdown",
   "id": "9cc8535a",
   "metadata": {},
   "source": [
    "### Summary\n",
    "The top 30 words of Positive have like, love, good, best and great that show the emotion of liking. But, like, good, better and best also appear in the Negative reviews. In the negative reviews those words might construct sentences like other films is better than the current one. I think that the 'bad' appeared in the negative reviews can help model identify it is a negative one."
   ]
  },
  {
   "cell_type": "markdown",
   "id": "c2cac6f0",
   "metadata": {},
   "source": [
    "# Naïve Bayes Model Training"
   ]
  },
  {
   "cell_type": "code",
   "execution_count": 19,
   "id": "d0297ec2",
   "metadata": {},
   "outputs": [],
   "source": [
    "from sklearn import metrics\n",
    "\n",
    "def my_confusion_matrix(actuals, predicts):\n",
    "    \n",
    "    actuals_category = pd.Categorical(actuals, categories=[0, 1])\n",
    "    \n",
    "    predicts_category = pd.Categorical(predicts, categories=[0, 1])\n",
    "    \n",
    "    \n",
    "    cor = pd.crosstab(actuals_category, predicts_category, dropna=False, \n",
    "                     rownames = ['actual'], \n",
    "                     colnames = ['predict'])\n",
    "    \n",
    "    #print(cor)\n",
    "    tp = cor.loc[1, 1]\n",
    "    fp = cor.loc[0, 1]\n",
    "    tn = cor.loc[0, 0]\n",
    "    fn = cor.loc[1, 0]\n",
    "    #print(\"tp = %d, fp = %d, tn = %d, fn = %d\" %(tp,fp,tn,fn))\n",
    "    \n",
    "    result_map = {\"tp\":tp, \"fp\":fp, \"tn\":tn, \"fn\":fn}\n",
    "    \n",
    "    # print(result_map)\n",
    "    return result_map\n",
    "\n",
    "# specificity = tn / (tn + fp)\n",
    "def my_specificity(actuals, predicts):\n",
    "    cor_map = my_confusion_matrix(actuals, predicts)\n",
    "    result = (cor_map['tn']) / (cor_map['tn'] + cor_map['fp'])\n",
    "    \n",
    "    #print(\"specificity = %.4f\" %result)\n",
    "    \n",
    "    return result\n",
    "\n",
    "# https://machinelearningmastery.com/probabilistic-model-selection-measures/\n",
    "from math import log\n",
    "from sklearn.metrics import mean_squared_error\n",
    " \n",
    "# calculate aic for regression\n",
    "def calculate_aic(n, mse, num_params):\n",
    "    aic = n * log(mse) + 2 * num_params\n",
    "    return aic\n",
    "\n",
    "# use cross validation to fit train set\n",
    "def my_cls_cv(model_name, model_, X_df, y_df, cv = 5, len_num_params = 0):\n",
    "    \n",
    "    auc_arr = []\n",
    "    accuracy_arr = []\n",
    "    precision_arr = []\n",
    "    recall_arr = []\n",
    "    f1_arr = []\n",
    "    specificity_arr = []\n",
    "    classErrR_arr = [] # classfication error rate = 1 - accuracy\n",
    "    aic_arr = []\n",
    "    \n",
    "    kf = KFold(n_splits=cv, shuffle=True, random_state=1)\n",
    "    \n",
    "    for train_idx, test_idx in kf.split(X_df):\n",
    "\n",
    "        X_train_, X_test_ = X_df.iloc[train_idx], X_df.iloc[test_idx]\n",
    "        y_train_, y_test_ = y_df.iloc[train_idx], y_df.iloc[test_idx]\n",
    "\n",
    "        #Train the model\n",
    "        model_.fit(X_train_, y_train_) #Training the model\n",
    "        \n",
    "        fpr, tpr, thresholds = metrics.roc_curve(y_test_, model_.predict(X_test_))\n",
    "        auc_ = metrics.auc(fpr, tpr)\n",
    "        auc_arr.append(auc_)\n",
    "        \n",
    "        accuracy = metrics.accuracy_score(y_test_, model_.predict(X_test_))\n",
    "        accuracy_arr.append(accuracy)\n",
    "        \n",
    "        precision = metrics.precision_score(y_test_, model_.predict(X_test_))\n",
    "        precision_arr.append(precision)\n",
    "        \n",
    "        recall = metrics.recall_score(y_test_, model_.predict(X_test_))\n",
    "        recall_arr.append(recall)\n",
    "        \n",
    "        f1 = metrics.f1_score(y_test_, model_.predict(X_test_))\n",
    "        f1_arr.append(f1)\n",
    "        \n",
    "        specificity = my_specificity(y_test_, model_.predict(X_test_))\n",
    "        specificity_arr.append(specificity)\n",
    "        \n",
    "        classErrR_arr.append(1 - accuracy)\n",
    "        \n",
    "        # calculate the error\n",
    "        mse = mean_squared_error(y_test_, model_.predict(X_test_))\n",
    "        aic = calculate_aic(len(y_test_), mse, len_num_params)\n",
    "        aic_arr.append(aic)\n",
    "        \n",
    "    #print(f\"On the KFold = %d test set: Avg. accuracy = %.4f, Avg. precision = %.4f, Avg. auc = %.4f\" %(cv, np.mean(accuracy_arr), np.mean(precision_arr), np.mean(roc_arr)))\n",
    "    \n",
    "    rst_dic = {\"Features\":len_num_params, \"Avg_accuracy\":np.mean(accuracy_arr), \"Avg_precision\": np.mean(precision_arr), \n",
    "               \"Avg_auc\" : np.mean(auc_arr), \"Avg_recall\": np.mean(recall_arr), \"Avg_f1\": np.mean(f1_arr), \n",
    "               \"Avg_specificity\": np.mean(specificity_arr), \"Avg_classErrR\": np.mean(classErrR_arr), \"Avg_AIC\": np.mean(aic_arr)}\n",
    "    \n",
    "    return rst_dic"
   ]
  },
  {
   "cell_type": "markdown",
   "id": "25789e0b",
   "metadata": {},
   "source": [
    "### Split train and test set"
   ]
  },
  {
   "cell_type": "code",
   "execution_count": 20,
   "id": "4f68291b",
   "metadata": {},
   "outputs": [],
   "source": [
    "# shuffle the dataframe\n",
    "from sklearn.utils import shuffle\n",
    "whole_df = shuffle(whole_df)"
   ]
  },
  {
   "cell_type": "code",
   "execution_count": 21,
   "id": "1da4db20",
   "metadata": {},
   "outputs": [],
   "source": [
    "# split into train and test set\n",
    "y = whole_df['is_pos']\n",
    "X = whole_df.drop(columns=['filename','content', 'is_pos'])\n",
    "X_train, X_test, y_train, y_test = train_test_split(X, y, test_size=0.25, random_state=42)"
   ]
  },
  {
   "cell_type": "code",
   "execution_count": 22,
   "id": "82dba98b",
   "metadata": {},
   "outputs": [
    {
     "data": {
      "text/html": [
       "<div>\n",
       "<style scoped>\n",
       "    .dataframe tbody tr th:only-of-type {\n",
       "        vertical-align: middle;\n",
       "    }\n",
       "\n",
       "    .dataframe tbody tr th {\n",
       "        vertical-align: top;\n",
       "    }\n",
       "\n",
       "    .dataframe thead th {\n",
       "        text-align: right;\n",
       "    }\n",
       "</style>\n",
       "<table border=\"1\" class=\"dataframe\">\n",
       "  <thead>\n",
       "    <tr style=\"text-align: right;\">\n",
       "      <th></th>\n",
       "      <th>aa</th>\n",
       "      <th>aaa</th>\n",
       "      <th>aaliyah</th>\n",
       "      <th>aardman</th>\n",
       "      <th>aaron</th>\n",
       "      <th>aback</th>\n",
       "      <th>abandon</th>\n",
       "      <th>abandoned</th>\n",
       "      <th>abandoning</th>\n",
       "      <th>abandonment</th>\n",
       "      <th>...</th>\n",
       "      <th>zoom</th>\n",
       "      <th>zooming</th>\n",
       "      <th>zooms</th>\n",
       "      <th>zoot</th>\n",
       "      <th>zorg</th>\n",
       "      <th>zorro</th>\n",
       "      <th>zucker</th>\n",
       "      <th>zuko</th>\n",
       "      <th>zwick</th>\n",
       "      <th>zwigoff</th>\n",
       "    </tr>\n",
       "  </thead>\n",
       "  <tbody>\n",
       "    <tr>\n",
       "      <th>1854</th>\n",
       "      <td>0</td>\n",
       "      <td>0</td>\n",
       "      <td>0</td>\n",
       "      <td>0</td>\n",
       "      <td>0</td>\n",
       "      <td>0</td>\n",
       "      <td>0</td>\n",
       "      <td>0</td>\n",
       "      <td>0</td>\n",
       "      <td>0</td>\n",
       "      <td>...</td>\n",
       "      <td>0</td>\n",
       "      <td>0</td>\n",
       "      <td>0</td>\n",
       "      <td>0</td>\n",
       "      <td>0</td>\n",
       "      <td>0</td>\n",
       "      <td>0</td>\n",
       "      <td>0</td>\n",
       "      <td>0</td>\n",
       "      <td>0</td>\n",
       "    </tr>\n",
       "    <tr>\n",
       "      <th>1315</th>\n",
       "      <td>0</td>\n",
       "      <td>0</td>\n",
       "      <td>0</td>\n",
       "      <td>0</td>\n",
       "      <td>0</td>\n",
       "      <td>0</td>\n",
       "      <td>0</td>\n",
       "      <td>0</td>\n",
       "      <td>0</td>\n",
       "      <td>0</td>\n",
       "      <td>...</td>\n",
       "      <td>0</td>\n",
       "      <td>0</td>\n",
       "      <td>0</td>\n",
       "      <td>0</td>\n",
       "      <td>0</td>\n",
       "      <td>0</td>\n",
       "      <td>0</td>\n",
       "      <td>0</td>\n",
       "      <td>0</td>\n",
       "      <td>0</td>\n",
       "    </tr>\n",
       "    <tr>\n",
       "      <th>701</th>\n",
       "      <td>0</td>\n",
       "      <td>0</td>\n",
       "      <td>0</td>\n",
       "      <td>0</td>\n",
       "      <td>0</td>\n",
       "      <td>0</td>\n",
       "      <td>0</td>\n",
       "      <td>0</td>\n",
       "      <td>0</td>\n",
       "      <td>0</td>\n",
       "      <td>...</td>\n",
       "      <td>0</td>\n",
       "      <td>0</td>\n",
       "      <td>0</td>\n",
       "      <td>0</td>\n",
       "      <td>0</td>\n",
       "      <td>0</td>\n",
       "      <td>0</td>\n",
       "      <td>0</td>\n",
       "      <td>0</td>\n",
       "      <td>0</td>\n",
       "    </tr>\n",
       "  </tbody>\n",
       "</table>\n",
       "<p>3 rows × 23467 columns</p>\n",
       "</div>"
      ],
      "text/plain": [
       "      aa  aaa  aaliyah  aardman  aaron  aback  abandon  abandoned  abandoning  \\\n",
       "1854   0    0        0        0      0      0        0          0           0   \n",
       "1315   0    0        0        0      0      0        0          0           0   \n",
       "701    0    0        0        0      0      0        0          0           0   \n",
       "\n",
       "      abandonment  ...  zoom  zooming  zooms  zoot  zorg  zorro  zucker  zuko  \\\n",
       "1854            0  ...     0        0      0     0     0      0       0     0   \n",
       "1315            0  ...     0        0      0     0     0      0       0     0   \n",
       "701             0  ...     0        0      0     0     0      0       0     0   \n",
       "\n",
       "      zwick  zwigoff  \n",
       "1854      0        0  \n",
       "1315      0        0  \n",
       "701       0        0  \n",
       "\n",
       "[3 rows x 23467 columns]"
      ]
     },
     "execution_count": 22,
     "metadata": {},
     "output_type": "execute_result"
    }
   ],
   "source": [
    "X_train.head(3)"
   ]
  },
  {
   "cell_type": "code",
   "execution_count": 23,
   "id": "3697948c",
   "metadata": {},
   "outputs": [
    {
     "data": {
      "text/plain": [
       "1    754\n",
       "0    746\n",
       "Name: is_pos, dtype: int64"
      ]
     },
     "execution_count": 23,
     "metadata": {},
     "output_type": "execute_result"
    }
   ],
   "source": [
    "# check the frequence of response\n",
    "y_train.value_counts()"
   ]
  },
  {
   "cell_type": "markdown",
   "id": "613d570d",
   "metadata": {},
   "source": [
    "It is a balance response."
   ]
  },
  {
   "cell_type": "code",
   "execution_count": 24,
   "id": "6a9c7ebb",
   "metadata": {},
   "outputs": [
    {
     "data": {
      "text/plain": [
       "MultinomialNB()"
      ]
     },
     "execution_count": 24,
     "metadata": {},
     "output_type": "execute_result"
    }
   ],
   "source": [
    "# Using MultinomialNB\n",
    "from sklearn.naive_bayes import MultinomialNB\n",
    "from sklearn.model_selection import cross_val_score\n",
    "model_MNB = MultinomialNB()\n",
    "model_MNB.fit(X_train, y_train)"
   ]
  },
  {
   "cell_type": "code",
   "execution_count": 25,
   "id": "6ea2a138",
   "metadata": {},
   "outputs": [
    {
     "data": {
      "text/html": [
       "<div>\n",
       "<style scoped>\n",
       "    .dataframe tbody tr th:only-of-type {\n",
       "        vertical-align: middle;\n",
       "    }\n",
       "\n",
       "    .dataframe tbody tr th {\n",
       "        vertical-align: top;\n",
       "    }\n",
       "\n",
       "    .dataframe thead th {\n",
       "        text-align: right;\n",
       "    }\n",
       "</style>\n",
       "<table border=\"1\" class=\"dataframe\">\n",
       "  <thead>\n",
       "    <tr style=\"text-align: right;\">\n",
       "      <th></th>\n",
       "      <th>Features</th>\n",
       "      <th>Avg_accuracy</th>\n",
       "      <th>Avg_precision</th>\n",
       "      <th>Avg_auc</th>\n",
       "      <th>Avg_recall</th>\n",
       "      <th>Avg_f1</th>\n",
       "      <th>Avg_specificity</th>\n",
       "      <th>Avg_classErrR</th>\n",
       "      <th>Avg_AIC</th>\n",
       "    </tr>\n",
       "  </thead>\n",
       "  <tbody>\n",
       "    <tr>\n",
       "      <th>0</th>\n",
       "      <td>23467</td>\n",
       "      <td>0.796667</td>\n",
       "      <td>0.811039</td>\n",
       "      <td>0.796561</td>\n",
       "      <td>0.774769</td>\n",
       "      <td>0.792076</td>\n",
       "      <td>0.818352</td>\n",
       "      <td>0.203333</td>\n",
       "      <td>46452.697716</td>\n",
       "    </tr>\n",
       "  </tbody>\n",
       "</table>\n",
       "</div>"
      ],
      "text/plain": [
       "   Features  Avg_accuracy  Avg_precision   Avg_auc  Avg_recall    Avg_f1  \\\n",
       "0     23467      0.796667       0.811039  0.796561    0.774769  0.792076   \n",
       "\n",
       "   Avg_specificity  Avg_classErrR       Avg_AIC  \n",
       "0         0.818352       0.203333  46452.697716  "
      ]
     },
     "execution_count": 25,
     "metadata": {},
     "output_type": "execute_result"
    }
   ],
   "source": [
    "mnb_result_dic = my_cls_cv(\"MultinomialNB\", model_MNB, X_train, y_train, cv = 5, len_num_params = len(X_train.columns))\n",
    "\n",
    "# print the model result\n",
    "mnb_result_df = pd.DataFrame(mnb_result_dic, index=[0])\n",
    "mnb_result_df"
   ]
  },
  {
   "cell_type": "markdown",
   "id": "a9b1013e",
   "metadata": {},
   "source": [
    "The cross validation shows that the model gets Avg. accuracy with 0.79, Avg. precision 0.81 and Avg. recall with 0.77. The response is balanced, so the results of cross validation for the model are acceptable."
   ]
  },
  {
   "cell_type": "markdown",
   "id": "c3eb29ba",
   "metadata": {},
   "source": [
    "# Model Testing\n",
    "- Using test set to test the model\n",
    "- Identify, display and discuss the 30 most informative features\n",
    "- Classifing a new review whether is positive or negative "
   ]
  },
  {
   "cell_type": "markdown",
   "id": "7aa11667",
   "metadata": {},
   "source": [
    "### Using test set to test the model"
   ]
  },
  {
   "cell_type": "code",
   "execution_count": 26,
   "id": "2bcb8e83",
   "metadata": {},
   "outputs": [
    {
     "name": "stdout",
     "output_type": "stream",
     "text": [
      "              precision    recall  f1-score   support\n",
      "\n",
      "           0       0.82      0.85      0.84       254\n",
      "           1       0.84      0.81      0.83       246\n",
      "\n",
      "    accuracy                           0.83       500\n",
      "   macro avg       0.83      0.83      0.83       500\n",
      "weighted avg       0.83      0.83      0.83       500\n",
      "\n"
     ]
    }
   ],
   "source": [
    "y_predict = model_MNB.predict(X_test)\n",
    "\n",
    "print(metrics.classification_report(y_test, y_predict))"
   ]
  },
  {
   "cell_type": "code",
   "execution_count": 27,
   "id": "2331f488",
   "metadata": {},
   "outputs": [
    {
     "data": {
      "text/plain": [
       "<sklearn.metrics._plot.confusion_matrix.ConfusionMatrixDisplay at 0x23e68270a00>"
      ]
     },
     "execution_count": 27,
     "metadata": {},
     "output_type": "execute_result"
    },
    {
     "data": {
      "image/png": "[encoded data removed]",
      "text/plain": [
       "<Figure size 576x396 with 2 Axes>"
      ]
     },
     "metadata": {
      "image/png": {
       "height": 343,
       "width": 400
      }
     },
     "output_type": "display_data"
    }
   ],
   "source": [
    "# show the confusion matrix\n",
    "metrics.plot_confusion_matrix(model_MNB, X_test, y_test)"
   ]
  },
  {
   "cell_type": "code",
   "execution_count": 28,
   "id": "d6af5453",
   "metadata": {},
   "outputs": [
    {
     "data": {
      "image/png": "[encoded data removed]",
      "text/plain": [
       "<Figure size 432x432 with 1 Axes>"
      ]
     },
     "metadata": {
      "image/png": {
       "height": 386,
       "width": 391
      }
     },
     "output_type": "display_data"
    },
    {
     "data": {
      "text/plain": [
       "<AxesSubplot:title={'center':'ROC Curves for MultinomialNB'}, xlabel='False Positive Rate', ylabel='True Positive Rate'>"
      ]
     },
     "execution_count": 28,
     "metadata": {},
     "output_type": "execute_result"
    }
   ],
   "source": [
    "# draw a ROC curve.\n",
    "from yellowbrick.classifier import ROCAUC\n",
    "fig, ax = plt.subplots(figsize=(6, 6))\n",
    "roc_viz = ROCAUC(model_MNB)\n",
    "roc_viz.fit(X_test, y_test)\n",
    "roc_viz.score(X_test, y_test)\n",
    "roc_viz.poof()"
   ]
  },
  {
   "cell_type": "markdown",
   "id": "b68f94c2",
   "metadata": {},
   "source": [
    "The model on the test set has:\n",
    "\n",
    "accuracy = 0.83\n",
    "\n",
    "recall = 0.81\n",
    "\n",
    "precision = 0.84\n",
    "\n",
    "AUC = 0.88\n",
    "\n",
    "The model has a good performance on the test set."
   ]
  },
  {
   "cell_type": "code",
   "execution_count": null,
   "id": "8f027dd7",
   "metadata": {},
   "outputs": [],
   "source": []
  },
  {
   "cell_type": "markdown",
   "id": "636fc4a6",
   "metadata": {},
   "source": [
    "### Identify, display and discuss the 30 most informative features"
   ]
  },
  {
   "cell_type": "code",
   "execution_count": 29,
   "id": "ca863862",
   "metadata": {},
   "outputs": [],
   "source": [
    "feature_names = X_train.columns"
   ]
  },
  {
   "cell_type": "markdown",
   "id": "93117560",
   "metadata": {},
   "source": [
    "feature_log_prob_ ： Empirical log probability of features given a class, P(x_i|y).\n",
    "\n",
    "The actual probability of P(x_i|y) is : np.exp(1) ** feature_log_prob_\n",
    "\n",
    "np.exp(1) = 2.7182\n",
    "\n",
    "\n",
    "N_yi = 1  # \"best\" appears only once in class `1`\n",
    "\n",
    "N_y = 7   # There are total 7 features (count of all words) in class `1`\n",
    "\n",
    "alpha = 1 # default value as per sklearn\n",
    "\n",
    "n = 10    # size of vocabulary\n",
    "\n",
    "Required_probability = (1+1)/(7+1*10) = 0.11764"
   ]
  },
  {
   "cell_type": "code",
   "execution_count": 30,
   "id": "7ae38055",
   "metadata": {},
   "outputs": [],
   "source": [
    "# feature_log_prob_： Empirical log probability of features given a class, P(x_i|y).\n",
    "log_prob_with_fns = sorted(zip(model_MNB.feature_log_prob_[0], feature_names), reverse = True)"
   ]
  },
  {
   "cell_type": "code",
   "execution_count": 31,
   "id": "aa675f70",
   "metadata": {},
   "outputs": [],
   "source": [
    "whole_cnt_df = whole_df.iloc[:,3:].sum()"
   ]
  },
  {
   "cell_type": "code",
   "execution_count": 32,
   "id": "17d3f362",
   "metadata": {},
   "outputs": [
    {
     "name": "stdout",
     "output_type": "stream",
     "text": [
      "\tprob    |     feature          |     \tTotal cnt/Pos cnt/Neg cnt\n",
      "\t----------------------------------------------------\n",
      "\t0.0139  |\tfilm           |\t9519/5232/4287\n",
      "\t0.0099  |\tmovie          |\t5775/2528/3247\n",
      "\t0.0060  |\tlike           |\t3691/1803/1888\n",
      "\t0.0038  |\tgood           |\t2411/1248/1163\n",
      "\t0.0037  |\ttime           |\t2411/1243/1168\n",
      "\t0.0031  |\tbad            |\t1396/361/1035\n",
      "\t0.0030  |\tcharacter      |\t2020/1078/942\n",
      "\t0.0029  |\tstory          |\t2170/1247/923\n",
      "\t0.0029  |\tcharacters     |\t1859/986/873\n",
      "\t0.0028  |\tplot           |\t1513/596/917\n",
      "\t0.0027  |\tmake           |\t1642/791/851\n",
      "\t0.0024  |\treally         |\t1565/778/787\n",
      "\t0.0023  |\tway            |\t1693/929/764\n",
      "\t0.0022  |\tlittle         |\t1502/776/726\n",
      "\t0.0021  |\tfilms          |\t1536/884/652\n",
      "\t0.0021  |\tpeople         |\t1456/790/666\n",
      "\t0.0021  |\tdirector       |\t1237/586/651\n",
      "\t0.0021  |\tscene          |\t1397/727/670\n",
      "\t0.0020  |\tknow           |\t1220/572/648\n",
      "\t0.0020  |\tman            |\t1401/764/637\n",
      "\t0.0020  |\tscenes         |\t1274/638/636\n",
      "\t0.0019  |\tbig            |\t1065/468/597\n",
      "\t0.0018  |\taction         |\t1172/520/652\n",
      "\t0.0018  |\tbetter         |\t922/391/531\n",
      "\t0.0017  |\tmovies         |\t1206/635/571\n",
      "\t0.0017  |\tlife           |\t1589/1059/530\n",
      "\t0.0017  |\tnew            |\t1292/723/569\n",
      "\t0.0016  |\twork           |\t1024/520/504\n",
      "\t0.0016  |\tbest           |\t1333/829/504\n",
      "\t0.0016  |\tscript         |\t778/300/478\n"
     ]
    }
   ],
   "source": [
    "# show the most informative features\n",
    "n=30\n",
    "print(\"\\tprob    |     feature          |     \\tTotal cnt/Pos cnt/Neg cnt\")\n",
    "print(\"\\t----------------------------------------------------\")\n",
    "for log_prob_, f_ in log_prob_with_fns[:n]:\n",
    "    print(\"\\t%.4f  |\\t%-15s|\\t%d/%d/%d\" % (np.exp(1) ** log_prob_, f_, whole_cnt_df[f_], pos_cnt_df[f_], neg_cnt_df[f_]))"
   ]
  },
  {
   "cell_type": "markdown",
   "id": "038093b2",
   "metadata": {},
   "source": [
    "In the most informative features, we can see some emotional words, for example 'like', 'good', 'bad', 'better', and 'best'. The 'bad' might more help identify the negative reviews rather than the positive reviews."
   ]
  },
  {
   "cell_type": "markdown",
   "id": "e645a04a",
   "metadata": {},
   "source": [
    "### Classifing a new review whether is positive or negative "
   ]
  },
  {
   "cell_type": "markdown",
   "id": "92219a7e",
   "metadata": {},
   "source": [
    "Load the new comment & remove stop words and special characters"
   ]
  },
  {
   "cell_type": "code",
   "execution_count": 33,
   "id": "a0bc3273",
   "metadata": {},
   "outputs": [],
   "source": [
    "new_cmt_path = \"https://raw.githubusercontent.com/Yuehao-Wang/DAV-6150/main/data/txt_sentoken/new_comment.txt\""
   ]
  },
  {
   "cell_type": "code",
   "execution_count": 34,
   "id": "68db362b",
   "metadata": {},
   "outputs": [
    {
     "data": {
      "text/plain": [
       "'things like film remember strongly man ingeniously fake looking polar bear costume funnier bear hercules new york extra less believable laugh ex drug addict martian tics child actors recite lines slowly carefully newspaper headline declaring santa kidnapped giant robot least appealing acting job film must mother claus elves frozen martians weapons seemed display exaggerated amount fear perhaps preferred acting style'"
      ]
     },
     "execution_count": 34,
     "metadata": {},
     "output_type": "execute_result"
    }
   ],
   "source": [
    "# load comment & remove stopwords, special characters and lowcase\n",
    "new_comment = get_txt(new_cmt_path)\n",
    "new_comment"
   ]
  },
  {
   "cell_type": "code",
   "execution_count": 35,
   "id": "206f6cac",
   "metadata": {},
   "outputs": [],
   "source": [
    "# Laplace method, return the multiply Probabilities.\n",
    "import math\n",
    "from nltk.tokenize import word_tokenize\n",
    "\n",
    "def laplace_probability(cnt_df, new_comment):\n",
    "    \n",
    "    # count all values in df, it is not length of df\n",
    "    total_cnts_features_pos = cnt_df.sum(axis=0)\n",
    "    pos_cnt_dic = cnt_df.to_dict()\n",
    "    \n",
    "    prob_pos_with_ls = []\n",
    "    \n",
    "    # split sentence to words\n",
    "    new_word_list = word_tokenize(new_comment)\n",
    "    # length of all features.\n",
    "    len_total_features = len(X_train.columns)\n",
    "\n",
    "    for word in new_word_list:\n",
    "        freq = 0\n",
    "        if word in pos_cnt_dic:\n",
    "            freq = pos_cnt_dic[word]\n",
    "\n",
    "        prob_pos_with_ls.append((freq + 1)/(total_cnts_features_pos + len_total_features))\n",
    "\n",
    "    new_comment_laplace_pos_dic = dict(zip(new_word_list, prob_pos_with_ls))\n",
    "\n",
    "    v1 = math.prod(new_comment_laplace_pos_dic.values())\n",
    "    return v1"
   ]
  },
  {
   "cell_type": "code",
   "execution_count": 36,
   "id": "f4df8ff5",
   "metadata": {},
   "outputs": [],
   "source": [
    "# P(pos) = 0.5, because we have 1000 positive and 1000 negtive\n",
    "P_pos = 0.5\n",
    "\n",
    "# P(neg) = 0.5, because we have 1000 positive and 1000 negtive\n",
    "P_neg = 0.5"
   ]
  },
  {
   "cell_type": "code",
   "execution_count": 37,
   "id": "ea6e691b",
   "metadata": {},
   "outputs": [
    {
     "name": "stdout",
     "output_type": "stream",
     "text": [
      "P(new comment|pos) = 3.227165456317299e-234\n"
     ]
    }
   ],
   "source": [
    "# get the laplace probability of P(new comment|pos)\n",
    "P_new_pos = laplace_probability(pos_cnt_df, new_comment)\n",
    "print(\"P(new comment|pos) = \" + str(P_new_pos))"
   ]
  },
  {
   "cell_type": "code",
   "execution_count": 38,
   "id": "9cc45b9d",
   "metadata": {},
   "outputs": [
    {
     "name": "stdout",
     "output_type": "stream",
     "text": [
      "P(pos|new comment) = P(new comment|pos)*P(pos) = 1.6135827281586495e-234\n"
     ]
    }
   ],
   "source": [
    "# P(pos|new comment) = P(new comment|pos)*P(pos)\n",
    "P_pos_new = np.multiply(P_new_pos, P_pos)\n",
    "\n",
    "print(\"P(pos|new comment) = P(new comment|pos)*P(pos) = \" + str(P_pos_new))\n"
   ]
  },
  {
   "cell_type": "code",
   "execution_count": 39,
   "id": "241bdb35",
   "metadata": {},
   "outputs": [
    {
     "name": "stdout",
     "output_type": "stream",
     "text": [
      "P(new comment|neg) = 1.236675436445567e-233\n"
     ]
    }
   ],
   "source": [
    "# get the laplace probability of P(new comment|neg)\n",
    "P_new_neg = laplace_probability(neg_cnt_df, new_comment)\n",
    "print(\"P(new comment|neg) = \" + str(P_new_neg))"
   ]
  },
  {
   "cell_type": "code",
   "execution_count": 40,
   "id": "c1883f5e",
   "metadata": {},
   "outputs": [
    {
     "name": "stdout",
     "output_type": "stream",
     "text": [
      "P(neg|new comment) = P(new comment|neg)*P(neg) = 6.183377182227835e-234\n"
     ]
    }
   ],
   "source": [
    "# P(neg|new comment) = P(new comment|neg)*P(neg)\n",
    "P_neg_new = np.multiply(P_new_neg, P_neg)\n",
    "\n",
    "print(\"P(neg|new comment) = P(new comment|neg)*P(neg) = \" + str(P_neg_new))\n"
   ]
  },
  {
   "cell_type": "code",
   "execution_count": 41,
   "id": "b9908354",
   "metadata": {},
   "outputs": [
    {
     "name": "stdout",
     "output_type": "stream",
     "text": [
      "The new comment is more negtive\n"
     ]
    }
   ],
   "source": [
    "if P_pos_new > P_neg_new:\n",
    "    print(\"The new comment is more positive\")\n",
    "else:\n",
    "    print(\"The new comment is more negtive\")"
   ]
  },
  {
   "cell_type": "markdown",
   "id": "a6401045",
   "metadata": {},
   "source": [
    "Therefore the new comment will be classified as negtive."
   ]
  },
  {
   "attachments": {},
   "cell_type": "markdown",
   "id": "6af20288",
   "metadata": {},
   "source": [
    "# Conclustion\n",
    "\n",
    "The stopwords can reduce the features of Term-Document matrix. Actually, I did a test that removed the don and doesn from stopwords. The performance of model with don and doesn is less than the model without don and doesn.\n",
    "\n",
    "The frequence of bad (pos/neg = 361/1035), better (pos/neg = 391/531) and best (pos/neg = 829/504) between positive and negative can help model identify whether the review is positive or not. \n",
    "\n",
    "The laplace method can help identify a new content that might not appear in the train and test set whether is positive or not."
   ]
  },
  {
   "cell_type": "markdown",
   "id": "6b381951",
   "metadata": {},
   "source": [
    "# Reference\n",
    "\n",
    "http://blog.chapagain.com.np/python-nltk-sentiment-analysis-on-movie-reviews-natural-language-processing-nlp/\n",
    "\n",
    "https://medium.com/analytics-vidhya/naive-bayes-classifier-for-text-classification-556fabaf252b\n",
    "\n",
    "https://scikit-learn.org/stable/modules/generated/sklearn.naive_bayes.MultinomialNB.html\n",
    "\n",
    "https://scikit-learn.org/stable/modules/generated/sklearn.feature_extraction.text.CountVectorizer.html\n",
    "\n",
    "https://www.crummy.com/software/BeautifulSoup/bs4/doc/"
   ]
  },
  {
   "cell_type": "code",
   "execution_count": null,
   "id": "95399b73",
   "metadata": {},
   "outputs": [],
   "source": []
  }
 ],
 "metadata": {
  "kernelspec": {
   "display_name": "Python 3 (ipykernel)",
   "language": "python",
   "name": "python3"
  },
  "language_info": {
   "codemirror_mode": {
    "name": "ipython",
    "version": 3
   },
   "file_extension": ".py",
   "mimetype": "text/x-python",
   "name": "python",
   "nbconvert_exporter": "python",
   "pygments_lexer": "ipython3",
   "version": "3.8.5"
  }
 },
 "nbformat": 4,
 "nbformat_minor": 5
}
